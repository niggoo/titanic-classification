{
 "cells": [
  {
   "cell_type": "code",
   "execution_count": 1,
   "id": "c221c748",
   "metadata": {
    "_cell_guid": "b1076dfc-b9ad-4769-8c92-a6c4dae69d19",
    "_uuid": "8f2839f25d086af736a60e9eeb907d3b93b6e0e5",
    "execution": {
     "iopub.execute_input": "2022-09-06T12:01:00.914646Z",
     "iopub.status.busy": "2022-09-06T12:01:00.913438Z",
     "iopub.status.idle": "2022-09-06T12:01:02.349485Z",
     "shell.execute_reply": "2022-09-06T12:01:02.348099Z"
    },
    "papermill": {
     "duration": 1.459347,
     "end_time": "2022-09-06T12:01:02.352221",
     "exception": false,
     "start_time": "2022-09-06T12:01:00.892874",
     "status": "completed"
    },
    "tags": []
   },
   "outputs": [],
   "source": [
    "# This Python 3 environment comes with many helpful analytics libraries installed\n",
    "# It is defined by the kaggle/python Docker image: https://github.com/kaggle/docker-python\n",
    "# For example, here's several helpful packages to load\n",
    "\n",
    "import numpy as np\n",
    "import pandas as pd\n",
    "import seaborn as sns\n",
    "import matplotlib.pyplot as plt\n",
    "\n",
    "from sklearn import preprocessing\n",
    "from sklearn.neighbors import KNeighborsClassifier\n",
    "from sklearn.svm import SVC\n",
    "from sklearn.ensemble import RandomForestClassifier, AdaBoostClassifier, GradientBoostingClassifier, VotingClassifier, StackingClassifier\n",
    "from sklearn.model_selection import ParameterGrid, train_test_split\n",
    "from sklearn.dummy import DummyClassifier\n",
    "from sklearn.model_selection import GridSearchCV, StratifiedKFold\n",
    "from sklearn.linear_model import LogisticRegression\n",
    "from sklearn.preprocessing import StandardScaler\n",
    "from sklearn.decomposition import PCA\n",
    "from sklearn.discriminant_analysis import QuadraticDiscriminantAnalysis\n",
    "from sklearn.metrics import ConfusionMatrixDisplay\n",
    "from sklearn.pipeline import Pipeline\n",
    "\n",
    "import itertools\n",
    "\n",
    "from tqdm import tqdm\n",
    "\n",
    "data_dir=\"/kaggle/input/titanic\""
   ]
  },
  {
   "cell_type": "markdown",
   "id": "c75254a4",
   "metadata": {
    "papermill": {
     "duration": 0.015918,
     "end_time": "2022-09-06T12:01:02.384450",
     "exception": false,
     "start_time": "2022-09-06T12:01:02.368532",
     "status": "completed"
    },
    "tags": []
   },
   "source": [
    "# Load data"
   ]
  },
  {
   "cell_type": "code",
   "execution_count": 2,
   "id": "e4d41401",
   "metadata": {
    "execution": {
     "iopub.execute_input": "2022-09-06T12:01:02.418875Z",
     "iopub.status.busy": "2022-09-06T12:01:02.418180Z",
     "iopub.status.idle": "2022-09-06T12:01:02.507781Z",
     "shell.execute_reply": "2022-09-06T12:01:02.507054Z"
    },
    "papermill": {
     "duration": 0.109503,
     "end_time": "2022-09-06T12:01:02.510213",
     "exception": false,
     "start_time": "2022-09-06T12:01:02.400710",
     "status": "completed"
    },
    "tags": []
   },
   "outputs": [
    {
     "data": {
      "text/html": [
       "<div>\n",
       "<style scoped>\n",
       "    .dataframe tbody tr th:only-of-type {\n",
       "        vertical-align: middle;\n",
       "    }\n",
       "\n",
       "    .dataframe tbody tr th {\n",
       "        vertical-align: top;\n",
       "    }\n",
       "\n",
       "    .dataframe thead th {\n",
       "        text-align: right;\n",
       "    }\n",
       "</style>\n",
       "<table border=\"1\" class=\"dataframe\">\n",
       "  <thead>\n",
       "    <tr style=\"text-align: right;\">\n",
       "      <th></th>\n",
       "      <th>PassengerId</th>\n",
       "      <th>Survived</th>\n",
       "      <th>Pclass</th>\n",
       "      <th>Name</th>\n",
       "      <th>Sex</th>\n",
       "      <th>Age</th>\n",
       "      <th>SibSp</th>\n",
       "      <th>Parch</th>\n",
       "      <th>Ticket</th>\n",
       "      <th>Fare</th>\n",
       "      <th>Cabin</th>\n",
       "      <th>Embarked</th>\n",
       "    </tr>\n",
       "  </thead>\n",
       "  <tbody>\n",
       "    <tr>\n",
       "      <th>331</th>\n",
       "      <td>332</td>\n",
       "      <td>0</td>\n",
       "      <td>1</td>\n",
       "      <td>Partner, Mr. Austen</td>\n",
       "      <td>male</td>\n",
       "      <td>45.5</td>\n",
       "      <td>0</td>\n",
       "      <td>0</td>\n",
       "      <td>113043</td>\n",
       "      <td>28.5000</td>\n",
       "      <td>C124</td>\n",
       "      <td>S</td>\n",
       "    </tr>\n",
       "    <tr>\n",
       "      <th>733</th>\n",
       "      <td>734</td>\n",
       "      <td>0</td>\n",
       "      <td>2</td>\n",
       "      <td>Berriman, Mr. William John</td>\n",
       "      <td>male</td>\n",
       "      <td>23.0</td>\n",
       "      <td>0</td>\n",
       "      <td>0</td>\n",
       "      <td>28425</td>\n",
       "      <td>13.0000</td>\n",
       "      <td>NaN</td>\n",
       "      <td>S</td>\n",
       "    </tr>\n",
       "    <tr>\n",
       "      <th>382</th>\n",
       "      <td>383</td>\n",
       "      <td>0</td>\n",
       "      <td>3</td>\n",
       "      <td>Tikkanen, Mr. Juho</td>\n",
       "      <td>male</td>\n",
       "      <td>32.0</td>\n",
       "      <td>0</td>\n",
       "      <td>0</td>\n",
       "      <td>STON/O 2. 3101293</td>\n",
       "      <td>7.9250</td>\n",
       "      <td>NaN</td>\n",
       "      <td>S</td>\n",
       "    </tr>\n",
       "    <tr>\n",
       "      <th>704</th>\n",
       "      <td>705</td>\n",
       "      <td>0</td>\n",
       "      <td>3</td>\n",
       "      <td>Hansen, Mr. Henrik Juul</td>\n",
       "      <td>male</td>\n",
       "      <td>26.0</td>\n",
       "      <td>1</td>\n",
       "      <td>0</td>\n",
       "      <td>350025</td>\n",
       "      <td>7.8542</td>\n",
       "      <td>NaN</td>\n",
       "      <td>S</td>\n",
       "    </tr>\n",
       "    <tr>\n",
       "      <th>813</th>\n",
       "      <td>814</td>\n",
       "      <td>0</td>\n",
       "      <td>3</td>\n",
       "      <td>Andersson, Miss. Ebba Iris Alfrida</td>\n",
       "      <td>female</td>\n",
       "      <td>6.0</td>\n",
       "      <td>4</td>\n",
       "      <td>2</td>\n",
       "      <td>347082</td>\n",
       "      <td>31.2750</td>\n",
       "      <td>NaN</td>\n",
       "      <td>S</td>\n",
       "    </tr>\n",
       "    <tr>\n",
       "      <th>...</th>\n",
       "      <td>...</td>\n",
       "      <td>...</td>\n",
       "      <td>...</td>\n",
       "      <td>...</td>\n",
       "      <td>...</td>\n",
       "      <td>...</td>\n",
       "      <td>...</td>\n",
       "      <td>...</td>\n",
       "      <td>...</td>\n",
       "      <td>...</td>\n",
       "      <td>...</td>\n",
       "      <td>...</td>\n",
       "    </tr>\n",
       "    <tr>\n",
       "      <th>106</th>\n",
       "      <td>107</td>\n",
       "      <td>1</td>\n",
       "      <td>3</td>\n",
       "      <td>Salkjelsvik, Miss. Anna Kristine</td>\n",
       "      <td>female</td>\n",
       "      <td>21.0</td>\n",
       "      <td>0</td>\n",
       "      <td>0</td>\n",
       "      <td>343120</td>\n",
       "      <td>7.6500</td>\n",
       "      <td>NaN</td>\n",
       "      <td>S</td>\n",
       "    </tr>\n",
       "    <tr>\n",
       "      <th>270</th>\n",
       "      <td>271</td>\n",
       "      <td>0</td>\n",
       "      <td>1</td>\n",
       "      <td>Cairns, Mr. Alexander</td>\n",
       "      <td>male</td>\n",
       "      <td>NaN</td>\n",
       "      <td>0</td>\n",
       "      <td>0</td>\n",
       "      <td>113798</td>\n",
       "      <td>31.0000</td>\n",
       "      <td>NaN</td>\n",
       "      <td>S</td>\n",
       "    </tr>\n",
       "    <tr>\n",
       "      <th>860</th>\n",
       "      <td>861</td>\n",
       "      <td>0</td>\n",
       "      <td>3</td>\n",
       "      <td>Hansen, Mr. Claus Peter</td>\n",
       "      <td>male</td>\n",
       "      <td>41.0</td>\n",
       "      <td>2</td>\n",
       "      <td>0</td>\n",
       "      <td>350026</td>\n",
       "      <td>14.1083</td>\n",
       "      <td>NaN</td>\n",
       "      <td>S</td>\n",
       "    </tr>\n",
       "    <tr>\n",
       "      <th>435</th>\n",
       "      <td>436</td>\n",
       "      <td>1</td>\n",
       "      <td>1</td>\n",
       "      <td>Carter, Miss. Lucile Polk</td>\n",
       "      <td>female</td>\n",
       "      <td>14.0</td>\n",
       "      <td>1</td>\n",
       "      <td>2</td>\n",
       "      <td>113760</td>\n",
       "      <td>120.0000</td>\n",
       "      <td>B96 B98</td>\n",
       "      <td>S</td>\n",
       "    </tr>\n",
       "    <tr>\n",
       "      <th>102</th>\n",
       "      <td>103</td>\n",
       "      <td>0</td>\n",
       "      <td>1</td>\n",
       "      <td>White, Mr. Richard Frasar</td>\n",
       "      <td>male</td>\n",
       "      <td>21.0</td>\n",
       "      <td>0</td>\n",
       "      <td>1</td>\n",
       "      <td>35281</td>\n",
       "      <td>77.2875</td>\n",
       "      <td>D26</td>\n",
       "      <td>S</td>\n",
       "    </tr>\n",
       "  </tbody>\n",
       "</table>\n",
       "<p>712 rows × 12 columns</p>\n",
       "</div>"
      ],
      "text/plain": [
       "     PassengerId  Survived  Pclass                                Name  \\\n",
       "331          332         0       1                 Partner, Mr. Austen   \n",
       "733          734         0       2          Berriman, Mr. William John   \n",
       "382          383         0       3                  Tikkanen, Mr. Juho   \n",
       "704          705         0       3             Hansen, Mr. Henrik Juul   \n",
       "813          814         0       3  Andersson, Miss. Ebba Iris Alfrida   \n",
       "..           ...       ...     ...                                 ...   \n",
       "106          107         1       3    Salkjelsvik, Miss. Anna Kristine   \n",
       "270          271         0       1               Cairns, Mr. Alexander   \n",
       "860          861         0       3             Hansen, Mr. Claus Peter   \n",
       "435          436         1       1           Carter, Miss. Lucile Polk   \n",
       "102          103         0       1           White, Mr. Richard Frasar   \n",
       "\n",
       "        Sex   Age  SibSp  Parch             Ticket      Fare    Cabin Embarked  \n",
       "331    male  45.5      0      0             113043   28.5000     C124        S  \n",
       "733    male  23.0      0      0              28425   13.0000      NaN        S  \n",
       "382    male  32.0      0      0  STON/O 2. 3101293    7.9250      NaN        S  \n",
       "704    male  26.0      1      0             350025    7.8542      NaN        S  \n",
       "813  female   6.0      4      2             347082   31.2750      NaN        S  \n",
       "..      ...   ...    ...    ...                ...       ...      ...      ...  \n",
       "106  female  21.0      0      0             343120    7.6500      NaN        S  \n",
       "270    male   NaN      0      0             113798   31.0000      NaN        S  \n",
       "860    male  41.0      2      0             350026   14.1083      NaN        S  \n",
       "435  female  14.0      1      2             113760  120.0000  B96 B98        S  \n",
       "102    male  21.0      0      1              35281   77.2875      D26        S  \n",
       "\n",
       "[712 rows x 12 columns]"
      ]
     },
     "metadata": {},
     "output_type": "display_data"
    },
    {
     "data": {
      "text/html": [
       "<div>\n",
       "<style scoped>\n",
       "    .dataframe tbody tr th:only-of-type {\n",
       "        vertical-align: middle;\n",
       "    }\n",
       "\n",
       "    .dataframe tbody tr th {\n",
       "        vertical-align: top;\n",
       "    }\n",
       "\n",
       "    .dataframe thead th {\n",
       "        text-align: right;\n",
       "    }\n",
       "</style>\n",
       "<table border=\"1\" class=\"dataframe\">\n",
       "  <thead>\n",
       "    <tr style=\"text-align: right;\">\n",
       "      <th></th>\n",
       "      <th>PassengerId</th>\n",
       "      <th>Survived</th>\n",
       "      <th>Pclass</th>\n",
       "      <th>Name</th>\n",
       "      <th>Sex</th>\n",
       "      <th>Age</th>\n",
       "      <th>SibSp</th>\n",
       "      <th>Parch</th>\n",
       "      <th>Ticket</th>\n",
       "      <th>Fare</th>\n",
       "      <th>Cabin</th>\n",
       "      <th>Embarked</th>\n",
       "    </tr>\n",
       "  </thead>\n",
       "  <tbody>\n",
       "    <tr>\n",
       "      <th>709</th>\n",
       "      <td>710</td>\n",
       "      <td>1</td>\n",
       "      <td>3</td>\n",
       "      <td>Moubarek, Master. Halim Gonios (\"William George\")</td>\n",
       "      <td>male</td>\n",
       "      <td>NaN</td>\n",
       "      <td>1</td>\n",
       "      <td>1</td>\n",
       "      <td>2661</td>\n",
       "      <td>15.2458</td>\n",
       "      <td>NaN</td>\n",
       "      <td>C</td>\n",
       "    </tr>\n",
       "    <tr>\n",
       "      <th>439</th>\n",
       "      <td>440</td>\n",
       "      <td>0</td>\n",
       "      <td>2</td>\n",
       "      <td>Kvillner, Mr. Johan Henrik Johannesson</td>\n",
       "      <td>male</td>\n",
       "      <td>31.0</td>\n",
       "      <td>0</td>\n",
       "      <td>0</td>\n",
       "      <td>C.A. 18723</td>\n",
       "      <td>10.5000</td>\n",
       "      <td>NaN</td>\n",
       "      <td>S</td>\n",
       "    </tr>\n",
       "    <tr>\n",
       "      <th>840</th>\n",
       "      <td>841</td>\n",
       "      <td>0</td>\n",
       "      <td>3</td>\n",
       "      <td>Alhomaki, Mr. Ilmari Rudolf</td>\n",
       "      <td>male</td>\n",
       "      <td>20.0</td>\n",
       "      <td>0</td>\n",
       "      <td>0</td>\n",
       "      <td>SOTON/O2 3101287</td>\n",
       "      <td>7.9250</td>\n",
       "      <td>NaN</td>\n",
       "      <td>S</td>\n",
       "    </tr>\n",
       "    <tr>\n",
       "      <th>720</th>\n",
       "      <td>721</td>\n",
       "      <td>1</td>\n",
       "      <td>2</td>\n",
       "      <td>Harper, Miss. Annie Jessie \"Nina\"</td>\n",
       "      <td>female</td>\n",
       "      <td>6.0</td>\n",
       "      <td>0</td>\n",
       "      <td>1</td>\n",
       "      <td>248727</td>\n",
       "      <td>33.0000</td>\n",
       "      <td>NaN</td>\n",
       "      <td>S</td>\n",
       "    </tr>\n",
       "    <tr>\n",
       "      <th>39</th>\n",
       "      <td>40</td>\n",
       "      <td>1</td>\n",
       "      <td>3</td>\n",
       "      <td>Nicola-Yarred, Miss. Jamila</td>\n",
       "      <td>female</td>\n",
       "      <td>14.0</td>\n",
       "      <td>1</td>\n",
       "      <td>0</td>\n",
       "      <td>2651</td>\n",
       "      <td>11.2417</td>\n",
       "      <td>NaN</td>\n",
       "      <td>C</td>\n",
       "    </tr>\n",
       "    <tr>\n",
       "      <th>...</th>\n",
       "      <td>...</td>\n",
       "      <td>...</td>\n",
       "      <td>...</td>\n",
       "      <td>...</td>\n",
       "      <td>...</td>\n",
       "      <td>...</td>\n",
       "      <td>...</td>\n",
       "      <td>...</td>\n",
       "      <td>...</td>\n",
       "      <td>...</td>\n",
       "      <td>...</td>\n",
       "      <td>...</td>\n",
       "    </tr>\n",
       "    <tr>\n",
       "      <th>433</th>\n",
       "      <td>434</td>\n",
       "      <td>0</td>\n",
       "      <td>3</td>\n",
       "      <td>Kallio, Mr. Nikolai Erland</td>\n",
       "      <td>male</td>\n",
       "      <td>17.0</td>\n",
       "      <td>0</td>\n",
       "      <td>0</td>\n",
       "      <td>STON/O 2. 3101274</td>\n",
       "      <td>7.1250</td>\n",
       "      <td>NaN</td>\n",
       "      <td>S</td>\n",
       "    </tr>\n",
       "    <tr>\n",
       "      <th>773</th>\n",
       "      <td>774</td>\n",
       "      <td>0</td>\n",
       "      <td>3</td>\n",
       "      <td>Elias, Mr. Dibo</td>\n",
       "      <td>male</td>\n",
       "      <td>NaN</td>\n",
       "      <td>0</td>\n",
       "      <td>0</td>\n",
       "      <td>2674</td>\n",
       "      <td>7.2250</td>\n",
       "      <td>NaN</td>\n",
       "      <td>C</td>\n",
       "    </tr>\n",
       "    <tr>\n",
       "      <th>25</th>\n",
       "      <td>26</td>\n",
       "      <td>1</td>\n",
       "      <td>3</td>\n",
       "      <td>Asplund, Mrs. Carl Oscar (Selma Augusta Emilia...</td>\n",
       "      <td>female</td>\n",
       "      <td>38.0</td>\n",
       "      <td>1</td>\n",
       "      <td>5</td>\n",
       "      <td>347077</td>\n",
       "      <td>31.3875</td>\n",
       "      <td>NaN</td>\n",
       "      <td>S</td>\n",
       "    </tr>\n",
       "    <tr>\n",
       "      <th>84</th>\n",
       "      <td>85</td>\n",
       "      <td>1</td>\n",
       "      <td>2</td>\n",
       "      <td>Ilett, Miss. Bertha</td>\n",
       "      <td>female</td>\n",
       "      <td>17.0</td>\n",
       "      <td>0</td>\n",
       "      <td>0</td>\n",
       "      <td>SO/C 14885</td>\n",
       "      <td>10.5000</td>\n",
       "      <td>NaN</td>\n",
       "      <td>S</td>\n",
       "    </tr>\n",
       "    <tr>\n",
       "      <th>10</th>\n",
       "      <td>11</td>\n",
       "      <td>1</td>\n",
       "      <td>3</td>\n",
       "      <td>Sandstrom, Miss. Marguerite Rut</td>\n",
       "      <td>female</td>\n",
       "      <td>4.0</td>\n",
       "      <td>1</td>\n",
       "      <td>1</td>\n",
       "      <td>PP 9549</td>\n",
       "      <td>16.7000</td>\n",
       "      <td>G6</td>\n",
       "      <td>S</td>\n",
       "    </tr>\n",
       "  </tbody>\n",
       "</table>\n",
       "<p>179 rows × 12 columns</p>\n",
       "</div>"
      ],
      "text/plain": [
       "     PassengerId  Survived  Pclass  \\\n",
       "709          710         1       3   \n",
       "439          440         0       2   \n",
       "840          841         0       3   \n",
       "720          721         1       2   \n",
       "39            40         1       3   \n",
       "..           ...       ...     ...   \n",
       "433          434         0       3   \n",
       "773          774         0       3   \n",
       "25            26         1       3   \n",
       "84            85         1       2   \n",
       "10            11         1       3   \n",
       "\n",
       "                                                  Name     Sex   Age  SibSp  \\\n",
       "709  Moubarek, Master. Halim Gonios (\"William George\")    male   NaN      1   \n",
       "439             Kvillner, Mr. Johan Henrik Johannesson    male  31.0      0   \n",
       "840                        Alhomaki, Mr. Ilmari Rudolf    male  20.0      0   \n",
       "720                  Harper, Miss. Annie Jessie \"Nina\"  female   6.0      0   \n",
       "39                         Nicola-Yarred, Miss. Jamila  female  14.0      1   \n",
       "..                                                 ...     ...   ...    ...   \n",
       "433                         Kallio, Mr. Nikolai Erland    male  17.0      0   \n",
       "773                                    Elias, Mr. Dibo    male   NaN      0   \n",
       "25   Asplund, Mrs. Carl Oscar (Selma Augusta Emilia...  female  38.0      1   \n",
       "84                                 Ilett, Miss. Bertha  female  17.0      0   \n",
       "10                     Sandstrom, Miss. Marguerite Rut  female   4.0      1   \n",
       "\n",
       "     Parch             Ticket     Fare Cabin Embarked  \n",
       "709      1               2661  15.2458   NaN        C  \n",
       "439      0         C.A. 18723  10.5000   NaN        S  \n",
       "840      0   SOTON/O2 3101287   7.9250   NaN        S  \n",
       "720      1             248727  33.0000   NaN        S  \n",
       "39       0               2651  11.2417   NaN        C  \n",
       "..     ...                ...      ...   ...      ...  \n",
       "433      0  STON/O 2. 3101274   7.1250   NaN        S  \n",
       "773      0               2674   7.2250   NaN        C  \n",
       "25       5             347077  31.3875   NaN        S  \n",
       "84       0         SO/C 14885  10.5000   NaN        S  \n",
       "10       1            PP 9549  16.7000    G6        S  \n",
       "\n",
       "[179 rows x 12 columns]"
      ]
     },
     "metadata": {},
     "output_type": "display_data"
    },
    {
     "data": {
      "text/html": [
       "<div>\n",
       "<style scoped>\n",
       "    .dataframe tbody tr th:only-of-type {\n",
       "        vertical-align: middle;\n",
       "    }\n",
       "\n",
       "    .dataframe tbody tr th {\n",
       "        vertical-align: top;\n",
       "    }\n",
       "\n",
       "    .dataframe thead th {\n",
       "        text-align: right;\n",
       "    }\n",
       "</style>\n",
       "<table border=\"1\" class=\"dataframe\">\n",
       "  <thead>\n",
       "    <tr style=\"text-align: right;\">\n",
       "      <th></th>\n",
       "      <th>PassengerId</th>\n",
       "      <th>Pclass</th>\n",
       "      <th>Name</th>\n",
       "      <th>Sex</th>\n",
       "      <th>Age</th>\n",
       "      <th>SibSp</th>\n",
       "      <th>Parch</th>\n",
       "      <th>Ticket</th>\n",
       "      <th>Fare</th>\n",
       "      <th>Cabin</th>\n",
       "      <th>Embarked</th>\n",
       "    </tr>\n",
       "  </thead>\n",
       "  <tbody>\n",
       "    <tr>\n",
       "      <th>0</th>\n",
       "      <td>892</td>\n",
       "      <td>3</td>\n",
       "      <td>Kelly, Mr. James</td>\n",
       "      <td>male</td>\n",
       "      <td>34.5</td>\n",
       "      <td>0</td>\n",
       "      <td>0</td>\n",
       "      <td>330911</td>\n",
       "      <td>7.8292</td>\n",
       "      <td>NaN</td>\n",
       "      <td>Q</td>\n",
       "    </tr>\n",
       "    <tr>\n",
       "      <th>1</th>\n",
       "      <td>893</td>\n",
       "      <td>3</td>\n",
       "      <td>Wilkes, Mrs. James (Ellen Needs)</td>\n",
       "      <td>female</td>\n",
       "      <td>47.0</td>\n",
       "      <td>1</td>\n",
       "      <td>0</td>\n",
       "      <td>363272</td>\n",
       "      <td>7.0000</td>\n",
       "      <td>NaN</td>\n",
       "      <td>S</td>\n",
       "    </tr>\n",
       "    <tr>\n",
       "      <th>2</th>\n",
       "      <td>894</td>\n",
       "      <td>2</td>\n",
       "      <td>Myles, Mr. Thomas Francis</td>\n",
       "      <td>male</td>\n",
       "      <td>62.0</td>\n",
       "      <td>0</td>\n",
       "      <td>0</td>\n",
       "      <td>240276</td>\n",
       "      <td>9.6875</td>\n",
       "      <td>NaN</td>\n",
       "      <td>Q</td>\n",
       "    </tr>\n",
       "    <tr>\n",
       "      <th>3</th>\n",
       "      <td>895</td>\n",
       "      <td>3</td>\n",
       "      <td>Wirz, Mr. Albert</td>\n",
       "      <td>male</td>\n",
       "      <td>27.0</td>\n",
       "      <td>0</td>\n",
       "      <td>0</td>\n",
       "      <td>315154</td>\n",
       "      <td>8.6625</td>\n",
       "      <td>NaN</td>\n",
       "      <td>S</td>\n",
       "    </tr>\n",
       "    <tr>\n",
       "      <th>4</th>\n",
       "      <td>896</td>\n",
       "      <td>3</td>\n",
       "      <td>Hirvonen, Mrs. Alexander (Helga E Lindqvist)</td>\n",
       "      <td>female</td>\n",
       "      <td>22.0</td>\n",
       "      <td>1</td>\n",
       "      <td>1</td>\n",
       "      <td>3101298</td>\n",
       "      <td>12.2875</td>\n",
       "      <td>NaN</td>\n",
       "      <td>S</td>\n",
       "    </tr>\n",
       "    <tr>\n",
       "      <th>...</th>\n",
       "      <td>...</td>\n",
       "      <td>...</td>\n",
       "      <td>...</td>\n",
       "      <td>...</td>\n",
       "      <td>...</td>\n",
       "      <td>...</td>\n",
       "      <td>...</td>\n",
       "      <td>...</td>\n",
       "      <td>...</td>\n",
       "      <td>...</td>\n",
       "      <td>...</td>\n",
       "    </tr>\n",
       "    <tr>\n",
       "      <th>413</th>\n",
       "      <td>1305</td>\n",
       "      <td>3</td>\n",
       "      <td>Spector, Mr. Woolf</td>\n",
       "      <td>male</td>\n",
       "      <td>NaN</td>\n",
       "      <td>0</td>\n",
       "      <td>0</td>\n",
       "      <td>A.5. 3236</td>\n",
       "      <td>8.0500</td>\n",
       "      <td>NaN</td>\n",
       "      <td>S</td>\n",
       "    </tr>\n",
       "    <tr>\n",
       "      <th>414</th>\n",
       "      <td>1306</td>\n",
       "      <td>1</td>\n",
       "      <td>Oliva y Ocana, Dona. Fermina</td>\n",
       "      <td>female</td>\n",
       "      <td>39.0</td>\n",
       "      <td>0</td>\n",
       "      <td>0</td>\n",
       "      <td>PC 17758</td>\n",
       "      <td>108.9000</td>\n",
       "      <td>C105</td>\n",
       "      <td>C</td>\n",
       "    </tr>\n",
       "    <tr>\n",
       "      <th>415</th>\n",
       "      <td>1307</td>\n",
       "      <td>3</td>\n",
       "      <td>Saether, Mr. Simon Sivertsen</td>\n",
       "      <td>male</td>\n",
       "      <td>38.5</td>\n",
       "      <td>0</td>\n",
       "      <td>0</td>\n",
       "      <td>SOTON/O.Q. 3101262</td>\n",
       "      <td>7.2500</td>\n",
       "      <td>NaN</td>\n",
       "      <td>S</td>\n",
       "    </tr>\n",
       "    <tr>\n",
       "      <th>416</th>\n",
       "      <td>1308</td>\n",
       "      <td>3</td>\n",
       "      <td>Ware, Mr. Frederick</td>\n",
       "      <td>male</td>\n",
       "      <td>NaN</td>\n",
       "      <td>0</td>\n",
       "      <td>0</td>\n",
       "      <td>359309</td>\n",
       "      <td>8.0500</td>\n",
       "      <td>NaN</td>\n",
       "      <td>S</td>\n",
       "    </tr>\n",
       "    <tr>\n",
       "      <th>417</th>\n",
       "      <td>1309</td>\n",
       "      <td>3</td>\n",
       "      <td>Peter, Master. Michael J</td>\n",
       "      <td>male</td>\n",
       "      <td>NaN</td>\n",
       "      <td>1</td>\n",
       "      <td>1</td>\n",
       "      <td>2668</td>\n",
       "      <td>22.3583</td>\n",
       "      <td>NaN</td>\n",
       "      <td>C</td>\n",
       "    </tr>\n",
       "  </tbody>\n",
       "</table>\n",
       "<p>418 rows × 11 columns</p>\n",
       "</div>"
      ],
      "text/plain": [
       "     PassengerId  Pclass                                          Name  \\\n",
       "0            892       3                              Kelly, Mr. James   \n",
       "1            893       3              Wilkes, Mrs. James (Ellen Needs)   \n",
       "2            894       2                     Myles, Mr. Thomas Francis   \n",
       "3            895       3                              Wirz, Mr. Albert   \n",
       "4            896       3  Hirvonen, Mrs. Alexander (Helga E Lindqvist)   \n",
       "..           ...     ...                                           ...   \n",
       "413         1305       3                            Spector, Mr. Woolf   \n",
       "414         1306       1                  Oliva y Ocana, Dona. Fermina   \n",
       "415         1307       3                  Saether, Mr. Simon Sivertsen   \n",
       "416         1308       3                           Ware, Mr. Frederick   \n",
       "417         1309       3                      Peter, Master. Michael J   \n",
       "\n",
       "        Sex   Age  SibSp  Parch              Ticket      Fare Cabin Embarked  \n",
       "0      male  34.5      0      0              330911    7.8292   NaN        Q  \n",
       "1    female  47.0      1      0              363272    7.0000   NaN        S  \n",
       "2      male  62.0      0      0              240276    9.6875   NaN        Q  \n",
       "3      male  27.0      0      0              315154    8.6625   NaN        S  \n",
       "4    female  22.0      1      1             3101298   12.2875   NaN        S  \n",
       "..      ...   ...    ...    ...                 ...       ...   ...      ...  \n",
       "413    male   NaN      0      0           A.5. 3236    8.0500   NaN        S  \n",
       "414  female  39.0      0      0            PC 17758  108.9000  C105        C  \n",
       "415    male  38.5      0      0  SOTON/O.Q. 3101262    7.2500   NaN        S  \n",
       "416    male   NaN      0      0              359309    8.0500   NaN        S  \n",
       "417    male   NaN      1      1                2668   22.3583   NaN        C  \n",
       "\n",
       "[418 rows x 11 columns]"
      ]
     },
     "metadata": {},
     "output_type": "display_data"
    }
   ],
   "source": [
    "df_train = pd.read_csv(f\"{data_dir}/train.csv\")\n",
    "df_train, df_val = train_test_split(df_train, test_size=0.2, random_state=42)\n",
    "df_test = pd.read_csv(f\"{data_dir}/test.csv\")\n",
    "\n",
    "display(df_train)\n",
    "display(df_val)\n",
    "display(df_test)"
   ]
  },
  {
   "cell_type": "markdown",
   "id": "8b7e98d9",
   "metadata": {
    "papermill": {
     "duration": 0.016345,
     "end_time": "2022-09-06T12:01:02.543578",
     "exception": false,
     "start_time": "2022-09-06T12:01:02.527233",
     "status": "completed"
    },
    "tags": []
   },
   "source": [
    "## Check basic info"
   ]
  },
  {
   "cell_type": "code",
   "execution_count": 3,
   "id": "b0c62550",
   "metadata": {
    "execution": {
     "iopub.execute_input": "2022-09-06T12:01:02.579981Z",
     "iopub.status.busy": "2022-09-06T12:01:02.578911Z",
     "iopub.status.idle": "2022-09-06T12:01:02.605437Z",
     "shell.execute_reply": "2022-09-06T12:01:02.603687Z"
    },
    "papermill": {
     "duration": 0.047403,
     "end_time": "2022-09-06T12:01:02.608098",
     "exception": false,
     "start_time": "2022-09-06T12:01:02.560695",
     "status": "completed"
    },
    "tags": []
   },
   "outputs": [
    {
     "name": "stdout",
     "output_type": "stream",
     "text": [
      "<class 'pandas.core.frame.DataFrame'>\n",
      "Int64Index: 712 entries, 331 to 102\n",
      "Data columns (total 12 columns):\n",
      " #   Column       Non-Null Count  Dtype  \n",
      "---  ------       --------------  -----  \n",
      " 0   PassengerId  712 non-null    int64  \n",
      " 1   Survived     712 non-null    int64  \n",
      " 2   Pclass       712 non-null    int64  \n",
      " 3   Name         712 non-null    object \n",
      " 4   Sex          712 non-null    object \n",
      " 5   Age          572 non-null    float64\n",
      " 6   SibSp        712 non-null    int64  \n",
      " 7   Parch        712 non-null    int64  \n",
      " 8   Ticket       712 non-null    object \n",
      " 9   Fare         712 non-null    float64\n",
      " 10  Cabin        159 non-null    object \n",
      " 11  Embarked     710 non-null    object \n",
      "dtypes: float64(2), int64(5), object(5)\n",
      "memory usage: 72.3+ KB\n"
     ]
    }
   ],
   "source": [
    "df_train.info()"
   ]
  },
  {
   "cell_type": "code",
   "execution_count": 4,
   "id": "4119d178",
   "metadata": {
    "execution": {
     "iopub.execute_input": "2022-09-06T12:01:02.644061Z",
     "iopub.status.busy": "2022-09-06T12:01:02.643485Z",
     "iopub.status.idle": "2022-09-06T12:01:02.673494Z",
     "shell.execute_reply": "2022-09-06T12:01:02.672243Z"
    },
    "papermill": {
     "duration": 0.050556,
     "end_time": "2022-09-06T12:01:02.675666",
     "exception": false,
     "start_time": "2022-09-06T12:01:02.625110",
     "status": "completed"
    },
    "tags": []
   },
   "outputs": [
    {
     "data": {
      "text/html": [
       "<div>\n",
       "<style scoped>\n",
       "    .dataframe tbody tr th:only-of-type {\n",
       "        vertical-align: middle;\n",
       "    }\n",
       "\n",
       "    .dataframe tbody tr th {\n",
       "        vertical-align: top;\n",
       "    }\n",
       "\n",
       "    .dataframe thead th {\n",
       "        text-align: right;\n",
       "    }\n",
       "</style>\n",
       "<table border=\"1\" class=\"dataframe\">\n",
       "  <thead>\n",
       "    <tr style=\"text-align: right;\">\n",
       "      <th></th>\n",
       "      <th>PassengerId</th>\n",
       "      <th>Survived</th>\n",
       "      <th>Pclass</th>\n",
       "      <th>Age</th>\n",
       "      <th>SibSp</th>\n",
       "      <th>Parch</th>\n",
       "      <th>Fare</th>\n",
       "    </tr>\n",
       "  </thead>\n",
       "  <tbody>\n",
       "    <tr>\n",
       "      <th>count</th>\n",
       "      <td>712.000000</td>\n",
       "      <td>712.000000</td>\n",
       "      <td>712.000000</td>\n",
       "      <td>572.000000</td>\n",
       "      <td>712.000000</td>\n",
       "      <td>712.000000</td>\n",
       "      <td>712.000000</td>\n",
       "    </tr>\n",
       "    <tr>\n",
       "      <th>mean</th>\n",
       "      <td>448.234551</td>\n",
       "      <td>0.376404</td>\n",
       "      <td>2.330056</td>\n",
       "      <td>29.498846</td>\n",
       "      <td>0.553371</td>\n",
       "      <td>0.379213</td>\n",
       "      <td>32.586276</td>\n",
       "    </tr>\n",
       "    <tr>\n",
       "      <th>std</th>\n",
       "      <td>256.731423</td>\n",
       "      <td>0.484824</td>\n",
       "      <td>0.824584</td>\n",
       "      <td>14.500059</td>\n",
       "      <td>1.176404</td>\n",
       "      <td>0.791669</td>\n",
       "      <td>51.969529</td>\n",
       "    </tr>\n",
       "    <tr>\n",
       "      <th>min</th>\n",
       "      <td>1.000000</td>\n",
       "      <td>0.000000</td>\n",
       "      <td>1.000000</td>\n",
       "      <td>0.420000</td>\n",
       "      <td>0.000000</td>\n",
       "      <td>0.000000</td>\n",
       "      <td>0.000000</td>\n",
       "    </tr>\n",
       "    <tr>\n",
       "      <th>25%</th>\n",
       "      <td>224.750000</td>\n",
       "      <td>0.000000</td>\n",
       "      <td>2.000000</td>\n",
       "      <td>21.000000</td>\n",
       "      <td>0.000000</td>\n",
       "      <td>0.000000</td>\n",
       "      <td>7.925000</td>\n",
       "    </tr>\n",
       "    <tr>\n",
       "      <th>50%</th>\n",
       "      <td>453.500000</td>\n",
       "      <td>0.000000</td>\n",
       "      <td>3.000000</td>\n",
       "      <td>28.000000</td>\n",
       "      <td>0.000000</td>\n",
       "      <td>0.000000</td>\n",
       "      <td>14.454200</td>\n",
       "    </tr>\n",
       "    <tr>\n",
       "      <th>75%</th>\n",
       "      <td>673.500000</td>\n",
       "      <td>1.000000</td>\n",
       "      <td>3.000000</td>\n",
       "      <td>38.000000</td>\n",
       "      <td>1.000000</td>\n",
       "      <td>0.000000</td>\n",
       "      <td>30.500000</td>\n",
       "    </tr>\n",
       "    <tr>\n",
       "      <th>max</th>\n",
       "      <td>891.000000</td>\n",
       "      <td>1.000000</td>\n",
       "      <td>3.000000</td>\n",
       "      <td>80.000000</td>\n",
       "      <td>8.000000</td>\n",
       "      <td>6.000000</td>\n",
       "      <td>512.329200</td>\n",
       "    </tr>\n",
       "  </tbody>\n",
       "</table>\n",
       "</div>"
      ],
      "text/plain": [
       "       PassengerId    Survived      Pclass         Age       SibSp  \\\n",
       "count   712.000000  712.000000  712.000000  572.000000  712.000000   \n",
       "mean    448.234551    0.376404    2.330056   29.498846    0.553371   \n",
       "std     256.731423    0.484824    0.824584   14.500059    1.176404   \n",
       "min       1.000000    0.000000    1.000000    0.420000    0.000000   \n",
       "25%     224.750000    0.000000    2.000000   21.000000    0.000000   \n",
       "50%     453.500000    0.000000    3.000000   28.000000    0.000000   \n",
       "75%     673.500000    1.000000    3.000000   38.000000    1.000000   \n",
       "max     891.000000    1.000000    3.000000   80.000000    8.000000   \n",
       "\n",
       "            Parch        Fare  \n",
       "count  712.000000  712.000000  \n",
       "mean     0.379213   32.586276  \n",
       "std      0.791669   51.969529  \n",
       "min      0.000000    0.000000  \n",
       "25%      0.000000    7.925000  \n",
       "50%      0.000000   14.454200  \n",
       "75%      0.000000   30.500000  \n",
       "max      6.000000  512.329200  "
      ]
     },
     "execution_count": 4,
     "metadata": {},
     "output_type": "execute_result"
    }
   ],
   "source": [
    "df_train.describe()"
   ]
  },
  {
   "cell_type": "markdown",
   "id": "152723a1",
   "metadata": {
    "papermill": {
     "duration": 0.016887,
     "end_time": "2022-09-06T12:01:02.709960",
     "exception": false,
     "start_time": "2022-09-06T12:01:02.693073",
     "status": "completed"
    },
    "tags": []
   },
   "source": [
    "# Features"
   ]
  },
  {
   "cell_type": "markdown",
   "id": "ab54801c",
   "metadata": {
    "papermill": {
     "duration": 0.016669,
     "end_time": "2022-09-06T12:01:02.743872",
     "exception": false,
     "start_time": "2022-09-06T12:01:02.727203",
     "status": "completed"
    },
    "tags": []
   },
   "source": [
    "## Name\n",
    "Extract Title Information from Name - gives insights into Age & Gender"
   ]
  },
  {
   "cell_type": "code",
   "execution_count": 5,
   "id": "18c30d09",
   "metadata": {
    "execution": {
     "iopub.execute_input": "2022-09-06T12:01:02.779770Z",
     "iopub.status.busy": "2022-09-06T12:01:02.779434Z",
     "iopub.status.idle": "2022-09-06T12:01:02.792910Z",
     "shell.execute_reply": "2022-09-06T12:01:02.791427Z"
    },
    "papermill": {
     "duration": 0.033604,
     "end_time": "2022-09-06T12:01:02.794979",
     "exception": false,
     "start_time": "2022-09-06T12:01:02.761375",
     "status": "completed"
    },
    "tags": []
   },
   "outputs": [
    {
     "data": {
      "text/plain": [
       "array(['Mr', 'Miss', 'Major', 'Mrs', 'Master', 'Rev', 'Dr', 'Col', 'Mlle',\n",
       "       'Capt', 'Mme', 'Ms', 'Countess', 'Lady'], dtype=object)"
      ]
     },
     "execution_count": 5,
     "metadata": {},
     "output_type": "execute_result"
    }
   ],
   "source": [
    "df_train[\"Title\"] = df_train.Name.str.extract(\" ([A-Za-z]+)\\.\", expand=False)\n",
    "df_val[\"Title\"] = df_val.Name.str.extract(\" ([A-Za-z]+)\\.\", expand=False)\n",
    "df_test[\"Title\"] = df_test.Name.str.extract(\" ([A-Za-z]+)\\.\", expand=False)\n",
    "\n",
    "df_train[\"Title\"].unique()"
   ]
  },
  {
   "cell_type": "code",
   "execution_count": 6,
   "id": "4ed47e72",
   "metadata": {
    "execution": {
     "iopub.execute_input": "2022-09-06T12:01:02.832477Z",
     "iopub.status.busy": "2022-09-06T12:01:02.831242Z",
     "iopub.status.idle": "2022-09-06T12:01:02.846948Z",
     "shell.execute_reply": "2022-09-06T12:01:02.845772Z"
    },
    "papermill": {
     "duration": 0.03728,
     "end_time": "2022-09-06T12:01:02.849835",
     "exception": false,
     "start_time": "2022-09-06T12:01:02.812555",
     "status": "completed"
    },
    "tags": []
   },
   "outputs": [],
   "source": [
    "# Unknown = 0\n",
    "# Master = 1\n",
    "# Miss = 2\n",
    "# Mr = 3\n",
    "# Mrs = 4\n",
    "# Rojalty = 5\n",
    "# Officer = 6\n",
    "\n",
    "\n",
    "title_mapping = { \\\n",
    "    \"Master\" : 1, \\\n",
    "    \"Miss\" : 2, \\\n",
    "    \"Mlle\": 2, \\\n",
    "    \"Mr\" : 3, \\\n",
    "    \"Mrs\" : 4, \\\n",
    "    \"Mme\": 4, \\\n",
    "    \"Ms\": 4, \\\n",
    "    \"Rev\": 5, \\\n",
    "    \"Dr\": 5, \\\n",
    "    \"Countess\": 5, \\\n",
    "    \"Lady\" : 5, \\\n",
    "    \"Col\": 6, \\\n",
    "    \"Capt\": 6, \\\n",
    "    \"Major\": 6, \\\n",
    "    \"Unknown\": 0\n",
    "}\n",
    "\n",
    "df_train[~df_train[\"Title\"].isin(list(title_mapping.keys()))]\n",
    "df_val.loc[~df_val[\"Title\"].isin(list(title_mapping.keys())), \"Title\"] = \"Unknown\"\n",
    "df_test.loc[~df_test[\"Title\"].isin(list(title_mapping.keys())), \"Title\"] = \"Unknown\"\n",
    "\n",
    "df_train[\"Title\"] = df_train[\"Title\"].map( title_mapping ).astype(int)\n",
    "df_val[\"Title\"] = df_val[\"Title\"].map( title_mapping ).astype(int)\n",
    "df_test[\"Title\"] = df_test[\"Title\"].map( title_mapping ).astype(int)"
   ]
  },
  {
   "cell_type": "code",
   "execution_count": 7,
   "id": "51d0ab4b",
   "metadata": {
    "execution": {
     "iopub.execute_input": "2022-09-06T12:01:02.885522Z",
     "iopub.status.busy": "2022-09-06T12:01:02.885173Z",
     "iopub.status.idle": "2022-09-06T12:01:03.237193Z",
     "shell.execute_reply": "2022-09-06T12:01:03.236022Z"
    },
    "papermill": {
     "duration": 0.372367,
     "end_time": "2022-09-06T12:01:03.239437",
     "exception": false,
     "start_time": "2022-09-06T12:01:02.867070",
     "status": "completed"
    },
    "tags": []
   },
   "outputs": [
    {
     "data": {
      "text/plain": [
       "3    419\n",
       "2    145\n",
       "4     98\n",
       "1     33\n",
       "5     12\n",
       "6      5\n",
       "Name: Title, dtype: int64"
      ]
     },
     "execution_count": 7,
     "metadata": {},
     "output_type": "execute_result"
    },
    {
     "data": {
      "image/png": "[encoded data removed]",
      "text/plain": [
       "<Figure size 1008x720 with 1 Axes>"
      ]
     },
     "metadata": {
      "needs_background": "light"
     },
     "output_type": "display_data"
    }
   ],
   "source": [
    "plt.figure(figsize = (14,10))\n",
    "\n",
    "sns.scatterplot(data=df_train, x=\"Age\", y=\"Title\", hue=\"Title\", palette=\"deep\")\n",
    "\n",
    "df_train[\"Title\"].value_counts()"
   ]
  },
  {
   "cell_type": "markdown",
   "id": "23df2666",
   "metadata": {
    "papermill": {
     "duration": 0.017753,
     "end_time": "2022-09-06T12:01:03.275254",
     "exception": false,
     "start_time": "2022-09-06T12:01:03.257501",
     "status": "completed"
    },
    "tags": []
   },
   "source": [
    "## Age"
   ]
  },
  {
   "cell_type": "code",
   "execution_count": 8,
   "id": "9824e24e",
   "metadata": {
    "execution": {
     "iopub.execute_input": "2022-09-06T12:01:03.313445Z",
     "iopub.status.busy": "2022-09-06T12:01:03.312914Z",
     "iopub.status.idle": "2022-09-06T12:01:03.518765Z",
     "shell.execute_reply": "2022-09-06T12:01:03.517792Z"
    },
    "papermill": {
     "duration": 0.227879,
     "end_time": "2022-09-06T12:01:03.521303",
     "exception": false,
     "start_time": "2022-09-06T12:01:03.293424",
     "status": "completed"
    },
    "tags": []
   },
   "outputs": [
    {
     "data": {
      "text/plain": [
       "<seaborn.axisgrid.FacetGrid at 0x7f4ae6c7fa10>"
      ]
     },
     "execution_count": 8,
     "metadata": {},
     "output_type": "execute_result"
    },
    {
     "data": {
      "image/png": "[encoded data removed]",
      "text/plain": [
       "<Figure size 360x360 with 1 Axes>"
      ]
     },
     "metadata": {
      "needs_background": "light"
     },
     "output_type": "display_data"
    }
   ],
   "source": [
    "sns.displot(df_train, x=\"Age\", kind=\"kde\")"
   ]
  },
  {
   "cell_type": "markdown",
   "id": "3cb922c8",
   "metadata": {
    "papermill": {
     "duration": 0.018061,
     "end_time": "2022-09-06T12:01:03.557696",
     "exception": false,
     "start_time": "2022-09-06T12:01:03.539635",
     "status": "completed"
    },
    "tags": []
   },
   "source": [
    "Impute missing Age values based on information from Pclass, Sex, Title from train set"
   ]
  },
  {
   "cell_type": "code",
   "execution_count": 9,
   "id": "a59225f3",
   "metadata": {
    "execution": {
     "iopub.execute_input": "2022-09-06T12:01:03.596478Z",
     "iopub.status.busy": "2022-09-06T12:01:03.595659Z",
     "iopub.status.idle": "2022-09-06T12:01:03.610698Z",
     "shell.execute_reply": "2022-09-06T12:01:03.609787Z"
    },
    "papermill": {
     "duration": 0.036692,
     "end_time": "2022-09-06T12:01:03.612617",
     "exception": false,
     "start_time": "2022-09-06T12:01:03.575925",
     "status": "completed"
    },
    "tags": []
   },
   "outputs": [
    {
     "data": {
      "text/html": [
       "<div>\n",
       "<style scoped>\n",
       "    .dataframe tbody tr th:only-of-type {\n",
       "        vertical-align: middle;\n",
       "    }\n",
       "\n",
       "    .dataframe tbody tr th {\n",
       "        vertical-align: top;\n",
       "    }\n",
       "\n",
       "    .dataframe thead th {\n",
       "        text-align: right;\n",
       "    }\n",
       "</style>\n",
       "<table border=\"1\" class=\"dataframe\">\n",
       "  <thead>\n",
       "    <tr style=\"text-align: right;\">\n",
       "      <th></th>\n",
       "      <th></th>\n",
       "      <th></th>\n",
       "      <th>Age</th>\n",
       "    </tr>\n",
       "    <tr>\n",
       "      <th>Pclass</th>\n",
       "      <th>Sex</th>\n",
       "      <th>Title</th>\n",
       "      <th></th>\n",
       "    </tr>\n",
       "  </thead>\n",
       "  <tbody>\n",
       "    <tr>\n",
       "      <th rowspan=\"7\" valign=\"top\">1</th>\n",
       "      <th rowspan=\"3\" valign=\"top\">female</th>\n",
       "      <th>2</th>\n",
       "      <td>30.00</td>\n",
       "    </tr>\n",
       "    <tr>\n",
       "      <th>4</th>\n",
       "      <td>39.00</td>\n",
       "    </tr>\n",
       "    <tr>\n",
       "      <th>5</th>\n",
       "      <td>40.50</td>\n",
       "    </tr>\n",
       "    <tr>\n",
       "      <th rowspan=\"4\" valign=\"top\">male</th>\n",
       "      <th>1</th>\n",
       "      <td>2.46</td>\n",
       "    </tr>\n",
       "    <tr>\n",
       "      <th>3</th>\n",
       "      <td>38.50</td>\n",
       "    </tr>\n",
       "    <tr>\n",
       "      <th>5</th>\n",
       "      <td>44.00</td>\n",
       "    </tr>\n",
       "    <tr>\n",
       "      <th>6</th>\n",
       "      <td>56.00</td>\n",
       "    </tr>\n",
       "    <tr>\n",
       "      <th rowspan=\"5\" valign=\"top\">2</th>\n",
       "      <th rowspan=\"2\" valign=\"top\">female</th>\n",
       "      <th>2</th>\n",
       "      <td>24.00</td>\n",
       "    </tr>\n",
       "    <tr>\n",
       "      <th>4</th>\n",
       "      <td>30.50</td>\n",
       "    </tr>\n",
       "    <tr>\n",
       "      <th rowspan=\"3\" valign=\"top\">male</th>\n",
       "      <th>1</th>\n",
       "      <td>1.50</td>\n",
       "    </tr>\n",
       "    <tr>\n",
       "      <th>3</th>\n",
       "      <td>30.00</td>\n",
       "    </tr>\n",
       "    <tr>\n",
       "      <th>5</th>\n",
       "      <td>52.50</td>\n",
       "    </tr>\n",
       "    <tr>\n",
       "      <th rowspan=\"4\" valign=\"top\">3</th>\n",
       "      <th rowspan=\"2\" valign=\"top\">female</th>\n",
       "      <th>2</th>\n",
       "      <td>18.00</td>\n",
       "    </tr>\n",
       "    <tr>\n",
       "      <th>4</th>\n",
       "      <td>31.00</td>\n",
       "    </tr>\n",
       "    <tr>\n",
       "      <th rowspan=\"2\" valign=\"top\">male</th>\n",
       "      <th>1</th>\n",
       "      <td>4.00</td>\n",
       "    </tr>\n",
       "    <tr>\n",
       "      <th>3</th>\n",
       "      <td>27.00</td>\n",
       "    </tr>\n",
       "  </tbody>\n",
       "</table>\n",
       "</div>"
      ],
      "text/plain": [
       "                       Age\n",
       "Pclass Sex    Title       \n",
       "1      female 2      30.00\n",
       "              4      39.00\n",
       "              5      40.50\n",
       "       male   1       2.46\n",
       "              3      38.50\n",
       "              5      44.00\n",
       "              6      56.00\n",
       "2      female 2      24.00\n",
       "              4      30.50\n",
       "       male   1       1.50\n",
       "              3      30.00\n",
       "              5      52.50\n",
       "3      female 2      18.00\n",
       "              4      31.00\n",
       "       male   1       4.00\n",
       "              3      27.00"
      ]
     },
     "execution_count": 9,
     "metadata": {},
     "output_type": "execute_result"
    }
   ],
   "source": [
    "df_train.groupby(['Pclass','Sex', \"Title\"])['Age'].median().to_frame()"
   ]
  },
  {
   "cell_type": "code",
   "execution_count": 10,
   "id": "64ac5b44",
   "metadata": {
    "execution": {
     "iopub.execute_input": "2022-09-06T12:01:03.651386Z",
     "iopub.status.busy": "2022-09-06T12:01:03.650817Z",
     "iopub.status.idle": "2022-09-06T12:01:03.678136Z",
     "shell.execute_reply": "2022-09-06T12:01:03.677383Z"
    },
    "papermill": {
     "duration": 0.048878,
     "end_time": "2022-09-06T12:01:03.679860",
     "exception": false,
     "start_time": "2022-09-06T12:01:03.630982",
     "status": "completed"
    },
    "tags": []
   },
   "outputs": [
    {
     "data": {
      "text/html": [
       "<div>\n",
       "<style scoped>\n",
       "    .dataframe tbody tr th:only-of-type {\n",
       "        vertical-align: middle;\n",
       "    }\n",
       "\n",
       "    .dataframe tbody tr th {\n",
       "        vertical-align: top;\n",
       "    }\n",
       "\n",
       "    .dataframe thead th {\n",
       "        text-align: right;\n",
       "    }\n",
       "</style>\n",
       "<table border=\"1\" class=\"dataframe\">\n",
       "  <thead>\n",
       "    <tr style=\"text-align: right;\">\n",
       "      <th></th>\n",
       "      <th>PassengerId</th>\n",
       "      <th>Survived</th>\n",
       "      <th>Pclass</th>\n",
       "      <th>Name</th>\n",
       "      <th>Sex</th>\n",
       "      <th>Age</th>\n",
       "      <th>SibSp</th>\n",
       "      <th>Parch</th>\n",
       "      <th>Ticket</th>\n",
       "      <th>Fare</th>\n",
       "      <th>Cabin</th>\n",
       "      <th>Embarked</th>\n",
       "      <th>Title</th>\n",
       "    </tr>\n",
       "  </thead>\n",
       "  <tbody>\n",
       "    <tr>\n",
       "      <th>334</th>\n",
       "      <td>335</td>\n",
       "      <td>1</td>\n",
       "      <td>1</td>\n",
       "      <td>Frauenthal, Mrs. Henry William (Clara Heinshei...</td>\n",
       "      <td>female</td>\n",
       "      <td>NaN</td>\n",
       "      <td>1</td>\n",
       "      <td>0</td>\n",
       "      <td>PC 17611</td>\n",
       "      <td>133.65</td>\n",
       "      <td>NaN</td>\n",
       "      <td>S</td>\n",
       "      <td>4</td>\n",
       "    </tr>\n",
       "    <tr>\n",
       "      <th>256</th>\n",
       "      <td>257</td>\n",
       "      <td>1</td>\n",
       "      <td>1</td>\n",
       "      <td>Thorne, Mrs. Gertrude Maybelle</td>\n",
       "      <td>female</td>\n",
       "      <td>NaN</td>\n",
       "      <td>0</td>\n",
       "      <td>0</td>\n",
       "      <td>PC 17585</td>\n",
       "      <td>79.20</td>\n",
       "      <td>NaN</td>\n",
       "      <td>C</td>\n",
       "      <td>4</td>\n",
       "    </tr>\n",
       "    <tr>\n",
       "      <th>166</th>\n",
       "      <td>167</td>\n",
       "      <td>1</td>\n",
       "      <td>1</td>\n",
       "      <td>Chibnall, Mrs. (Edith Martha Bowerman)</td>\n",
       "      <td>female</td>\n",
       "      <td>NaN</td>\n",
       "      <td>0</td>\n",
       "      <td>1</td>\n",
       "      <td>113505</td>\n",
       "      <td>55.00</td>\n",
       "      <td>E33</td>\n",
       "      <td>S</td>\n",
       "      <td>4</td>\n",
       "    </tr>\n",
       "  </tbody>\n",
       "</table>\n",
       "</div>"
      ],
      "text/plain": [
       "     PassengerId  Survived  Pclass  \\\n",
       "334          335         1       1   \n",
       "256          257         1       1   \n",
       "166          167         1       1   \n",
       "\n",
       "                                                  Name     Sex  Age  SibSp  \\\n",
       "334  Frauenthal, Mrs. Henry William (Clara Heinshei...  female  NaN      1   \n",
       "256                     Thorne, Mrs. Gertrude Maybelle  female  NaN      0   \n",
       "166             Chibnall, Mrs. (Edith Martha Bowerman)  female  NaN      0   \n",
       "\n",
       "     Parch    Ticket    Fare Cabin Embarked  Title  \n",
       "334      0  PC 17611  133.65   NaN        S      4  \n",
       "256      0  PC 17585   79.20   NaN        C      4  \n",
       "166      1    113505   55.00   E33        S      4  "
      ]
     },
     "metadata": {},
     "output_type": "display_data"
    },
    {
     "data": {
      "text/html": [
       "<div>\n",
       "<style scoped>\n",
       "    .dataframe tbody tr th:only-of-type {\n",
       "        vertical-align: middle;\n",
       "    }\n",
       "\n",
       "    .dataframe tbody tr th {\n",
       "        vertical-align: top;\n",
       "    }\n",
       "\n",
       "    .dataframe thead th {\n",
       "        text-align: right;\n",
       "    }\n",
       "</style>\n",
       "<table border=\"1\" class=\"dataframe\">\n",
       "  <thead>\n",
       "    <tr style=\"text-align: right;\">\n",
       "      <th></th>\n",
       "      <th>PassengerId</th>\n",
       "      <th>Survived</th>\n",
       "      <th>Pclass</th>\n",
       "      <th>Name</th>\n",
       "      <th>Sex</th>\n",
       "      <th>Age</th>\n",
       "      <th>SibSp</th>\n",
       "      <th>Parch</th>\n",
       "      <th>Ticket</th>\n",
       "      <th>Fare</th>\n",
       "      <th>Cabin</th>\n",
       "      <th>Embarked</th>\n",
       "      <th>Title</th>\n",
       "    </tr>\n",
       "  </thead>\n",
       "  <tbody>\n",
       "    <tr>\n",
       "      <th>181</th>\n",
       "      <td>182</td>\n",
       "      <td>0</td>\n",
       "      <td>2</td>\n",
       "      <td>Pernot, Mr. Rene</td>\n",
       "      <td>male</td>\n",
       "      <td>NaN</td>\n",
       "      <td>0</td>\n",
       "      <td>0</td>\n",
       "      <td>SC/PARIS 2131</td>\n",
       "      <td>15.0500</td>\n",
       "      <td>NaN</td>\n",
       "      <td>C</td>\n",
       "      <td>3</td>\n",
       "    </tr>\n",
       "    <tr>\n",
       "      <th>547</th>\n",
       "      <td>548</td>\n",
       "      <td>1</td>\n",
       "      <td>2</td>\n",
       "      <td>Padro y Manent, Mr. Julian</td>\n",
       "      <td>male</td>\n",
       "      <td>NaN</td>\n",
       "      <td>0</td>\n",
       "      <td>0</td>\n",
       "      <td>SC/PARIS 2146</td>\n",
       "      <td>13.8625</td>\n",
       "      <td>NaN</td>\n",
       "      <td>C</td>\n",
       "      <td>3</td>\n",
       "    </tr>\n",
       "    <tr>\n",
       "      <th>277</th>\n",
       "      <td>278</td>\n",
       "      <td>0</td>\n",
       "      <td>2</td>\n",
       "      <td>Parkes, Mr. Francis \"Frank\"</td>\n",
       "      <td>male</td>\n",
       "      <td>NaN</td>\n",
       "      <td>0</td>\n",
       "      <td>0</td>\n",
       "      <td>239853</td>\n",
       "      <td>0.0000</td>\n",
       "      <td>NaN</td>\n",
       "      <td>S</td>\n",
       "      <td>3</td>\n",
       "    </tr>\n",
       "    <tr>\n",
       "      <th>17</th>\n",
       "      <td>18</td>\n",
       "      <td>1</td>\n",
       "      <td>2</td>\n",
       "      <td>Williams, Mr. Charles Eugene</td>\n",
       "      <td>male</td>\n",
       "      <td>NaN</td>\n",
       "      <td>0</td>\n",
       "      <td>0</td>\n",
       "      <td>244373</td>\n",
       "      <td>13.0000</td>\n",
       "      <td>NaN</td>\n",
       "      <td>S</td>\n",
       "      <td>3</td>\n",
       "    </tr>\n",
       "    <tr>\n",
       "      <th>732</th>\n",
       "      <td>733</td>\n",
       "      <td>0</td>\n",
       "      <td>2</td>\n",
       "      <td>Knight, Mr. Robert J</td>\n",
       "      <td>male</td>\n",
       "      <td>NaN</td>\n",
       "      <td>0</td>\n",
       "      <td>0</td>\n",
       "      <td>239855</td>\n",
       "      <td>0.0000</td>\n",
       "      <td>NaN</td>\n",
       "      <td>S</td>\n",
       "      <td>3</td>\n",
       "    </tr>\n",
       "    <tr>\n",
       "      <th>674</th>\n",
       "      <td>675</td>\n",
       "      <td>0</td>\n",
       "      <td>2</td>\n",
       "      <td>Watson, Mr. Ennis Hastings</td>\n",
       "      <td>male</td>\n",
       "      <td>NaN</td>\n",
       "      <td>0</td>\n",
       "      <td>0</td>\n",
       "      <td>239856</td>\n",
       "      <td>0.0000</td>\n",
       "      <td>NaN</td>\n",
       "      <td>S</td>\n",
       "      <td>3</td>\n",
       "    </tr>\n",
       "    <tr>\n",
       "      <th>413</th>\n",
       "      <td>414</td>\n",
       "      <td>0</td>\n",
       "      <td>2</td>\n",
       "      <td>Cunningham, Mr. Alfred Fleming</td>\n",
       "      <td>male</td>\n",
       "      <td>NaN</td>\n",
       "      <td>0</td>\n",
       "      <td>0</td>\n",
       "      <td>239853</td>\n",
       "      <td>0.0000</td>\n",
       "      <td>NaN</td>\n",
       "      <td>S</td>\n",
       "      <td>3</td>\n",
       "    </tr>\n",
       "    <tr>\n",
       "      <th>466</th>\n",
       "      <td>467</td>\n",
       "      <td>0</td>\n",
       "      <td>2</td>\n",
       "      <td>Campbell, Mr. William</td>\n",
       "      <td>male</td>\n",
       "      <td>NaN</td>\n",
       "      <td>0</td>\n",
       "      <td>0</td>\n",
       "      <td>239853</td>\n",
       "      <td>0.0000</td>\n",
       "      <td>NaN</td>\n",
       "      <td>S</td>\n",
       "      <td>3</td>\n",
       "    </tr>\n",
       "  </tbody>\n",
       "</table>\n",
       "</div>"
      ],
      "text/plain": [
       "     PassengerId  Survived  Pclass                            Name   Sex  Age  \\\n",
       "181          182         0       2                Pernot, Mr. Rene  male  NaN   \n",
       "547          548         1       2      Padro y Manent, Mr. Julian  male  NaN   \n",
       "277          278         0       2     Parkes, Mr. Francis \"Frank\"  male  NaN   \n",
       "17            18         1       2    Williams, Mr. Charles Eugene  male  NaN   \n",
       "732          733         0       2            Knight, Mr. Robert J  male  NaN   \n",
       "674          675         0       2      Watson, Mr. Ennis Hastings  male  NaN   \n",
       "413          414         0       2  Cunningham, Mr. Alfred Fleming  male  NaN   \n",
       "466          467         0       2           Campbell, Mr. William  male  NaN   \n",
       "\n",
       "     SibSp  Parch         Ticket     Fare Cabin Embarked  Title  \n",
       "181      0      0  SC/PARIS 2131  15.0500   NaN        C      3  \n",
       "547      0      0  SC/PARIS 2146  13.8625   NaN        C      3  \n",
       "277      0      0         239853   0.0000   NaN        S      3  \n",
       "17       0      0         244373  13.0000   NaN        S      3  \n",
       "732      0      0         239855   0.0000   NaN        S      3  \n",
       "674      0      0         239856   0.0000   NaN        S      3  \n",
       "413      0      0         239853   0.0000   NaN        S      3  \n",
       "466      0      0         239853   0.0000   NaN        S      3  "
      ]
     },
     "metadata": {},
     "output_type": "display_data"
    }
   ],
   "source": [
    "display(df_train[(df_train[\"Pclass\"] == 1) & (df_train[\"Sex\"] == \"female\") & (df_train[\"Age\"].isnull())])\n",
    "display(df_train[(df_train[\"Pclass\"] == 2) & (df_train[\"Sex\"] == \"male\") & (df_train[\"Age\"].isnull())])"
   ]
  },
  {
   "cell_type": "code",
   "execution_count": 11,
   "id": "1a244d89",
   "metadata": {
    "execution": {
     "iopub.execute_input": "2022-09-06T12:01:03.719900Z",
     "iopub.status.busy": "2022-09-06T12:01:03.719088Z",
     "iopub.status.idle": "2022-09-06T12:01:03.790275Z",
     "shell.execute_reply": "2022-09-06T12:01:03.789199Z"
    },
    "papermill": {
     "duration": 0.093708,
     "end_time": "2022-09-06T12:01:03.792805",
     "exception": false,
     "start_time": "2022-09-06T12:01:03.699097",
     "status": "completed"
    },
    "tags": []
   },
   "outputs": [],
   "source": [
    "def impute_age(df):\n",
    "    df.loc[(df[\"Pclass\"] == 1) & (df[\"Sex\"] == \"female\") & (df[\"Title\"] == 2) & (df[\"Age\"].isnull()), \"Age\"] = 30\n",
    "    df.loc[(df[\"Pclass\"] == 1) & (df[\"Sex\"] == \"female\") & (df[\"Title\"] == 4) & (df[\"Age\"].isnull()), \"Age\"] = 39\n",
    "    df.loc[(df[\"Pclass\"] == 1) & (df[\"Sex\"] == \"female\") & (df[\"Title\"] == 5) & (df[\"Age\"].isnull()), \"Age\"] = 40.5\n",
    "    df.loc[(df[\"Pclass\"] == 1) & (df[\"Sex\"] == \"male\") & (df[\"Title\"] == 1) & (df[\"Age\"].isnull()), \"Age\"] = 2.46\n",
    "    df.loc[(df[\"Pclass\"] == 1) & (df[\"Sex\"] == \"male\") & (df[\"Title\"] == 3) & (df[\"Age\"].isnull()), \"Age\"] = 38.5\n",
    "    df.loc[(df[\"Pclass\"] == 1) & (df[\"Sex\"] == \"male\") & (df[\"Title\"] == 5) & (df[\"Age\"].isnull()), \"Age\"] = 44\n",
    "    df.loc[(df[\"Pclass\"] == 1) & (df[\"Sex\"] == \"male\") & (df[\"Title\"] == 6) & (df[\"Age\"].isnull()), \"Age\"] = 56\n",
    "    \n",
    "    df.loc[(df[\"Pclass\"] == 2) & (df[\"Sex\"] == \"female\") & (df[\"Title\"] == 2) & (df[\"Age\"].isnull()), \"Age\"] = 24\n",
    "    df.loc[(df[\"Pclass\"] == 2) & (df[\"Sex\"] == \"female\") & (df[\"Title\"] == 4) & (df[\"Age\"].isnull()), \"Age\"] = 30.5\n",
    "    df.loc[(df[\"Pclass\"] == 2) & (df[\"Sex\"] == \"male\") & (df[\"Title\"] == 1) & (df[\"Age\"].isnull()), \"Age\"] = 1.5\n",
    "    df.loc[(df[\"Pclass\"] == 2) & (df[\"Sex\"] == \"male\") & (df[\"Title\"] == 3) & (df[\"Age\"].isnull()), \"Age\"] = 30\n",
    "    df.loc[(df[\"Pclass\"] == 2) & (df[\"Sex\"] == \"male\") & (df[\"Title\"] == 5) & (df[\"Age\"].isnull()), \"Age\"] = 52.5\n",
    "    \n",
    "    df.loc[(df[\"Pclass\"] == 3) & (df[\"Sex\"] == \"female\") & (df[\"Title\"] == 2) & (df[\"Age\"].isnull()), \"Age\"] = 18\n",
    "    df.loc[(df[\"Pclass\"] == 3) & (df[\"Sex\"] == \"female\") & (df[\"Title\"] == 4) & (df[\"Age\"].isnull()), \"Age\"] = 31\n",
    "    df.loc[(df[\"Pclass\"] == 3) & (df[\"Sex\"] == \"male\") & (df[\"Title\"] == 1) & (df[\"Age\"].isnull()), \"Age\"] = 4\n",
    "    df.loc[(df[\"Pclass\"] == 3) & (df[\"Sex\"] == \"male\") & (df[\"Title\"] == 3) & (df[\"Age\"].isnull()), \"Age\"] = 27\n",
    "    \n",
    "    return df\n",
    "\n",
    "df_train = impute_age(df_train)\n",
    "df_val = impute_age(df_val)\n",
    "df_test = impute_age(df_test)"
   ]
  },
  {
   "cell_type": "code",
   "execution_count": 12,
   "id": "a924b6f8",
   "metadata": {
    "execution": {
     "iopub.execute_input": "2022-09-06T12:01:03.832946Z",
     "iopub.status.busy": "2022-09-06T12:01:03.832271Z",
     "iopub.status.idle": "2022-09-06T12:01:03.848729Z",
     "shell.execute_reply": "2022-09-06T12:01:03.847159Z"
    },
    "papermill": {
     "duration": 0.039487,
     "end_time": "2022-09-06T12:01:03.851650",
     "exception": false,
     "start_time": "2022-09-06T12:01:03.812163",
     "status": "completed"
    },
    "tags": []
   },
   "outputs": [
    {
     "data": {
      "text/html": [
       "<div>\n",
       "<style scoped>\n",
       "    .dataframe tbody tr th:only-of-type {\n",
       "        vertical-align: middle;\n",
       "    }\n",
       "\n",
       "    .dataframe tbody tr th {\n",
       "        vertical-align: top;\n",
       "    }\n",
       "\n",
       "    .dataframe thead th {\n",
       "        text-align: right;\n",
       "    }\n",
       "</style>\n",
       "<table border=\"1\" class=\"dataframe\">\n",
       "  <thead>\n",
       "    <tr style=\"text-align: right;\">\n",
       "      <th></th>\n",
       "      <th>PassengerId</th>\n",
       "      <th>Survived</th>\n",
       "      <th>Pclass</th>\n",
       "      <th>Name</th>\n",
       "      <th>Sex</th>\n",
       "      <th>Age</th>\n",
       "      <th>SibSp</th>\n",
       "      <th>Parch</th>\n",
       "      <th>Ticket</th>\n",
       "      <th>Fare</th>\n",
       "      <th>Cabin</th>\n",
       "      <th>Embarked</th>\n",
       "      <th>Title</th>\n",
       "    </tr>\n",
       "  </thead>\n",
       "  <tbody>\n",
       "    <tr>\n",
       "      <th>256</th>\n",
       "      <td>257</td>\n",
       "      <td>1</td>\n",
       "      <td>1</td>\n",
       "      <td>Thorne, Mrs. Gertrude Maybelle</td>\n",
       "      <td>female</td>\n",
       "      <td>39.0</td>\n",
       "      <td>0</td>\n",
       "      <td>0</td>\n",
       "      <td>PC 17585</td>\n",
       "      <td>79.2000</td>\n",
       "      <td>NaN</td>\n",
       "      <td>C</td>\n",
       "      <td>4</td>\n",
       "    </tr>\n",
       "    <tr>\n",
       "      <th>166</th>\n",
       "      <td>167</td>\n",
       "      <td>1</td>\n",
       "      <td>1</td>\n",
       "      <td>Chibnall, Mrs. (Edith Martha Bowerman)</td>\n",
       "      <td>female</td>\n",
       "      <td>39.0</td>\n",
       "      <td>0</td>\n",
       "      <td>1</td>\n",
       "      <td>113505</td>\n",
       "      <td>55.0000</td>\n",
       "      <td>E33</td>\n",
       "      <td>S</td>\n",
       "      <td>4</td>\n",
       "    </tr>\n",
       "    <tr>\n",
       "      <th>2</th>\n",
       "      <td>3</td>\n",
       "      <td>1</td>\n",
       "      <td>3</td>\n",
       "      <td>Heikkinen, Miss. Laina</td>\n",
       "      <td>female</td>\n",
       "      <td>26.0</td>\n",
       "      <td>0</td>\n",
       "      <td>0</td>\n",
       "      <td>STON/O2. 3101282</td>\n",
       "      <td>7.9250</td>\n",
       "      <td>NaN</td>\n",
       "      <td>S</td>\n",
       "      <td>2</td>\n",
       "    </tr>\n",
       "    <tr>\n",
       "      <th>1</th>\n",
       "      <td>2</td>\n",
       "      <td>1</td>\n",
       "      <td>1</td>\n",
       "      <td>Cumings, Mrs. John Bradley (Florence Briggs Th...</td>\n",
       "      <td>female</td>\n",
       "      <td>38.0</td>\n",
       "      <td>1</td>\n",
       "      <td>0</td>\n",
       "      <td>PC 17599</td>\n",
       "      <td>71.2833</td>\n",
       "      <td>C85</td>\n",
       "      <td>C</td>\n",
       "      <td>4</td>\n",
       "    </tr>\n",
       "    <tr>\n",
       "      <th>466</th>\n",
       "      <td>467</td>\n",
       "      <td>0</td>\n",
       "      <td>2</td>\n",
       "      <td>Campbell, Mr. William</td>\n",
       "      <td>male</td>\n",
       "      <td>30.0</td>\n",
       "      <td>0</td>\n",
       "      <td>0</td>\n",
       "      <td>239853</td>\n",
       "      <td>0.0000</td>\n",
       "      <td>NaN</td>\n",
       "      <td>S</td>\n",
       "      <td>3</td>\n",
       "    </tr>\n",
       "    <tr>\n",
       "      <th>732</th>\n",
       "      <td>733</td>\n",
       "      <td>0</td>\n",
       "      <td>2</td>\n",
       "      <td>Knight, Mr. Robert J</td>\n",
       "      <td>male</td>\n",
       "      <td>30.0</td>\n",
       "      <td>0</td>\n",
       "      <td>0</td>\n",
       "      <td>239855</td>\n",
       "      <td>0.0000</td>\n",
       "      <td>NaN</td>\n",
       "      <td>S</td>\n",
       "      <td>3</td>\n",
       "    </tr>\n",
       "  </tbody>\n",
       "</table>\n",
       "</div>"
      ],
      "text/plain": [
       "     PassengerId  Survived  Pclass  \\\n",
       "256          257         1       1   \n",
       "166          167         1       1   \n",
       "2              3         1       3   \n",
       "1              2         1       1   \n",
       "466          467         0       2   \n",
       "732          733         0       2   \n",
       "\n",
       "                                                  Name     Sex   Age  SibSp  \\\n",
       "256                     Thorne, Mrs. Gertrude Maybelle  female  39.0      0   \n",
       "166             Chibnall, Mrs. (Edith Martha Bowerman)  female  39.0      0   \n",
       "2                               Heikkinen, Miss. Laina  female  26.0      0   \n",
       "1    Cumings, Mrs. John Bradley (Florence Briggs Th...  female  38.0      1   \n",
       "466                              Campbell, Mr. William    male  30.0      0   \n",
       "732                               Knight, Mr. Robert J    male  30.0      0   \n",
       "\n",
       "     Parch            Ticket     Fare Cabin Embarked  Title  \n",
       "256      0          PC 17585  79.2000   NaN        C      4  \n",
       "166      1            113505  55.0000   E33        S      4  \n",
       "2        0  STON/O2. 3101282   7.9250   NaN        S      2  \n",
       "1        0          PC 17599  71.2833   C85        C      4  \n",
       "466      0            239853   0.0000   NaN        S      3  \n",
       "732      0            239855   0.0000   NaN        S      3  "
      ]
     },
     "execution_count": 12,
     "metadata": {},
     "output_type": "execute_result"
    }
   ],
   "source": [
    "df_train.loc[[256, 166, 2, 1, 466, 732]]"
   ]
  },
  {
   "cell_type": "code",
   "execution_count": 13,
   "id": "fd1acd9b",
   "metadata": {
    "execution": {
     "iopub.execute_input": "2022-09-06T12:01:03.893194Z",
     "iopub.status.busy": "2022-09-06T12:01:03.892573Z",
     "iopub.status.idle": "2022-09-06T12:01:03.899105Z",
     "shell.execute_reply": "2022-09-06T12:01:03.898008Z"
    },
    "papermill": {
     "duration": 0.030419,
     "end_time": "2022-09-06T12:01:03.901819",
     "exception": false,
     "start_time": "2022-09-06T12:01:03.871400",
     "status": "completed"
    },
    "tags": []
   },
   "outputs": [
    {
     "name": "stdout",
     "output_type": "stream",
     "text": [
      "0\n",
      "0\n",
      "0\n"
     ]
    }
   ],
   "source": [
    "print(df_train[\"Age\"].isnull().sum())\n",
    "print(df_val[\"Age\"].isnull().sum())\n",
    "print(df_test[\"Age\"].isnull().sum())\n"
   ]
  },
  {
   "cell_type": "code",
   "execution_count": 14,
   "id": "02d6350b",
   "metadata": {
    "execution": {
     "iopub.execute_input": "2022-09-06T12:01:03.942997Z",
     "iopub.status.busy": "2022-09-06T12:01:03.942344Z",
     "iopub.status.idle": "2022-09-06T12:01:03.952876Z",
     "shell.execute_reply": "2022-09-06T12:01:03.952105Z"
    },
    "papermill": {
     "duration": 0.033572,
     "end_time": "2022-09-06T12:01:03.955092",
     "exception": false,
     "start_time": "2022-09-06T12:01:03.921520",
     "status": "completed"
    },
    "tags": []
   },
   "outputs": [],
   "source": [
    "# Discretize Age into groups\n",
    "\n",
    "# * 0 Baby        0 - 3\n",
    "# * 1 Child       3 - 13\n",
    "# * 2 Teenager   13 - 19\n",
    "# * 3 Grown Up   19 - 29\n",
    "# * 4 Adult      29 - 45\n",
    "# * 5 Aging      45 - 60\n",
    "# * 6 Aged       60 - inf\n",
    "\n",
    "age_bins = [0, 3, 13, 19, 29, 45, 60, np.inf]\n",
    "\n",
    "df_train[\"Age\"] = pd.cut(df_train[\"Age\"], bins=age_bins, labels=False)\n",
    "df_val[\"Age\"] = pd.cut(df_val[\"Age\"], bins=age_bins, labels=False)\n",
    "df_test[\"Age\"] = pd.cut(df_test[\"Age\"], bins=age_bins, labels=False)"
   ]
  },
  {
   "cell_type": "code",
   "execution_count": 15,
   "id": "a7f91f0d",
   "metadata": {
    "execution": {
     "iopub.execute_input": "2022-09-06T12:01:03.996517Z",
     "iopub.status.busy": "2022-09-06T12:01:03.995859Z",
     "iopub.status.idle": "2022-09-06T12:01:04.307792Z",
     "shell.execute_reply": "2022-09-06T12:01:04.306705Z"
    },
    "papermill": {
     "duration": 0.335828,
     "end_time": "2022-09-06T12:01:04.310090",
     "exception": false,
     "start_time": "2022-09-06T12:01:03.974262",
     "status": "completed"
    },
    "tags": []
   },
   "outputs": [
    {
     "data": {
      "text/plain": [
       "<AxesSubplot:xlabel='Age', ylabel='count'>"
      ]
     },
     "execution_count": 15,
     "metadata": {},
     "output_type": "execute_result"
    },
    {
     "data": {
      "image/png": "[encoded data removed]",
      "text/plain": [
       "<Figure size 1080x360 with 2 Axes>"
      ]
     },
     "metadata": {
      "needs_background": "light"
     },
     "output_type": "display_data"
    }
   ],
   "source": [
    "fig, axs = plt.subplots(1,2, figsize=(15,5))\n",
    "sns.kdeplot(data=df_train, x=\"Age\", hue=\"Survived\", ax=axs[0])\n",
    "sns.countplot(data=df_train, x=\"Age\", hue=\"Survived\", ax=axs[1])"
   ]
  },
  {
   "cell_type": "markdown",
   "id": "823360bd",
   "metadata": {
    "papermill": {
     "duration": 0.020005,
     "end_time": "2022-09-06T12:01:04.349423",
     "exception": false,
     "start_time": "2022-09-06T12:01:04.329418",
     "status": "completed"
    },
    "tags": []
   },
   "source": [
    "## Fare\n",
    "Discretize Fare into 5 equally big groups"
   ]
  },
  {
   "cell_type": "code",
   "execution_count": 16,
   "id": "2c4e9ab4",
   "metadata": {
    "execution": {
     "iopub.execute_input": "2022-09-06T12:01:04.391356Z",
     "iopub.status.busy": "2022-09-06T12:01:04.390708Z",
     "iopub.status.idle": "2022-09-06T12:01:04.406744Z",
     "shell.execute_reply": "2022-09-06T12:01:04.406061Z"
    },
    "papermill": {
     "duration": 0.039797,
     "end_time": "2022-09-06T12:01:04.409130",
     "exception": false,
     "start_time": "2022-09-06T12:01:04.369333",
     "status": "completed"
    },
    "tags": []
   },
   "outputs": [
    {
     "data": {
      "text/plain": [
       "array([    -inf,  7.88916, 10.5    , 21.045  , 39.6875 ,      inf])"
      ]
     },
     "execution_count": 16,
     "metadata": {},
     "output_type": "execute_result"
    }
   ],
   "source": [
    "fare_bins = pd.qcut(df_train[\"Fare\"], 5, retbins=True)[1]\n",
    "fare_bins[0] = -np.inf\n",
    "fare_bins[-1] = np.inf\n",
    "fare_bins"
   ]
  },
  {
   "cell_type": "code",
   "execution_count": 17,
   "id": "427d8281",
   "metadata": {
    "execution": {
     "iopub.execute_input": "2022-09-06T12:01:04.451085Z",
     "iopub.status.busy": "2022-09-06T12:01:04.450449Z",
     "iopub.status.idle": "2022-09-06T12:01:04.460387Z",
     "shell.execute_reply": "2022-09-06T12:01:04.459331Z"
    },
    "papermill": {
     "duration": 0.033227,
     "end_time": "2022-09-06T12:01:04.462323",
     "exception": false,
     "start_time": "2022-09-06T12:01:04.429096",
     "status": "completed"
    },
    "tags": []
   },
   "outputs": [],
   "source": [
    "df_train[\"Fare\"] = pd.cut(df_train[\"Fare\"], bins=fare_bins, labels=False)\n",
    "df_val[\"Fare\"] = pd.cut(df_val[\"Fare\"], bins=fare_bins, labels=False)\n",
    "df_test[\"Fare\"] = pd.cut(df_test[\"Fare\"], bins=fare_bins, labels=False)"
   ]
  },
  {
   "cell_type": "code",
   "execution_count": 18,
   "id": "fcbbc17e",
   "metadata": {
    "execution": {
     "iopub.execute_input": "2022-09-06T12:01:04.503673Z",
     "iopub.status.busy": "2022-09-06T12:01:04.502709Z",
     "iopub.status.idle": "2022-09-06T12:01:04.798762Z",
     "shell.execute_reply": "2022-09-06T12:01:04.797621Z"
    },
    "papermill": {
     "duration": 0.318853,
     "end_time": "2022-09-06T12:01:04.800833",
     "exception": false,
     "start_time": "2022-09-06T12:01:04.481980",
     "status": "completed"
    },
    "tags": []
   },
   "outputs": [
    {
     "data": {
      "text/plain": [
       "<AxesSubplot:xlabel='Fare', ylabel='count'>"
      ]
     },
     "execution_count": 18,
     "metadata": {},
     "output_type": "execute_result"
    },
    {
     "data": {
      "image/png": "[encoded data removed]",
      "text/plain": [
       "<Figure size 1080x360 with 2 Axes>"
      ]
     },
     "metadata": {
      "needs_background": "light"
     },
     "output_type": "display_data"
    }
   ],
   "source": [
    "fig, axs = plt.subplots(1,2, figsize=(15,5))\n",
    "sns.kdeplot(data=df_train, x=\"Fare\", hue=\"Survived\", ax=axs[0])\n",
    "sns.countplot(data=df_train, x=\"Fare\", hue=\"Survived\", ax=axs[1])"
   ]
  },
  {
   "cell_type": "markdown",
   "id": "7d5b29c6",
   "metadata": {
    "papermill": {
     "duration": 0.019572,
     "end_time": "2022-09-06T12:01:04.840533",
     "exception": false,
     "start_time": "2022-09-06T12:01:04.820961",
     "status": "completed"
    },
    "tags": []
   },
   "source": [
    "## Sex Encoding\n",
    "Encode Sex Labels"
   ]
  },
  {
   "cell_type": "code",
   "execution_count": 19,
   "id": "e713c3f1",
   "metadata": {
    "execution": {
     "iopub.execute_input": "2022-09-06T12:01:04.881579Z",
     "iopub.status.busy": "2022-09-06T12:01:04.881233Z",
     "iopub.status.idle": "2022-09-06T12:01:04.889685Z",
     "shell.execute_reply": "2022-09-06T12:01:04.889051Z"
    },
    "papermill": {
     "duration": 0.031859,
     "end_time": "2022-09-06T12:01:04.892134",
     "exception": false,
     "start_time": "2022-09-06T12:01:04.860275",
     "status": "completed"
    },
    "tags": []
   },
   "outputs": [],
   "source": [
    "df_train[\"Sex\"] = df_train[\"Sex\"].map( {'female': 1, 'male': 0} ).astype(int)\n",
    "df_val[\"Sex\"] = df_val[\"Sex\"].map( {'female': 1, 'male': 0} ).astype(int)\n",
    "df_test[\"Sex\"] = df_test[\"Sex\"].map( {'female': 1, 'male': 0} ).astype(int)"
   ]
  },
  {
   "cell_type": "code",
   "execution_count": 20,
   "id": "76390a13",
   "metadata": {
    "execution": {
     "iopub.execute_input": "2022-09-06T12:01:04.935182Z",
     "iopub.status.busy": "2022-09-06T12:01:04.934165Z",
     "iopub.status.idle": "2022-09-06T12:01:05.083812Z",
     "shell.execute_reply": "2022-09-06T12:01:05.082553Z"
    },
    "papermill": {
     "duration": 0.17372,
     "end_time": "2022-09-06T12:01:05.086165",
     "exception": false,
     "start_time": "2022-09-06T12:01:04.912445",
     "status": "completed"
    },
    "tags": []
   },
   "outputs": [
    {
     "data": {
      "text/plain": [
       "<AxesSubplot:xlabel='Sex', ylabel='count'>"
      ]
     },
     "execution_count": 20,
     "metadata": {},
     "output_type": "execute_result"
    },
    {
     "data": {
      "image/png": "[encoded data removed]",
      "text/plain": [
       "<Figure size 576x504 with 1 Axes>"
      ]
     },
     "metadata": {
      "needs_background": "light"
     },
     "output_type": "display_data"
    }
   ],
   "source": [
    "plt.figure(figsize=(8,7))\n",
    "sns.countplot(data=df_train, x=\"Sex\", hue=\"Survived\")"
   ]
  },
  {
   "cell_type": "markdown",
   "id": "98370945",
   "metadata": {
    "papermill": {
     "duration": 0.020555,
     "end_time": "2022-09-06T12:01:05.127935",
     "exception": false,
     "start_time": "2022-09-06T12:01:05.107380",
     "status": "completed"
    },
    "tags": []
   },
   "source": [
    "## Embarked\n",
    "Fill missing embarked values with 'S' port and encode Embarked Labels"
   ]
  },
  {
   "cell_type": "code",
   "execution_count": 21,
   "id": "fee48877",
   "metadata": {
    "execution": {
     "iopub.execute_input": "2022-09-06T12:01:05.170748Z",
     "iopub.status.busy": "2022-09-06T12:01:05.170361Z",
     "iopub.status.idle": "2022-09-06T12:01:05.184054Z",
     "shell.execute_reply": "2022-09-06T12:01:05.183168Z"
    },
    "papermill": {
     "duration": 0.037305,
     "end_time": "2022-09-06T12:01:05.185890",
     "exception": false,
     "start_time": "2022-09-06T12:01:05.148585",
     "status": "completed"
    },
    "tags": []
   },
   "outputs": [
    {
     "data": {
      "text/html": [
       "<div>\n",
       "<style scoped>\n",
       "    .dataframe tbody tr th:only-of-type {\n",
       "        vertical-align: middle;\n",
       "    }\n",
       "\n",
       "    .dataframe tbody tr th {\n",
       "        vertical-align: top;\n",
       "    }\n",
       "\n",
       "    .dataframe thead th {\n",
       "        text-align: right;\n",
       "    }\n",
       "</style>\n",
       "<table border=\"1\" class=\"dataframe\">\n",
       "  <thead>\n",
       "    <tr style=\"text-align: right;\">\n",
       "      <th></th>\n",
       "      <th>Embarked</th>\n",
       "      <th>embark_count</th>\n",
       "    </tr>\n",
       "  </thead>\n",
       "  <tbody>\n",
       "    <tr>\n",
       "      <th>0</th>\n",
       "      <td>C</td>\n",
       "      <td>125</td>\n",
       "    </tr>\n",
       "    <tr>\n",
       "      <th>1</th>\n",
       "      <td>Q</td>\n",
       "      <td>60</td>\n",
       "    </tr>\n",
       "    <tr>\n",
       "      <th>2</th>\n",
       "      <td>S</td>\n",
       "      <td>525</td>\n",
       "    </tr>\n",
       "  </tbody>\n",
       "</table>\n",
       "</div>"
      ],
      "text/plain": [
       "  Embarked  embark_count\n",
       "0        C           125\n",
       "1        Q            60\n",
       "2        S           525"
      ]
     },
     "execution_count": 21,
     "metadata": {},
     "output_type": "execute_result"
    }
   ],
   "source": [
    "df_train.groupby(\"Embarked\").count()[\"PassengerId\"].reset_index().rename(columns={\"PassengerId\": \"embark_count\"})"
   ]
  },
  {
   "cell_type": "code",
   "execution_count": 22,
   "id": "90aa4a76",
   "metadata": {
    "execution": {
     "iopub.execute_input": "2022-09-06T12:01:05.229863Z",
     "iopub.status.busy": "2022-09-06T12:01:05.229489Z",
     "iopub.status.idle": "2022-09-06T12:01:05.241394Z",
     "shell.execute_reply": "2022-09-06T12:01:05.240346Z"
    },
    "papermill": {
     "duration": 0.036244,
     "end_time": "2022-09-06T12:01:05.243332",
     "exception": false,
     "start_time": "2022-09-06T12:01:05.207088",
     "status": "completed"
    },
    "tags": []
   },
   "outputs": [],
   "source": [
    "df_train = df_train.fillna({\"Embarked\": \"S\"})\n",
    "df_val = df_val.fillna({\"Embarked\": \"S\"})\n",
    "df_test = df_test.fillna({\"Embarked\": \"S\"})\n",
    "\n",
    "df_train[\"Embarked\"] = df_train[\"Embarked\"].map( {'S': 0, 'C': 1, 'Q': 2} ).astype(int)\n",
    "df_val[\"Embarked\"] = df_val[\"Embarked\"].map( {'S': 0, 'C': 1, 'Q': 2} ).astype(int)\n",
    "df_test[\"Embarked\"] = df_test[\"Embarked\"].map( {'S': 0, 'C': 1, 'Q': 2} ).astype(int)"
   ]
  },
  {
   "cell_type": "code",
   "execution_count": 23,
   "id": "dbe627fd",
   "metadata": {
    "execution": {
     "iopub.execute_input": "2022-09-06T12:01:05.288200Z",
     "iopub.status.busy": "2022-09-06T12:01:05.287599Z",
     "iopub.status.idle": "2022-09-06T12:01:05.518832Z",
     "shell.execute_reply": "2022-09-06T12:01:05.517775Z"
    },
    "papermill": {
     "duration": 0.256712,
     "end_time": "2022-09-06T12:01:05.521430",
     "exception": false,
     "start_time": "2022-09-06T12:01:05.264718",
     "status": "completed"
    },
    "tags": []
   },
   "outputs": [
    {
     "data": {
      "text/plain": [
       "<AxesSubplot:xlabel='Embarked', ylabel='count'>"
      ]
     },
     "execution_count": 23,
     "metadata": {},
     "output_type": "execute_result"
    },
    {
     "data": {
      "image/png": "[encoded data removed]",
      "text/plain": [
       "<Figure size 1080x360 with 2 Axes>"
      ]
     },
     "metadata": {
      "needs_background": "light"
     },
     "output_type": "display_data"
    }
   ],
   "source": [
    "fig, axs = plt.subplots(1,2, figsize=(15,5))\n",
    "sns.countplot(data=df_train, x=\"Embarked\", hue=\"Survived\", ax=axs[0])\n",
    "sns.countplot(data=df_train, x=\"Embarked\", ax=axs[1])"
   ]
  },
  {
   "cell_type": "markdown",
   "id": "74a748ff",
   "metadata": {
    "papermill": {
     "duration": 0.021383,
     "end_time": "2022-09-06T12:01:05.565837",
     "exception": false,
     "start_time": "2022-09-06T12:01:05.544454",
     "status": "completed"
    },
    "tags": []
   },
   "source": [
    "## Remove Ticket, Name, Cabin"
   ]
  },
  {
   "cell_type": "code",
   "execution_count": 24,
   "id": "3704efdb",
   "metadata": {
    "execution": {
     "iopub.execute_input": "2022-09-06T12:01:05.610724Z",
     "iopub.status.busy": "2022-09-06T12:01:05.609882Z",
     "iopub.status.idle": "2022-09-06T12:01:05.617797Z",
     "shell.execute_reply": "2022-09-06T12:01:05.617053Z"
    },
    "papermill": {
     "duration": 0.032184,
     "end_time": "2022-09-06T12:01:05.619533",
     "exception": false,
     "start_time": "2022-09-06T12:01:05.587349",
     "status": "completed"
    },
    "tags": []
   },
   "outputs": [],
   "source": [
    "df_train = df_train.drop([\"Ticket\", \"Name\", \"Cabin\"], axis=1)\n",
    "df_val = df_val.drop([\"Ticket\", \"Name\", \"Cabin\"], axis=1)\n",
    "df_test = df_test.drop([\"Ticket\", \"Name\", \"Cabin\"], axis=1)"
   ]
  },
  {
   "cell_type": "markdown",
   "id": "a191b921",
   "metadata": {
    "papermill": {
     "duration": 0.020471,
     "end_time": "2022-09-06T12:01:05.660903",
     "exception": false,
     "start_time": "2022-09-06T12:01:05.640432",
     "status": "completed"
    },
    "tags": []
   },
   "source": [
    "## Add FamilySize Feature\n",
    "Add familysize feature based upon SibSp and Parch features"
   ]
  },
  {
   "cell_type": "code",
   "execution_count": 25,
   "id": "9e41525a",
   "metadata": {
    "execution": {
     "iopub.execute_input": "2022-09-06T12:01:05.703786Z",
     "iopub.status.busy": "2022-09-06T12:01:05.702830Z",
     "iopub.status.idle": "2022-09-06T12:01:05.711912Z",
     "shell.execute_reply": "2022-09-06T12:01:05.710646Z"
    },
    "papermill": {
     "duration": 0.032596,
     "end_time": "2022-09-06T12:01:05.713772",
     "exception": false,
     "start_time": "2022-09-06T12:01:05.681176",
     "status": "completed"
    },
    "tags": []
   },
   "outputs": [],
   "source": [
    "df_train[\"family_size\"] = df_train[\"SibSp\"] + df_train[\"Parch\"] + 1\n",
    "df_val[\"family_size\"] = df_val[\"SibSp\"] + df_val[\"Parch\"] + 1\n",
    "df_test[\"family_size\"] = df_test[\"SibSp\"] + df_test[\"Parch\"] + 1"
   ]
  },
  {
   "cell_type": "code",
   "execution_count": 26,
   "id": "9d54de6f",
   "metadata": {
    "execution": {
     "iopub.execute_input": "2022-09-06T12:01:05.757243Z",
     "iopub.status.busy": "2022-09-06T12:01:05.756807Z",
     "iopub.status.idle": "2022-09-06T12:01:06.122987Z",
     "shell.execute_reply": "2022-09-06T12:01:06.121801Z"
    },
    "papermill": {
     "duration": 0.391013,
     "end_time": "2022-09-06T12:01:06.125579",
     "exception": false,
     "start_time": "2022-09-06T12:01:05.734566",
     "status": "completed"
    },
    "tags": []
   },
   "outputs": [
    {
     "data": {
      "text/plain": [
       "<AxesSubplot:xlabel='family_size', ylabel='count'>"
      ]
     },
     "execution_count": 26,
     "metadata": {},
     "output_type": "execute_result"
    },
    {
     "data": {
      "image/png": "[encoded data removed]",
      "text/plain": [
       "<Figure size 1584x504 with 2 Axes>"
      ]
     },
     "metadata": {
      "needs_background": "light"
     },
     "output_type": "display_data"
    }
   ],
   "source": [
    "fig, axs = plt.subplots(1,2, figsize=(22,7))\n",
    "sns.kdeplot(data=df_train, x=\"family_size\", hue=\"Survived\", ax=axs[0])\n",
    "sns.countplot(data=df_train, x=\"family_size\", hue=\"Survived\", ax=axs[1])"
   ]
  },
  {
   "cell_type": "markdown",
   "id": "40037d6c",
   "metadata": {
    "papermill": {
     "duration": 0.030302,
     "end_time": "2022-09-06T12:01:06.178004",
     "exception": false,
     "start_time": "2022-09-06T12:01:06.147702",
     "status": "completed"
    },
    "tags": []
   },
   "source": [
    "# Final data check\n",
    "Check if there are any missing values, or non encoded features"
   ]
  },
  {
   "cell_type": "code",
   "execution_count": 27,
   "id": "45032169",
   "metadata": {
    "execution": {
     "iopub.execute_input": "2022-09-06T12:01:06.222729Z",
     "iopub.status.busy": "2022-09-06T12:01:06.222415Z",
     "iopub.status.idle": "2022-09-06T12:01:06.282959Z",
     "shell.execute_reply": "2022-09-06T12:01:06.281097Z"
    },
    "papermill": {
     "duration": 0.085149,
     "end_time": "2022-09-06T12:01:06.285102",
     "exception": false,
     "start_time": "2022-09-06T12:01:06.199953",
     "status": "completed"
    },
    "tags": []
   },
   "outputs": [
    {
     "data": {
      "text/html": [
       "<div>\n",
       "<style scoped>\n",
       "    .dataframe tbody tr th:only-of-type {\n",
       "        vertical-align: middle;\n",
       "    }\n",
       "\n",
       "    .dataframe tbody tr th {\n",
       "        vertical-align: top;\n",
       "    }\n",
       "\n",
       "    .dataframe thead th {\n",
       "        text-align: right;\n",
       "    }\n",
       "</style>\n",
       "<table border=\"1\" class=\"dataframe\">\n",
       "  <thead>\n",
       "    <tr style=\"text-align: right;\">\n",
       "      <th></th>\n",
       "      <th>PassengerId</th>\n",
       "      <th>Survived</th>\n",
       "      <th>Pclass</th>\n",
       "      <th>Sex</th>\n",
       "      <th>Age</th>\n",
       "      <th>SibSp</th>\n",
       "      <th>Parch</th>\n",
       "      <th>Fare</th>\n",
       "      <th>Embarked</th>\n",
       "      <th>Title</th>\n",
       "      <th>family_size</th>\n",
       "    </tr>\n",
       "  </thead>\n",
       "  <tbody>\n",
       "    <tr>\n",
       "      <th>331</th>\n",
       "      <td>332</td>\n",
       "      <td>0</td>\n",
       "      <td>1</td>\n",
       "      <td>0</td>\n",
       "      <td>5</td>\n",
       "      <td>0</td>\n",
       "      <td>0</td>\n",
       "      <td>3</td>\n",
       "      <td>0</td>\n",
       "      <td>3</td>\n",
       "      <td>1</td>\n",
       "    </tr>\n",
       "    <tr>\n",
       "      <th>733</th>\n",
       "      <td>734</td>\n",
       "      <td>0</td>\n",
       "      <td>2</td>\n",
       "      <td>0</td>\n",
       "      <td>3</td>\n",
       "      <td>0</td>\n",
       "      <td>0</td>\n",
       "      <td>2</td>\n",
       "      <td>0</td>\n",
       "      <td>3</td>\n",
       "      <td>1</td>\n",
       "    </tr>\n",
       "    <tr>\n",
       "      <th>382</th>\n",
       "      <td>383</td>\n",
       "      <td>0</td>\n",
       "      <td>3</td>\n",
       "      <td>0</td>\n",
       "      <td>4</td>\n",
       "      <td>0</td>\n",
       "      <td>0</td>\n",
       "      <td>1</td>\n",
       "      <td>0</td>\n",
       "      <td>3</td>\n",
       "      <td>1</td>\n",
       "    </tr>\n",
       "    <tr>\n",
       "      <th>704</th>\n",
       "      <td>705</td>\n",
       "      <td>0</td>\n",
       "      <td>3</td>\n",
       "      <td>0</td>\n",
       "      <td>3</td>\n",
       "      <td>1</td>\n",
       "      <td>0</td>\n",
       "      <td>0</td>\n",
       "      <td>0</td>\n",
       "      <td>3</td>\n",
       "      <td>2</td>\n",
       "    </tr>\n",
       "    <tr>\n",
       "      <th>813</th>\n",
       "      <td>814</td>\n",
       "      <td>0</td>\n",
       "      <td>3</td>\n",
       "      <td>1</td>\n",
       "      <td>1</td>\n",
       "      <td>4</td>\n",
       "      <td>2</td>\n",
       "      <td>3</td>\n",
       "      <td>0</td>\n",
       "      <td>2</td>\n",
       "      <td>7</td>\n",
       "    </tr>\n",
       "    <tr>\n",
       "      <th>...</th>\n",
       "      <td>...</td>\n",
       "      <td>...</td>\n",
       "      <td>...</td>\n",
       "      <td>...</td>\n",
       "      <td>...</td>\n",
       "      <td>...</td>\n",
       "      <td>...</td>\n",
       "      <td>...</td>\n",
       "      <td>...</td>\n",
       "      <td>...</td>\n",
       "      <td>...</td>\n",
       "    </tr>\n",
       "    <tr>\n",
       "      <th>106</th>\n",
       "      <td>107</td>\n",
       "      <td>1</td>\n",
       "      <td>3</td>\n",
       "      <td>1</td>\n",
       "      <td>3</td>\n",
       "      <td>0</td>\n",
       "      <td>0</td>\n",
       "      <td>0</td>\n",
       "      <td>0</td>\n",
       "      <td>2</td>\n",
       "      <td>1</td>\n",
       "    </tr>\n",
       "    <tr>\n",
       "      <th>270</th>\n",
       "      <td>271</td>\n",
       "      <td>0</td>\n",
       "      <td>1</td>\n",
       "      <td>0</td>\n",
       "      <td>4</td>\n",
       "      <td>0</td>\n",
       "      <td>0</td>\n",
       "      <td>3</td>\n",
       "      <td>0</td>\n",
       "      <td>3</td>\n",
       "      <td>1</td>\n",
       "    </tr>\n",
       "    <tr>\n",
       "      <th>860</th>\n",
       "      <td>861</td>\n",
       "      <td>0</td>\n",
       "      <td>3</td>\n",
       "      <td>0</td>\n",
       "      <td>4</td>\n",
       "      <td>2</td>\n",
       "      <td>0</td>\n",
       "      <td>2</td>\n",
       "      <td>0</td>\n",
       "      <td>3</td>\n",
       "      <td>3</td>\n",
       "    </tr>\n",
       "    <tr>\n",
       "      <th>435</th>\n",
       "      <td>436</td>\n",
       "      <td>1</td>\n",
       "      <td>1</td>\n",
       "      <td>1</td>\n",
       "      <td>2</td>\n",
       "      <td>1</td>\n",
       "      <td>2</td>\n",
       "      <td>4</td>\n",
       "      <td>0</td>\n",
       "      <td>2</td>\n",
       "      <td>4</td>\n",
       "    </tr>\n",
       "    <tr>\n",
       "      <th>102</th>\n",
       "      <td>103</td>\n",
       "      <td>0</td>\n",
       "      <td>1</td>\n",
       "      <td>0</td>\n",
       "      <td>3</td>\n",
       "      <td>0</td>\n",
       "      <td>1</td>\n",
       "      <td>4</td>\n",
       "      <td>0</td>\n",
       "      <td>3</td>\n",
       "      <td>2</td>\n",
       "    </tr>\n",
       "  </tbody>\n",
       "</table>\n",
       "<p>712 rows × 11 columns</p>\n",
       "</div>"
      ],
      "text/plain": [
       "     PassengerId  Survived  Pclass  Sex  Age  SibSp  Parch  Fare  Embarked  \\\n",
       "331          332         0       1    0    5      0      0     3         0   \n",
       "733          734         0       2    0    3      0      0     2         0   \n",
       "382          383         0       3    0    4      0      0     1         0   \n",
       "704          705         0       3    0    3      1      0     0         0   \n",
       "813          814         0       3    1    1      4      2     3         0   \n",
       "..           ...       ...     ...  ...  ...    ...    ...   ...       ...   \n",
       "106          107         1       3    1    3      0      0     0         0   \n",
       "270          271         0       1    0    4      0      0     3         0   \n",
       "860          861         0       3    0    4      2      0     2         0   \n",
       "435          436         1       1    1    2      1      2     4         0   \n",
       "102          103         0       1    0    3      0      1     4         0   \n",
       "\n",
       "     Title  family_size  \n",
       "331      3            1  \n",
       "733      3            1  \n",
       "382      3            1  \n",
       "704      3            2  \n",
       "813      2            7  \n",
       "..     ...          ...  \n",
       "106      2            1  \n",
       "270      3            1  \n",
       "860      3            3  \n",
       "435      2            4  \n",
       "102      3            2  \n",
       "\n",
       "[712 rows x 11 columns]"
      ]
     },
     "metadata": {},
     "output_type": "display_data"
    },
    {
     "name": "stdout",
     "output_type": "stream",
     "text": [
      "<class 'pandas.core.frame.DataFrame'>\n",
      "Int64Index: 712 entries, 331 to 102\n",
      "Data columns (total 11 columns):\n",
      " #   Column       Non-Null Count  Dtype\n",
      "---  ------       --------------  -----\n",
      " 0   PassengerId  712 non-null    int64\n",
      " 1   Survived     712 non-null    int64\n",
      " 2   Pclass       712 non-null    int64\n",
      " 3   Sex          712 non-null    int64\n",
      " 4   Age          712 non-null    int64\n",
      " 5   SibSp        712 non-null    int64\n",
      " 6   Parch        712 non-null    int64\n",
      " 7   Fare         712 non-null    int64\n",
      " 8   Embarked     712 non-null    int64\n",
      " 9   Title        712 non-null    int64\n",
      " 10  family_size  712 non-null    int64\n",
      "dtypes: int64(11)\n",
      "memory usage: 82.9 KB\n"
     ]
    },
    {
     "data": {
      "text/plain": [
       "None"
      ]
     },
     "metadata": {},
     "output_type": "display_data"
    },
    {
     "data": {
      "text/html": [
       "<div>\n",
       "<style scoped>\n",
       "    .dataframe tbody tr th:only-of-type {\n",
       "        vertical-align: middle;\n",
       "    }\n",
       "\n",
       "    .dataframe tbody tr th {\n",
       "        vertical-align: top;\n",
       "    }\n",
       "\n",
       "    .dataframe thead th {\n",
       "        text-align: right;\n",
       "    }\n",
       "</style>\n",
       "<table border=\"1\" class=\"dataframe\">\n",
       "  <thead>\n",
       "    <tr style=\"text-align: right;\">\n",
       "      <th></th>\n",
       "      <th>PassengerId</th>\n",
       "      <th>Survived</th>\n",
       "      <th>Pclass</th>\n",
       "      <th>Sex</th>\n",
       "      <th>Age</th>\n",
       "      <th>SibSp</th>\n",
       "      <th>Parch</th>\n",
       "      <th>Fare</th>\n",
       "      <th>Embarked</th>\n",
       "      <th>Title</th>\n",
       "      <th>family_size</th>\n",
       "    </tr>\n",
       "  </thead>\n",
       "  <tbody>\n",
       "    <tr>\n",
       "      <th>709</th>\n",
       "      <td>710</td>\n",
       "      <td>1</td>\n",
       "      <td>3</td>\n",
       "      <td>0</td>\n",
       "      <td>1</td>\n",
       "      <td>1</td>\n",
       "      <td>1</td>\n",
       "      <td>2</td>\n",
       "      <td>1</td>\n",
       "      <td>1</td>\n",
       "      <td>3</td>\n",
       "    </tr>\n",
       "    <tr>\n",
       "      <th>439</th>\n",
       "      <td>440</td>\n",
       "      <td>0</td>\n",
       "      <td>2</td>\n",
       "      <td>0</td>\n",
       "      <td>4</td>\n",
       "      <td>0</td>\n",
       "      <td>0</td>\n",
       "      <td>1</td>\n",
       "      <td>0</td>\n",
       "      <td>3</td>\n",
       "      <td>1</td>\n",
       "    </tr>\n",
       "    <tr>\n",
       "      <th>840</th>\n",
       "      <td>841</td>\n",
       "      <td>0</td>\n",
       "      <td>3</td>\n",
       "      <td>0</td>\n",
       "      <td>3</td>\n",
       "      <td>0</td>\n",
       "      <td>0</td>\n",
       "      <td>1</td>\n",
       "      <td>0</td>\n",
       "      <td>3</td>\n",
       "      <td>1</td>\n",
       "    </tr>\n",
       "    <tr>\n",
       "      <th>720</th>\n",
       "      <td>721</td>\n",
       "      <td>1</td>\n",
       "      <td>2</td>\n",
       "      <td>1</td>\n",
       "      <td>1</td>\n",
       "      <td>0</td>\n",
       "      <td>1</td>\n",
       "      <td>3</td>\n",
       "      <td>0</td>\n",
       "      <td>2</td>\n",
       "      <td>2</td>\n",
       "    </tr>\n",
       "    <tr>\n",
       "      <th>39</th>\n",
       "      <td>40</td>\n",
       "      <td>1</td>\n",
       "      <td>3</td>\n",
       "      <td>1</td>\n",
       "      <td>2</td>\n",
       "      <td>1</td>\n",
       "      <td>0</td>\n",
       "      <td>2</td>\n",
       "      <td>1</td>\n",
       "      <td>2</td>\n",
       "      <td>2</td>\n",
       "    </tr>\n",
       "    <tr>\n",
       "      <th>...</th>\n",
       "      <td>...</td>\n",
       "      <td>...</td>\n",
       "      <td>...</td>\n",
       "      <td>...</td>\n",
       "      <td>...</td>\n",
       "      <td>...</td>\n",
       "      <td>...</td>\n",
       "      <td>...</td>\n",
       "      <td>...</td>\n",
       "      <td>...</td>\n",
       "      <td>...</td>\n",
       "    </tr>\n",
       "    <tr>\n",
       "      <th>433</th>\n",
       "      <td>434</td>\n",
       "      <td>0</td>\n",
       "      <td>3</td>\n",
       "      <td>0</td>\n",
       "      <td>2</td>\n",
       "      <td>0</td>\n",
       "      <td>0</td>\n",
       "      <td>0</td>\n",
       "      <td>0</td>\n",
       "      <td>3</td>\n",
       "      <td>1</td>\n",
       "    </tr>\n",
       "    <tr>\n",
       "      <th>773</th>\n",
       "      <td>774</td>\n",
       "      <td>0</td>\n",
       "      <td>3</td>\n",
       "      <td>0</td>\n",
       "      <td>3</td>\n",
       "      <td>0</td>\n",
       "      <td>0</td>\n",
       "      <td>0</td>\n",
       "      <td>1</td>\n",
       "      <td>3</td>\n",
       "      <td>1</td>\n",
       "    </tr>\n",
       "    <tr>\n",
       "      <th>25</th>\n",
       "      <td>26</td>\n",
       "      <td>1</td>\n",
       "      <td>3</td>\n",
       "      <td>1</td>\n",
       "      <td>4</td>\n",
       "      <td>1</td>\n",
       "      <td>5</td>\n",
       "      <td>3</td>\n",
       "      <td>0</td>\n",
       "      <td>4</td>\n",
       "      <td>7</td>\n",
       "    </tr>\n",
       "    <tr>\n",
       "      <th>84</th>\n",
       "      <td>85</td>\n",
       "      <td>1</td>\n",
       "      <td>2</td>\n",
       "      <td>1</td>\n",
       "      <td>2</td>\n",
       "      <td>0</td>\n",
       "      <td>0</td>\n",
       "      <td>1</td>\n",
       "      <td>0</td>\n",
       "      <td>2</td>\n",
       "      <td>1</td>\n",
       "    </tr>\n",
       "    <tr>\n",
       "      <th>10</th>\n",
       "      <td>11</td>\n",
       "      <td>1</td>\n",
       "      <td>3</td>\n",
       "      <td>1</td>\n",
       "      <td>1</td>\n",
       "      <td>1</td>\n",
       "      <td>1</td>\n",
       "      <td>2</td>\n",
       "      <td>0</td>\n",
       "      <td>2</td>\n",
       "      <td>3</td>\n",
       "    </tr>\n",
       "  </tbody>\n",
       "</table>\n",
       "<p>179 rows × 11 columns</p>\n",
       "</div>"
      ],
      "text/plain": [
       "     PassengerId  Survived  Pclass  Sex  Age  SibSp  Parch  Fare  Embarked  \\\n",
       "709          710         1       3    0    1      1      1     2         1   \n",
       "439          440         0       2    0    4      0      0     1         0   \n",
       "840          841         0       3    0    3      0      0     1         0   \n",
       "720          721         1       2    1    1      0      1     3         0   \n",
       "39            40         1       3    1    2      1      0     2         1   \n",
       "..           ...       ...     ...  ...  ...    ...    ...   ...       ...   \n",
       "433          434         0       3    0    2      0      0     0         0   \n",
       "773          774         0       3    0    3      0      0     0         1   \n",
       "25            26         1       3    1    4      1      5     3         0   \n",
       "84            85         1       2    1    2      0      0     1         0   \n",
       "10            11         1       3    1    1      1      1     2         0   \n",
       "\n",
       "     Title  family_size  \n",
       "709      1            3  \n",
       "439      3            1  \n",
       "840      3            1  \n",
       "720      2            2  \n",
       "39       2            2  \n",
       "..     ...          ...  \n",
       "433      3            1  \n",
       "773      3            1  \n",
       "25       4            7  \n",
       "84       2            1  \n",
       "10       2            3  \n",
       "\n",
       "[179 rows x 11 columns]"
      ]
     },
     "metadata": {},
     "output_type": "display_data"
    },
    {
     "name": "stdout",
     "output_type": "stream",
     "text": [
      "<class 'pandas.core.frame.DataFrame'>\n",
      "Int64Index: 179 entries, 709 to 10\n",
      "Data columns (total 11 columns):\n",
      " #   Column       Non-Null Count  Dtype\n",
      "---  ------       --------------  -----\n",
      " 0   PassengerId  179 non-null    int64\n",
      " 1   Survived     179 non-null    int64\n",
      " 2   Pclass       179 non-null    int64\n",
      " 3   Sex          179 non-null    int64\n",
      " 4   Age          179 non-null    int64\n",
      " 5   SibSp        179 non-null    int64\n",
      " 6   Parch        179 non-null    int64\n",
      " 7   Fare         179 non-null    int64\n",
      " 8   Embarked     179 non-null    int64\n",
      " 9   Title        179 non-null    int64\n",
      " 10  family_size  179 non-null    int64\n",
      "dtypes: int64(11)\n",
      "memory usage: 16.8 KB\n"
     ]
    },
    {
     "data": {
      "text/plain": [
       "None"
      ]
     },
     "metadata": {},
     "output_type": "display_data"
    },
    {
     "data": {
      "text/html": [
       "<div>\n",
       "<style scoped>\n",
       "    .dataframe tbody tr th:only-of-type {\n",
       "        vertical-align: middle;\n",
       "    }\n",
       "\n",
       "    .dataframe tbody tr th {\n",
       "        vertical-align: top;\n",
       "    }\n",
       "\n",
       "    .dataframe thead th {\n",
       "        text-align: right;\n",
       "    }\n",
       "</style>\n",
       "<table border=\"1\" class=\"dataframe\">\n",
       "  <thead>\n",
       "    <tr style=\"text-align: right;\">\n",
       "      <th></th>\n",
       "      <th>PassengerId</th>\n",
       "      <th>Pclass</th>\n",
       "      <th>Sex</th>\n",
       "      <th>Age</th>\n",
       "      <th>SibSp</th>\n",
       "      <th>Parch</th>\n",
       "      <th>Fare</th>\n",
       "      <th>Embarked</th>\n",
       "      <th>Title</th>\n",
       "      <th>family_size</th>\n",
       "    </tr>\n",
       "  </thead>\n",
       "  <tbody>\n",
       "    <tr>\n",
       "      <th>0</th>\n",
       "      <td>892</td>\n",
       "      <td>3</td>\n",
       "      <td>0</td>\n",
       "      <td>4</td>\n",
       "      <td>0</td>\n",
       "      <td>0</td>\n",
       "      <td>0.0</td>\n",
       "      <td>2</td>\n",
       "      <td>3</td>\n",
       "      <td>1</td>\n",
       "    </tr>\n",
       "    <tr>\n",
       "      <th>1</th>\n",
       "      <td>893</td>\n",
       "      <td>3</td>\n",
       "      <td>1</td>\n",
       "      <td>5</td>\n",
       "      <td>1</td>\n",
       "      <td>0</td>\n",
       "      <td>0.0</td>\n",
       "      <td>0</td>\n",
       "      <td>4</td>\n",
       "      <td>2</td>\n",
       "    </tr>\n",
       "    <tr>\n",
       "      <th>2</th>\n",
       "      <td>894</td>\n",
       "      <td>2</td>\n",
       "      <td>0</td>\n",
       "      <td>6</td>\n",
       "      <td>0</td>\n",
       "      <td>0</td>\n",
       "      <td>1.0</td>\n",
       "      <td>2</td>\n",
       "      <td>3</td>\n",
       "      <td>1</td>\n",
       "    </tr>\n",
       "    <tr>\n",
       "      <th>3</th>\n",
       "      <td>895</td>\n",
       "      <td>3</td>\n",
       "      <td>0</td>\n",
       "      <td>3</td>\n",
       "      <td>0</td>\n",
       "      <td>0</td>\n",
       "      <td>1.0</td>\n",
       "      <td>0</td>\n",
       "      <td>3</td>\n",
       "      <td>1</td>\n",
       "    </tr>\n",
       "    <tr>\n",
       "      <th>4</th>\n",
       "      <td>896</td>\n",
       "      <td>3</td>\n",
       "      <td>1</td>\n",
       "      <td>3</td>\n",
       "      <td>1</td>\n",
       "      <td>1</td>\n",
       "      <td>2.0</td>\n",
       "      <td>0</td>\n",
       "      <td>4</td>\n",
       "      <td>3</td>\n",
       "    </tr>\n",
       "    <tr>\n",
       "      <th>...</th>\n",
       "      <td>...</td>\n",
       "      <td>...</td>\n",
       "      <td>...</td>\n",
       "      <td>...</td>\n",
       "      <td>...</td>\n",
       "      <td>...</td>\n",
       "      <td>...</td>\n",
       "      <td>...</td>\n",
       "      <td>...</td>\n",
       "      <td>...</td>\n",
       "    </tr>\n",
       "    <tr>\n",
       "      <th>413</th>\n",
       "      <td>1305</td>\n",
       "      <td>3</td>\n",
       "      <td>0</td>\n",
       "      <td>3</td>\n",
       "      <td>0</td>\n",
       "      <td>0</td>\n",
       "      <td>1.0</td>\n",
       "      <td>0</td>\n",
       "      <td>3</td>\n",
       "      <td>1</td>\n",
       "    </tr>\n",
       "    <tr>\n",
       "      <th>414</th>\n",
       "      <td>1306</td>\n",
       "      <td>1</td>\n",
       "      <td>1</td>\n",
       "      <td>4</td>\n",
       "      <td>0</td>\n",
       "      <td>0</td>\n",
       "      <td>4.0</td>\n",
       "      <td>1</td>\n",
       "      <td>0</td>\n",
       "      <td>1</td>\n",
       "    </tr>\n",
       "    <tr>\n",
       "      <th>415</th>\n",
       "      <td>1307</td>\n",
       "      <td>3</td>\n",
       "      <td>0</td>\n",
       "      <td>4</td>\n",
       "      <td>0</td>\n",
       "      <td>0</td>\n",
       "      <td>0.0</td>\n",
       "      <td>0</td>\n",
       "      <td>3</td>\n",
       "      <td>1</td>\n",
       "    </tr>\n",
       "    <tr>\n",
       "      <th>416</th>\n",
       "      <td>1308</td>\n",
       "      <td>3</td>\n",
       "      <td>0</td>\n",
       "      <td>3</td>\n",
       "      <td>0</td>\n",
       "      <td>0</td>\n",
       "      <td>1.0</td>\n",
       "      <td>0</td>\n",
       "      <td>3</td>\n",
       "      <td>1</td>\n",
       "    </tr>\n",
       "    <tr>\n",
       "      <th>417</th>\n",
       "      <td>1309</td>\n",
       "      <td>3</td>\n",
       "      <td>0</td>\n",
       "      <td>1</td>\n",
       "      <td>1</td>\n",
       "      <td>1</td>\n",
       "      <td>3.0</td>\n",
       "      <td>1</td>\n",
       "      <td>1</td>\n",
       "      <td>3</td>\n",
       "    </tr>\n",
       "  </tbody>\n",
       "</table>\n",
       "<p>418 rows × 10 columns</p>\n",
       "</div>"
      ],
      "text/plain": [
       "     PassengerId  Pclass  Sex  Age  SibSp  Parch  Fare  Embarked  Title  \\\n",
       "0            892       3    0    4      0      0   0.0         2      3   \n",
       "1            893       3    1    5      1      0   0.0         0      4   \n",
       "2            894       2    0    6      0      0   1.0         2      3   \n",
       "3            895       3    0    3      0      0   1.0         0      3   \n",
       "4            896       3    1    3      1      1   2.0         0      4   \n",
       "..           ...     ...  ...  ...    ...    ...   ...       ...    ...   \n",
       "413         1305       3    0    3      0      0   1.0         0      3   \n",
       "414         1306       1    1    4      0      0   4.0         1      0   \n",
       "415         1307       3    0    4      0      0   0.0         0      3   \n",
       "416         1308       3    0    3      0      0   1.0         0      3   \n",
       "417         1309       3    0    1      1      1   3.0         1      1   \n",
       "\n",
       "     family_size  \n",
       "0              1  \n",
       "1              2  \n",
       "2              1  \n",
       "3              1  \n",
       "4              3  \n",
       "..           ...  \n",
       "413            1  \n",
       "414            1  \n",
       "415            1  \n",
       "416            1  \n",
       "417            3  \n",
       "\n",
       "[418 rows x 10 columns]"
      ]
     },
     "metadata": {},
     "output_type": "display_data"
    },
    {
     "name": "stdout",
     "output_type": "stream",
     "text": [
      "<class 'pandas.core.frame.DataFrame'>\n",
      "RangeIndex: 418 entries, 0 to 417\n",
      "Data columns (total 10 columns):\n",
      " #   Column       Non-Null Count  Dtype  \n",
      "---  ------       --------------  -----  \n",
      " 0   PassengerId  418 non-null    int64  \n",
      " 1   Pclass       418 non-null    int64  \n",
      " 2   Sex          418 non-null    int64  \n",
      " 3   Age          418 non-null    int64  \n",
      " 4   SibSp        418 non-null    int64  \n",
      " 5   Parch        418 non-null    int64  \n",
      " 6   Fare         417 non-null    float64\n",
      " 7   Embarked     418 non-null    int64  \n",
      " 8   Title        418 non-null    int64  \n",
      " 9   family_size  418 non-null    int64  \n",
      "dtypes: float64(1), int64(9)\n",
      "memory usage: 32.8 KB\n"
     ]
    },
    {
     "data": {
      "text/plain": [
       "None"
      ]
     },
     "metadata": {},
     "output_type": "display_data"
    }
   ],
   "source": [
    "display(df_train)\n",
    "display(df_train.info())\n",
    "\n",
    "display(df_val)\n",
    "display(df_val.info())\n",
    "\n",
    "\n",
    "display(df_test)\n",
    "display(df_test.info())"
   ]
  },
  {
   "cell_type": "markdown",
   "id": "d4eee787",
   "metadata": {
    "papermill": {
     "duration": 0.022442,
     "end_time": "2022-09-06T12:01:06.330385",
     "exception": false,
     "start_time": "2022-09-06T12:01:06.307943",
     "status": "completed"
    },
    "tags": []
   },
   "source": [
    "## Fill missing Fare in test set"
   ]
  },
  {
   "cell_type": "code",
   "execution_count": 28,
   "id": "73e27912",
   "metadata": {
    "execution": {
     "iopub.execute_input": "2022-09-06T12:01:06.378896Z",
     "iopub.status.busy": "2022-09-06T12:01:06.378227Z",
     "iopub.status.idle": "2022-09-06T12:01:06.389747Z",
     "shell.execute_reply": "2022-09-06T12:01:06.388978Z"
    },
    "papermill": {
     "duration": 0.037773,
     "end_time": "2022-09-06T12:01:06.391493",
     "exception": false,
     "start_time": "2022-09-06T12:01:06.353720",
     "status": "completed"
    },
    "tags": []
   },
   "outputs": [
    {
     "data": {
      "text/html": [
       "<div>\n",
       "<style scoped>\n",
       "    .dataframe tbody tr th:only-of-type {\n",
       "        vertical-align: middle;\n",
       "    }\n",
       "\n",
       "    .dataframe tbody tr th {\n",
       "        vertical-align: top;\n",
       "    }\n",
       "\n",
       "    .dataframe thead th {\n",
       "        text-align: right;\n",
       "    }\n",
       "</style>\n",
       "<table border=\"1\" class=\"dataframe\">\n",
       "  <thead>\n",
       "    <tr style=\"text-align: right;\">\n",
       "      <th></th>\n",
       "      <th>PassengerId</th>\n",
       "      <th>Pclass</th>\n",
       "      <th>Sex</th>\n",
       "      <th>Age</th>\n",
       "      <th>SibSp</th>\n",
       "      <th>Parch</th>\n",
       "      <th>Fare</th>\n",
       "      <th>Embarked</th>\n",
       "      <th>Title</th>\n",
       "      <th>family_size</th>\n",
       "    </tr>\n",
       "  </thead>\n",
       "  <tbody>\n",
       "    <tr>\n",
       "      <th>152</th>\n",
       "      <td>1044</td>\n",
       "      <td>3</td>\n",
       "      <td>0</td>\n",
       "      <td>6</td>\n",
       "      <td>0</td>\n",
       "      <td>0</td>\n",
       "      <td>NaN</td>\n",
       "      <td>0</td>\n",
       "      <td>3</td>\n",
       "      <td>1</td>\n",
       "    </tr>\n",
       "  </tbody>\n",
       "</table>\n",
       "</div>"
      ],
      "text/plain": [
       "     PassengerId  Pclass  Sex  Age  SibSp  Parch  Fare  Embarked  Title  \\\n",
       "152         1044       3    0    6      0      0   NaN         0      3   \n",
       "\n",
       "     family_size  \n",
       "152            1  "
      ]
     },
     "execution_count": 28,
     "metadata": {},
     "output_type": "execute_result"
    }
   ],
   "source": [
    "df_test[df_test[\"Fare\"].isnull()]"
   ]
  },
  {
   "cell_type": "code",
   "execution_count": 29,
   "id": "8e97998d",
   "metadata": {
    "execution": {
     "iopub.execute_input": "2022-09-06T12:01:06.439278Z",
     "iopub.status.busy": "2022-09-06T12:01:06.438889Z",
     "iopub.status.idle": "2022-09-06T12:01:07.022597Z",
     "shell.execute_reply": "2022-09-06T12:01:07.021859Z"
    },
    "papermill": {
     "duration": 0.611453,
     "end_time": "2022-09-06T12:01:07.025946",
     "exception": false,
     "start_time": "2022-09-06T12:01:06.414493",
     "status": "completed"
    },
    "tags": []
   },
   "outputs": [
    {
     "data": {
      "text/plain": [
       "<seaborn.axisgrid.FacetGrid at 0x7f4ade7176d0>"
      ]
     },
     "execution_count": 29,
     "metadata": {},
     "output_type": "execute_result"
    },
    {
     "data": {
      "image/png": "[encoded data removed]",
      "text/plain": [
       "<Figure size 540x360 with 1 Axes>"
      ]
     },
     "metadata": {
      "needs_background": "light"
     },
     "output_type": "display_data"
    }
   ],
   "source": [
    "sns.displot(df_train, x=\"Fare\", y=\"Pclass\", kind=\"kde\", aspect=1.5)"
   ]
  },
  {
   "cell_type": "code",
   "execution_count": 30,
   "id": "e0cc0c9a",
   "metadata": {
    "execution": {
     "iopub.execute_input": "2022-09-06T12:01:07.084890Z",
     "iopub.status.busy": "2022-09-06T12:01:07.084561Z",
     "iopub.status.idle": "2022-09-06T12:01:07.091394Z",
     "shell.execute_reply": "2022-09-06T12:01:07.090127Z"
    },
    "papermill": {
     "duration": 0.035669,
     "end_time": "2022-09-06T12:01:07.093455",
     "exception": false,
     "start_time": "2022-09-06T12:01:07.057786",
     "status": "completed"
    },
    "tags": []
   },
   "outputs": [
    {
     "name": "stdout",
     "output_type": "stream",
     "text": [
      "Mean: 1.9887640449438202\n",
      "Median: 2.0\n",
      "Mode: 1\n"
     ]
    }
   ],
   "source": [
    "print(f\"Mean: {df_train['Fare'].mean()}\")\n",
    "print(f\"Median: {df_train['Fare'].median()}\")\n",
    "print(f\"Mode: {df_train['Fare'].mode()[0]}\")"
   ]
  },
  {
   "cell_type": "code",
   "execution_count": 31,
   "id": "9e450271",
   "metadata": {
    "execution": {
     "iopub.execute_input": "2022-09-06T12:01:07.146575Z",
     "iopub.status.busy": "2022-09-06T12:01:07.146218Z",
     "iopub.status.idle": "2022-09-06T12:01:07.159482Z",
     "shell.execute_reply": "2022-09-06T12:01:07.158640Z"
    },
    "papermill": {
     "duration": 0.042227,
     "end_time": "2022-09-06T12:01:07.161561",
     "exception": false,
     "start_time": "2022-09-06T12:01:07.119334",
     "status": "completed"
    },
    "tags": []
   },
   "outputs": [
    {
     "data": {
      "text/html": [
       "<div>\n",
       "<style scoped>\n",
       "    .dataframe tbody tr th:only-of-type {\n",
       "        vertical-align: middle;\n",
       "    }\n",
       "\n",
       "    .dataframe tbody tr th {\n",
       "        vertical-align: top;\n",
       "    }\n",
       "\n",
       "    .dataframe thead th {\n",
       "        text-align: right;\n",
       "    }\n",
       "</style>\n",
       "<table border=\"1\" class=\"dataframe\">\n",
       "  <thead>\n",
       "    <tr style=\"text-align: right;\">\n",
       "      <th></th>\n",
       "      <th>Fare</th>\n",
       "    </tr>\n",
       "    <tr>\n",
       "      <th>Pclass</th>\n",
       "      <th></th>\n",
       "    </tr>\n",
       "  </thead>\n",
       "  <tbody>\n",
       "    <tr>\n",
       "      <th>1</th>\n",
       "      <td>4.0</td>\n",
       "    </tr>\n",
       "    <tr>\n",
       "      <th>2</th>\n",
       "      <td>2.0</td>\n",
       "    </tr>\n",
       "    <tr>\n",
       "      <th>3</th>\n",
       "      <td>1.0</td>\n",
       "    </tr>\n",
       "  </tbody>\n",
       "</table>\n",
       "</div>"
      ],
      "text/plain": [
       "        Fare\n",
       "Pclass      \n",
       "1        4.0\n",
       "2        2.0\n",
       "3        1.0"
      ]
     },
     "metadata": {},
     "output_type": "display_data"
    },
    {
     "name": "stdout",
     "output_type": "stream",
     "text": [
      "1.0\n"
     ]
    }
   ],
   "source": [
    "display(df_train.groupby([\"Pclass\"])[\"Fare\"].median().to_frame())\n",
    "pclass_3_median_train_fare = df_train.groupby([\"Pclass\"])[\"Fare\"].median().to_frame().values[2][0]\n",
    "print(pclass_3_median_train_fare)"
   ]
  },
  {
   "cell_type": "code",
   "execution_count": 32,
   "id": "314a3ae8",
   "metadata": {
    "execution": {
     "iopub.execute_input": "2022-09-06T12:01:07.225933Z",
     "iopub.status.busy": "2022-09-06T12:01:07.225485Z",
     "iopub.status.idle": "2022-09-06T12:01:07.231780Z",
     "shell.execute_reply": "2022-09-06T12:01:07.230902Z"
    },
    "papermill": {
     "duration": 0.03797,
     "end_time": "2022-09-06T12:01:07.233554",
     "exception": false,
     "start_time": "2022-09-06T12:01:07.195584",
     "status": "completed"
    },
    "tags": []
   },
   "outputs": [],
   "source": [
    "df_test = df_test.fillna({\"Fare\": pclass_3_median_train_fare}) # Fill up missing test Fare value with median of train data"
   ]
  },
  {
   "cell_type": "code",
   "execution_count": 33,
   "id": "c2d52bfe",
   "metadata": {
    "execution": {
     "iopub.execute_input": "2022-09-06T12:01:07.286064Z",
     "iopub.status.busy": "2022-09-06T12:01:07.285305Z",
     "iopub.status.idle": "2022-09-06T12:01:07.294880Z",
     "shell.execute_reply": "2022-09-06T12:01:07.294073Z"
    },
    "papermill": {
     "duration": 0.038223,
     "end_time": "2022-09-06T12:01:07.297079",
     "exception": false,
     "start_time": "2022-09-06T12:01:07.258856",
     "status": "completed"
    },
    "tags": []
   },
   "outputs": [
    {
     "data": {
      "text/html": [
       "<div>\n",
       "<style scoped>\n",
       "    .dataframe tbody tr th:only-of-type {\n",
       "        vertical-align: middle;\n",
       "    }\n",
       "\n",
       "    .dataframe tbody tr th {\n",
       "        vertical-align: top;\n",
       "    }\n",
       "\n",
       "    .dataframe thead th {\n",
       "        text-align: right;\n",
       "    }\n",
       "</style>\n",
       "<table border=\"1\" class=\"dataframe\">\n",
       "  <thead>\n",
       "    <tr style=\"text-align: right;\">\n",
       "      <th></th>\n",
       "      <th>Survived</th>\n",
       "    </tr>\n",
       "  </thead>\n",
       "  <tbody>\n",
       "    <tr>\n",
       "      <th>0</th>\n",
       "      <td>444</td>\n",
       "    </tr>\n",
       "    <tr>\n",
       "      <th>1</th>\n",
       "      <td>268</td>\n",
       "    </tr>\n",
       "  </tbody>\n",
       "</table>\n",
       "</div>"
      ],
      "text/plain": [
       "   Survived\n",
       "0       444\n",
       "1       268"
      ]
     },
     "execution_count": 33,
     "metadata": {},
     "output_type": "execute_result"
    }
   ],
   "source": [
    "df_train['Survived'].value_counts().to_frame()"
   ]
  },
  {
   "cell_type": "code",
   "execution_count": 34,
   "id": "7bcc71f5",
   "metadata": {
    "execution": {
     "iopub.execute_input": "2022-09-06T12:01:07.349113Z",
     "iopub.status.busy": "2022-09-06T12:01:07.348736Z",
     "iopub.status.idle": "2022-09-06T12:01:08.092446Z",
     "shell.execute_reply": "2022-09-06T12:01:08.091379Z"
    },
    "papermill": {
     "duration": 0.771411,
     "end_time": "2022-09-06T12:01:08.094331",
     "exception": false,
     "start_time": "2022-09-06T12:01:07.322920",
     "status": "completed"
    },
    "tags": []
   },
   "outputs": [
    {
     "data": {
      "text/plain": [
       "<AxesSubplot:>"
      ]
     },
     "execution_count": 34,
     "metadata": {},
     "output_type": "execute_result"
    },
    {
     "data": {
      "image/png": "[encoded data removed]",
      "text/plain": [
       "<Figure size 1080x936 with 2 Axes>"
      ]
     },
     "metadata": {
      "needs_background": "light"
     },
     "output_type": "display_data"
    }
   ],
   "source": [
    "plt.figure(figsize = (15,13))\n",
    "\n",
    "sns.heatmap(df_train.corr(), annot=True)"
   ]
  },
  {
   "cell_type": "markdown",
   "id": "98f1f6a2",
   "metadata": {
    "papermill": {
     "duration": 0.025861,
     "end_time": "2022-09-06T12:01:08.146305",
     "exception": false,
     "start_time": "2022-09-06T12:01:08.120444",
     "status": "completed"
    },
    "tags": []
   },
   "source": [
    "# Data Split in train, val, test"
   ]
  },
  {
   "cell_type": "code",
   "execution_count": 35,
   "id": "8838e0c1",
   "metadata": {
    "execution": {
     "iopub.execute_input": "2022-09-06T12:01:08.199757Z",
     "iopub.status.busy": "2022-09-06T12:01:08.199422Z",
     "iopub.status.idle": "2022-09-06T12:01:08.335785Z",
     "shell.execute_reply": "2022-09-06T12:01:08.334556Z"
    },
    "papermill": {
     "duration": 0.165895,
     "end_time": "2022-09-06T12:01:08.338183",
     "exception": false,
     "start_time": "2022-09-06T12:01:08.172288",
     "status": "completed"
    },
    "tags": []
   },
   "outputs": [
    {
     "name": "stdout",
     "output_type": "stream",
     "text": [
      "****************************** TRAIN DATA ***************************\n",
      "\n"
     ]
    },
    {
     "data": {
      "text/html": [
       "<div>\n",
       "<style scoped>\n",
       "    .dataframe tbody tr th:only-of-type {\n",
       "        vertical-align: middle;\n",
       "    }\n",
       "\n",
       "    .dataframe tbody tr th {\n",
       "        vertical-align: top;\n",
       "    }\n",
       "\n",
       "    .dataframe thead th {\n",
       "        text-align: right;\n",
       "    }\n",
       "</style>\n",
       "<table border=\"1\" class=\"dataframe\">\n",
       "  <thead>\n",
       "    <tr style=\"text-align: right;\">\n",
       "      <th></th>\n",
       "      <th>Pclass</th>\n",
       "      <th>Sex</th>\n",
       "      <th>Age</th>\n",
       "      <th>SibSp</th>\n",
       "      <th>Parch</th>\n",
       "      <th>Fare</th>\n",
       "      <th>Title</th>\n",
       "      <th>family_size</th>\n",
       "    </tr>\n",
       "  </thead>\n",
       "  <tbody>\n",
       "    <tr>\n",
       "      <th>331</th>\n",
       "      <td>1</td>\n",
       "      <td>0</td>\n",
       "      <td>5</td>\n",
       "      <td>0</td>\n",
       "      <td>0</td>\n",
       "      <td>3</td>\n",
       "      <td>3</td>\n",
       "      <td>1</td>\n",
       "    </tr>\n",
       "    <tr>\n",
       "      <th>733</th>\n",
       "      <td>2</td>\n",
       "      <td>0</td>\n",
       "      <td>3</td>\n",
       "      <td>0</td>\n",
       "      <td>0</td>\n",
       "      <td>2</td>\n",
       "      <td>3</td>\n",
       "      <td>1</td>\n",
       "    </tr>\n",
       "    <tr>\n",
       "      <th>382</th>\n",
       "      <td>3</td>\n",
       "      <td>0</td>\n",
       "      <td>4</td>\n",
       "      <td>0</td>\n",
       "      <td>0</td>\n",
       "      <td>1</td>\n",
       "      <td>3</td>\n",
       "      <td>1</td>\n",
       "    </tr>\n",
       "    <tr>\n",
       "      <th>704</th>\n",
       "      <td>3</td>\n",
       "      <td>0</td>\n",
       "      <td>3</td>\n",
       "      <td>1</td>\n",
       "      <td>0</td>\n",
       "      <td>0</td>\n",
       "      <td>3</td>\n",
       "      <td>2</td>\n",
       "    </tr>\n",
       "    <tr>\n",
       "      <th>813</th>\n",
       "      <td>3</td>\n",
       "      <td>1</td>\n",
       "      <td>1</td>\n",
       "      <td>4</td>\n",
       "      <td>2</td>\n",
       "      <td>3</td>\n",
       "      <td>2</td>\n",
       "      <td>7</td>\n",
       "    </tr>\n",
       "    <tr>\n",
       "      <th>...</th>\n",
       "      <td>...</td>\n",
       "      <td>...</td>\n",
       "      <td>...</td>\n",
       "      <td>...</td>\n",
       "      <td>...</td>\n",
       "      <td>...</td>\n",
       "      <td>...</td>\n",
       "      <td>...</td>\n",
       "    </tr>\n",
       "    <tr>\n",
       "      <th>106</th>\n",
       "      <td>3</td>\n",
       "      <td>1</td>\n",
       "      <td>3</td>\n",
       "      <td>0</td>\n",
       "      <td>0</td>\n",
       "      <td>0</td>\n",
       "      <td>2</td>\n",
       "      <td>1</td>\n",
       "    </tr>\n",
       "    <tr>\n",
       "      <th>270</th>\n",
       "      <td>1</td>\n",
       "      <td>0</td>\n",
       "      <td>4</td>\n",
       "      <td>0</td>\n",
       "      <td>0</td>\n",
       "      <td>3</td>\n",
       "      <td>3</td>\n",
       "      <td>1</td>\n",
       "    </tr>\n",
       "    <tr>\n",
       "      <th>860</th>\n",
       "      <td>3</td>\n",
       "      <td>0</td>\n",
       "      <td>4</td>\n",
       "      <td>2</td>\n",
       "      <td>0</td>\n",
       "      <td>2</td>\n",
       "      <td>3</td>\n",
       "      <td>3</td>\n",
       "    </tr>\n",
       "    <tr>\n",
       "      <th>435</th>\n",
       "      <td>1</td>\n",
       "      <td>1</td>\n",
       "      <td>2</td>\n",
       "      <td>1</td>\n",
       "      <td>2</td>\n",
       "      <td>4</td>\n",
       "      <td>2</td>\n",
       "      <td>4</td>\n",
       "    </tr>\n",
       "    <tr>\n",
       "      <th>102</th>\n",
       "      <td>1</td>\n",
       "      <td>0</td>\n",
       "      <td>3</td>\n",
       "      <td>0</td>\n",
       "      <td>1</td>\n",
       "      <td>4</td>\n",
       "      <td>3</td>\n",
       "      <td>2</td>\n",
       "    </tr>\n",
       "  </tbody>\n",
       "</table>\n",
       "<p>712 rows × 8 columns</p>\n",
       "</div>"
      ],
      "text/plain": [
       "     Pclass  Sex  Age  SibSp  Parch  Fare  Title  family_size\n",
       "331       1    0    5      0      0     3      3            1\n",
       "733       2    0    3      0      0     2      3            1\n",
       "382       3    0    4      0      0     1      3            1\n",
       "704       3    0    3      1      0     0      3            2\n",
       "813       3    1    1      4      2     3      2            7\n",
       "..      ...  ...  ...    ...    ...   ...    ...          ...\n",
       "106       3    1    3      0      0     0      2            1\n",
       "270       1    0    4      0      0     3      3            1\n",
       "860       3    0    4      2      0     2      3            3\n",
       "435       1    1    2      1      2     4      2            4\n",
       "102       1    0    3      0      1     4      3            2\n",
       "\n",
       "[712 rows x 8 columns]"
      ]
     },
     "metadata": {},
     "output_type": "display_data"
    },
    {
     "data": {
      "text/html": [
       "<div>\n",
       "<style scoped>\n",
       "    .dataframe tbody tr th:only-of-type {\n",
       "        vertical-align: middle;\n",
       "    }\n",
       "\n",
       "    .dataframe tbody tr th {\n",
       "        vertical-align: top;\n",
       "    }\n",
       "\n",
       "    .dataframe thead th {\n",
       "        text-align: right;\n",
       "    }\n",
       "</style>\n",
       "<table border=\"1\" class=\"dataframe\">\n",
       "  <thead>\n",
       "    <tr style=\"text-align: right;\">\n",
       "      <th></th>\n",
       "      <th>Pclass</th>\n",
       "      <th>Sex</th>\n",
       "      <th>Age</th>\n",
       "      <th>SibSp</th>\n",
       "      <th>Parch</th>\n",
       "      <th>Fare</th>\n",
       "      <th>Title</th>\n",
       "      <th>family_size</th>\n",
       "    </tr>\n",
       "  </thead>\n",
       "  <tbody>\n",
       "    <tr>\n",
       "      <th>count</th>\n",
       "      <td>712.000000</td>\n",
       "      <td>712.000000</td>\n",
       "      <td>712.000000</td>\n",
       "      <td>712.000000</td>\n",
       "      <td>712.000000</td>\n",
       "      <td>712.000000</td>\n",
       "      <td>712.000000</td>\n",
       "      <td>712.000000</td>\n",
       "    </tr>\n",
       "    <tr>\n",
       "      <th>mean</th>\n",
       "      <td>2.330056</td>\n",
       "      <td>0.344101</td>\n",
       "      <td>3.206461</td>\n",
       "      <td>0.553371</td>\n",
       "      <td>0.379213</td>\n",
       "      <td>1.988764</td>\n",
       "      <td>2.896067</td>\n",
       "      <td>1.932584</td>\n",
       "    </tr>\n",
       "    <tr>\n",
       "      <th>std</th>\n",
       "      <td>0.824584</td>\n",
       "      <td>0.475408</td>\n",
       "      <td>1.227126</td>\n",
       "      <td>1.176404</td>\n",
       "      <td>0.791669</td>\n",
       "      <td>1.417149</td>\n",
       "      <td>0.804618</td>\n",
       "      <td>1.682525</td>\n",
       "    </tr>\n",
       "    <tr>\n",
       "      <th>min</th>\n",
       "      <td>1.000000</td>\n",
       "      <td>0.000000</td>\n",
       "      <td>0.000000</td>\n",
       "      <td>0.000000</td>\n",
       "      <td>0.000000</td>\n",
       "      <td>0.000000</td>\n",
       "      <td>1.000000</td>\n",
       "      <td>1.000000</td>\n",
       "    </tr>\n",
       "    <tr>\n",
       "      <th>25%</th>\n",
       "      <td>2.000000</td>\n",
       "      <td>0.000000</td>\n",
       "      <td>3.000000</td>\n",
       "      <td>0.000000</td>\n",
       "      <td>0.000000</td>\n",
       "      <td>1.000000</td>\n",
       "      <td>2.750000</td>\n",
       "      <td>1.000000</td>\n",
       "    </tr>\n",
       "    <tr>\n",
       "      <th>50%</th>\n",
       "      <td>3.000000</td>\n",
       "      <td>0.000000</td>\n",
       "      <td>3.000000</td>\n",
       "      <td>0.000000</td>\n",
       "      <td>0.000000</td>\n",
       "      <td>2.000000</td>\n",
       "      <td>3.000000</td>\n",
       "      <td>1.000000</td>\n",
       "    </tr>\n",
       "    <tr>\n",
       "      <th>75%</th>\n",
       "      <td>3.000000</td>\n",
       "      <td>1.000000</td>\n",
       "      <td>4.000000</td>\n",
       "      <td>1.000000</td>\n",
       "      <td>0.000000</td>\n",
       "      <td>3.000000</td>\n",
       "      <td>3.000000</td>\n",
       "      <td>2.000000</td>\n",
       "    </tr>\n",
       "    <tr>\n",
       "      <th>max</th>\n",
       "      <td>3.000000</td>\n",
       "      <td>1.000000</td>\n",
       "      <td>6.000000</td>\n",
       "      <td>8.000000</td>\n",
       "      <td>6.000000</td>\n",
       "      <td>4.000000</td>\n",
       "      <td>6.000000</td>\n",
       "      <td>11.000000</td>\n",
       "    </tr>\n",
       "  </tbody>\n",
       "</table>\n",
       "</div>"
      ],
      "text/plain": [
       "           Pclass         Sex         Age       SibSp       Parch        Fare  \\\n",
       "count  712.000000  712.000000  712.000000  712.000000  712.000000  712.000000   \n",
       "mean     2.330056    0.344101    3.206461    0.553371    0.379213    1.988764   \n",
       "std      0.824584    0.475408    1.227126    1.176404    0.791669    1.417149   \n",
       "min      1.000000    0.000000    0.000000    0.000000    0.000000    0.000000   \n",
       "25%      2.000000    0.000000    3.000000    0.000000    0.000000    1.000000   \n",
       "50%      3.000000    0.000000    3.000000    0.000000    0.000000    2.000000   \n",
       "75%      3.000000    1.000000    4.000000    1.000000    0.000000    3.000000   \n",
       "max      3.000000    1.000000    6.000000    8.000000    6.000000    4.000000   \n",
       "\n",
       "            Title  family_size  \n",
       "count  712.000000   712.000000  \n",
       "mean     2.896067     1.932584  \n",
       "std      0.804618     1.682525  \n",
       "min      1.000000     1.000000  \n",
       "25%      2.750000     1.000000  \n",
       "50%      3.000000     1.000000  \n",
       "75%      3.000000     2.000000  \n",
       "max      6.000000    11.000000  "
      ]
     },
     "metadata": {},
     "output_type": "display_data"
    },
    {
     "data": {
      "text/html": [
       "<div>\n",
       "<style scoped>\n",
       "    .dataframe tbody tr th:only-of-type {\n",
       "        vertical-align: middle;\n",
       "    }\n",
       "\n",
       "    .dataframe tbody tr th {\n",
       "        vertical-align: top;\n",
       "    }\n",
       "\n",
       "    .dataframe thead th {\n",
       "        text-align: right;\n",
       "    }\n",
       "</style>\n",
       "<table border=\"1\" class=\"dataframe\">\n",
       "  <thead>\n",
       "    <tr style=\"text-align: right;\">\n",
       "      <th></th>\n",
       "      <th>Survived</th>\n",
       "    </tr>\n",
       "  </thead>\n",
       "  <tbody>\n",
       "    <tr>\n",
       "      <th>331</th>\n",
       "      <td>0</td>\n",
       "    </tr>\n",
       "    <tr>\n",
       "      <th>733</th>\n",
       "      <td>0</td>\n",
       "    </tr>\n",
       "    <tr>\n",
       "      <th>382</th>\n",
       "      <td>0</td>\n",
       "    </tr>\n",
       "    <tr>\n",
       "      <th>704</th>\n",
       "      <td>0</td>\n",
       "    </tr>\n",
       "    <tr>\n",
       "      <th>813</th>\n",
       "      <td>0</td>\n",
       "    </tr>\n",
       "    <tr>\n",
       "      <th>...</th>\n",
       "      <td>...</td>\n",
       "    </tr>\n",
       "    <tr>\n",
       "      <th>106</th>\n",
       "      <td>1</td>\n",
       "    </tr>\n",
       "    <tr>\n",
       "      <th>270</th>\n",
       "      <td>0</td>\n",
       "    </tr>\n",
       "    <tr>\n",
       "      <th>860</th>\n",
       "      <td>0</td>\n",
       "    </tr>\n",
       "    <tr>\n",
       "      <th>435</th>\n",
       "      <td>1</td>\n",
       "    </tr>\n",
       "    <tr>\n",
       "      <th>102</th>\n",
       "      <td>0</td>\n",
       "    </tr>\n",
       "  </tbody>\n",
       "</table>\n",
       "<p>712 rows × 1 columns</p>\n",
       "</div>"
      ],
      "text/plain": [
       "     Survived\n",
       "331         0\n",
       "733         0\n",
       "382         0\n",
       "704         0\n",
       "813         0\n",
       "..        ...\n",
       "106         1\n",
       "270         0\n",
       "860         0\n",
       "435         1\n",
       "102         0\n",
       "\n",
       "[712 rows x 1 columns]"
      ]
     },
     "metadata": {},
     "output_type": "display_data"
    },
    {
     "name": "stdout",
     "output_type": "stream",
     "text": [
      "\n",
      "\n",
      "****************************** VAL DATA ***************************\n",
      "\n"
     ]
    },
    {
     "data": {
      "text/html": [
       "<div>\n",
       "<style scoped>\n",
       "    .dataframe tbody tr th:only-of-type {\n",
       "        vertical-align: middle;\n",
       "    }\n",
       "\n",
       "    .dataframe tbody tr th {\n",
       "        vertical-align: top;\n",
       "    }\n",
       "\n",
       "    .dataframe thead th {\n",
       "        text-align: right;\n",
       "    }\n",
       "</style>\n",
       "<table border=\"1\" class=\"dataframe\">\n",
       "  <thead>\n",
       "    <tr style=\"text-align: right;\">\n",
       "      <th></th>\n",
       "      <th>Pclass</th>\n",
       "      <th>Sex</th>\n",
       "      <th>Age</th>\n",
       "      <th>SibSp</th>\n",
       "      <th>Parch</th>\n",
       "      <th>Fare</th>\n",
       "      <th>Title</th>\n",
       "      <th>family_size</th>\n",
       "    </tr>\n",
       "  </thead>\n",
       "  <tbody>\n",
       "    <tr>\n",
       "      <th>709</th>\n",
       "      <td>3</td>\n",
       "      <td>0</td>\n",
       "      <td>1</td>\n",
       "      <td>1</td>\n",
       "      <td>1</td>\n",
       "      <td>2</td>\n",
       "      <td>1</td>\n",
       "      <td>3</td>\n",
       "    </tr>\n",
       "    <tr>\n",
       "      <th>439</th>\n",
       "      <td>2</td>\n",
       "      <td>0</td>\n",
       "      <td>4</td>\n",
       "      <td>0</td>\n",
       "      <td>0</td>\n",
       "      <td>1</td>\n",
       "      <td>3</td>\n",
       "      <td>1</td>\n",
       "    </tr>\n",
       "    <tr>\n",
       "      <th>840</th>\n",
       "      <td>3</td>\n",
       "      <td>0</td>\n",
       "      <td>3</td>\n",
       "      <td>0</td>\n",
       "      <td>0</td>\n",
       "      <td>1</td>\n",
       "      <td>3</td>\n",
       "      <td>1</td>\n",
       "    </tr>\n",
       "    <tr>\n",
       "      <th>720</th>\n",
       "      <td>2</td>\n",
       "      <td>1</td>\n",
       "      <td>1</td>\n",
       "      <td>0</td>\n",
       "      <td>1</td>\n",
       "      <td>3</td>\n",
       "      <td>2</td>\n",
       "      <td>2</td>\n",
       "    </tr>\n",
       "    <tr>\n",
       "      <th>39</th>\n",
       "      <td>3</td>\n",
       "      <td>1</td>\n",
       "      <td>2</td>\n",
       "      <td>1</td>\n",
       "      <td>0</td>\n",
       "      <td>2</td>\n",
       "      <td>2</td>\n",
       "      <td>2</td>\n",
       "    </tr>\n",
       "    <tr>\n",
       "      <th>...</th>\n",
       "      <td>...</td>\n",
       "      <td>...</td>\n",
       "      <td>...</td>\n",
       "      <td>...</td>\n",
       "      <td>...</td>\n",
       "      <td>...</td>\n",
       "      <td>...</td>\n",
       "      <td>...</td>\n",
       "    </tr>\n",
       "    <tr>\n",
       "      <th>433</th>\n",
       "      <td>3</td>\n",
       "      <td>0</td>\n",
       "      <td>2</td>\n",
       "      <td>0</td>\n",
       "      <td>0</td>\n",
       "      <td>0</td>\n",
       "      <td>3</td>\n",
       "      <td>1</td>\n",
       "    </tr>\n",
       "    <tr>\n",
       "      <th>773</th>\n",
       "      <td>3</td>\n",
       "      <td>0</td>\n",
       "      <td>3</td>\n",
       "      <td>0</td>\n",
       "      <td>0</td>\n",
       "      <td>0</td>\n",
       "      <td>3</td>\n",
       "      <td>1</td>\n",
       "    </tr>\n",
       "    <tr>\n",
       "      <th>25</th>\n",
       "      <td>3</td>\n",
       "      <td>1</td>\n",
       "      <td>4</td>\n",
       "      <td>1</td>\n",
       "      <td>5</td>\n",
       "      <td>3</td>\n",
       "      <td>4</td>\n",
       "      <td>7</td>\n",
       "    </tr>\n",
       "    <tr>\n",
       "      <th>84</th>\n",
       "      <td>2</td>\n",
       "      <td>1</td>\n",
       "      <td>2</td>\n",
       "      <td>0</td>\n",
       "      <td>0</td>\n",
       "      <td>1</td>\n",
       "      <td>2</td>\n",
       "      <td>1</td>\n",
       "    </tr>\n",
       "    <tr>\n",
       "      <th>10</th>\n",
       "      <td>3</td>\n",
       "      <td>1</td>\n",
       "      <td>1</td>\n",
       "      <td>1</td>\n",
       "      <td>1</td>\n",
       "      <td>2</td>\n",
       "      <td>2</td>\n",
       "      <td>3</td>\n",
       "    </tr>\n",
       "  </tbody>\n",
       "</table>\n",
       "<p>179 rows × 8 columns</p>\n",
       "</div>"
      ],
      "text/plain": [
       "     Pclass  Sex  Age  SibSp  Parch  Fare  Title  family_size\n",
       "709       3    0    1      1      1     2      1            3\n",
       "439       2    0    4      0      0     1      3            1\n",
       "840       3    0    3      0      0     1      3            1\n",
       "720       2    1    1      0      1     3      2            2\n",
       "39        3    1    2      1      0     2      2            2\n",
       "..      ...  ...  ...    ...    ...   ...    ...          ...\n",
       "433       3    0    2      0      0     0      3            1\n",
       "773       3    0    3      0      0     0      3            1\n",
       "25        3    1    4      1      5     3      4            7\n",
       "84        2    1    2      0      0     1      2            1\n",
       "10        3    1    1      1      1     2      2            3\n",
       "\n",
       "[179 rows x 8 columns]"
      ]
     },
     "metadata": {},
     "output_type": "display_data"
    },
    {
     "data": {
      "text/html": [
       "<div>\n",
       "<style scoped>\n",
       "    .dataframe tbody tr th:only-of-type {\n",
       "        vertical-align: middle;\n",
       "    }\n",
       "\n",
       "    .dataframe tbody tr th {\n",
       "        vertical-align: top;\n",
       "    }\n",
       "\n",
       "    .dataframe thead th {\n",
       "        text-align: right;\n",
       "    }\n",
       "</style>\n",
       "<table border=\"1\" class=\"dataframe\">\n",
       "  <thead>\n",
       "    <tr style=\"text-align: right;\">\n",
       "      <th></th>\n",
       "      <th>Pclass</th>\n",
       "      <th>Sex</th>\n",
       "      <th>Age</th>\n",
       "      <th>SibSp</th>\n",
       "      <th>Parch</th>\n",
       "      <th>Fare</th>\n",
       "      <th>Title</th>\n",
       "      <th>family_size</th>\n",
       "    </tr>\n",
       "  </thead>\n",
       "  <tbody>\n",
       "    <tr>\n",
       "      <th>count</th>\n",
       "      <td>179.000000</td>\n",
       "      <td>179.000000</td>\n",
       "      <td>179.000000</td>\n",
       "      <td>179.000000</td>\n",
       "      <td>179.000000</td>\n",
       "      <td>179.000000</td>\n",
       "      <td>179.000000</td>\n",
       "      <td>179.000000</td>\n",
       "    </tr>\n",
       "    <tr>\n",
       "      <th>mean</th>\n",
       "      <td>2.223464</td>\n",
       "      <td>0.385475</td>\n",
       "      <td>3.279330</td>\n",
       "      <td>0.402235</td>\n",
       "      <td>0.391061</td>\n",
       "      <td>1.983240</td>\n",
       "      <td>2.849162</td>\n",
       "      <td>1.793296</td>\n",
       "    </tr>\n",
       "    <tr>\n",
       "      <th>std</th>\n",
       "      <td>0.877501</td>\n",
       "      <td>0.488073</td>\n",
       "      <td>1.204004</td>\n",
       "      <td>0.730703</td>\n",
       "      <td>0.863185</td>\n",
       "      <td>1.459086</td>\n",
       "      <td>0.857640</td>\n",
       "      <td>1.301149</td>\n",
       "    </tr>\n",
       "    <tr>\n",
       "      <th>min</th>\n",
       "      <td>1.000000</td>\n",
       "      <td>0.000000</td>\n",
       "      <td>0.000000</td>\n",
       "      <td>0.000000</td>\n",
       "      <td>0.000000</td>\n",
       "      <td>0.000000</td>\n",
       "      <td>0.000000</td>\n",
       "      <td>1.000000</td>\n",
       "    </tr>\n",
       "    <tr>\n",
       "      <th>25%</th>\n",
       "      <td>1.000000</td>\n",
       "      <td>0.000000</td>\n",
       "      <td>3.000000</td>\n",
       "      <td>0.000000</td>\n",
       "      <td>0.000000</td>\n",
       "      <td>1.000000</td>\n",
       "      <td>2.000000</td>\n",
       "      <td>1.000000</td>\n",
       "    </tr>\n",
       "    <tr>\n",
       "      <th>50%</th>\n",
       "      <td>3.000000</td>\n",
       "      <td>0.000000</td>\n",
       "      <td>3.000000</td>\n",
       "      <td>0.000000</td>\n",
       "      <td>0.000000</td>\n",
       "      <td>2.000000</td>\n",
       "      <td>3.000000</td>\n",
       "      <td>1.000000</td>\n",
       "    </tr>\n",
       "    <tr>\n",
       "      <th>75%</th>\n",
       "      <td>3.000000</td>\n",
       "      <td>1.000000</td>\n",
       "      <td>4.000000</td>\n",
       "      <td>1.000000</td>\n",
       "      <td>0.000000</td>\n",
       "      <td>3.000000</td>\n",
       "      <td>3.000000</td>\n",
       "      <td>2.000000</td>\n",
       "    </tr>\n",
       "    <tr>\n",
       "      <th>max</th>\n",
       "      <td>3.000000</td>\n",
       "      <td>1.000000</td>\n",
       "      <td>6.000000</td>\n",
       "      <td>4.000000</td>\n",
       "      <td>5.000000</td>\n",
       "      <td>4.000000</td>\n",
       "      <td>5.000000</td>\n",
       "      <td>7.000000</td>\n",
       "    </tr>\n",
       "  </tbody>\n",
       "</table>\n",
       "</div>"
      ],
      "text/plain": [
       "           Pclass         Sex         Age       SibSp       Parch        Fare  \\\n",
       "count  179.000000  179.000000  179.000000  179.000000  179.000000  179.000000   \n",
       "mean     2.223464    0.385475    3.279330    0.402235    0.391061    1.983240   \n",
       "std      0.877501    0.488073    1.204004    0.730703    0.863185    1.459086   \n",
       "min      1.000000    0.000000    0.000000    0.000000    0.000000    0.000000   \n",
       "25%      1.000000    0.000000    3.000000    0.000000    0.000000    1.000000   \n",
       "50%      3.000000    0.000000    3.000000    0.000000    0.000000    2.000000   \n",
       "75%      3.000000    1.000000    4.000000    1.000000    0.000000    3.000000   \n",
       "max      3.000000    1.000000    6.000000    4.000000    5.000000    4.000000   \n",
       "\n",
       "            Title  family_size  \n",
       "count  179.000000   179.000000  \n",
       "mean     2.849162     1.793296  \n",
       "std      0.857640     1.301149  \n",
       "min      0.000000     1.000000  \n",
       "25%      2.000000     1.000000  \n",
       "50%      3.000000     1.000000  \n",
       "75%      3.000000     2.000000  \n",
       "max      5.000000     7.000000  "
      ]
     },
     "metadata": {},
     "output_type": "display_data"
    },
    {
     "data": {
      "text/html": [
       "<div>\n",
       "<style scoped>\n",
       "    .dataframe tbody tr th:only-of-type {\n",
       "        vertical-align: middle;\n",
       "    }\n",
       "\n",
       "    .dataframe tbody tr th {\n",
       "        vertical-align: top;\n",
       "    }\n",
       "\n",
       "    .dataframe thead th {\n",
       "        text-align: right;\n",
       "    }\n",
       "</style>\n",
       "<table border=\"1\" class=\"dataframe\">\n",
       "  <thead>\n",
       "    <tr style=\"text-align: right;\">\n",
       "      <th></th>\n",
       "      <th>Survived</th>\n",
       "    </tr>\n",
       "  </thead>\n",
       "  <tbody>\n",
       "    <tr>\n",
       "      <th>709</th>\n",
       "      <td>1</td>\n",
       "    </tr>\n",
       "    <tr>\n",
       "      <th>439</th>\n",
       "      <td>0</td>\n",
       "    </tr>\n",
       "    <tr>\n",
       "      <th>840</th>\n",
       "      <td>0</td>\n",
       "    </tr>\n",
       "    <tr>\n",
       "      <th>720</th>\n",
       "      <td>1</td>\n",
       "    </tr>\n",
       "    <tr>\n",
       "      <th>39</th>\n",
       "      <td>1</td>\n",
       "    </tr>\n",
       "    <tr>\n",
       "      <th>...</th>\n",
       "      <td>...</td>\n",
       "    </tr>\n",
       "    <tr>\n",
       "      <th>433</th>\n",
       "      <td>0</td>\n",
       "    </tr>\n",
       "    <tr>\n",
       "      <th>773</th>\n",
       "      <td>0</td>\n",
       "    </tr>\n",
       "    <tr>\n",
       "      <th>25</th>\n",
       "      <td>1</td>\n",
       "    </tr>\n",
       "    <tr>\n",
       "      <th>84</th>\n",
       "      <td>1</td>\n",
       "    </tr>\n",
       "    <tr>\n",
       "      <th>10</th>\n",
       "      <td>1</td>\n",
       "    </tr>\n",
       "  </tbody>\n",
       "</table>\n",
       "<p>179 rows × 1 columns</p>\n",
       "</div>"
      ],
      "text/plain": [
       "     Survived\n",
       "709         1\n",
       "439         0\n",
       "840         0\n",
       "720         1\n",
       "39          1\n",
       "..        ...\n",
       "433         0\n",
       "773         0\n",
       "25          1\n",
       "84          1\n",
       "10          1\n",
       "\n",
       "[179 rows x 1 columns]"
      ]
     },
     "metadata": {},
     "output_type": "display_data"
    },
    {
     "name": "stdout",
     "output_type": "stream",
     "text": [
      "\n",
      "\n",
      "****************************** TEST DATA ***************************\n",
      "\n"
     ]
    },
    {
     "data": {
      "text/html": [
       "<div>\n",
       "<style scoped>\n",
       "    .dataframe tbody tr th:only-of-type {\n",
       "        vertical-align: middle;\n",
       "    }\n",
       "\n",
       "    .dataframe tbody tr th {\n",
       "        vertical-align: top;\n",
       "    }\n",
       "\n",
       "    .dataframe thead th {\n",
       "        text-align: right;\n",
       "    }\n",
       "</style>\n",
       "<table border=\"1\" class=\"dataframe\">\n",
       "  <thead>\n",
       "    <tr style=\"text-align: right;\">\n",
       "      <th></th>\n",
       "      <th>Pclass</th>\n",
       "      <th>Sex</th>\n",
       "      <th>Age</th>\n",
       "      <th>SibSp</th>\n",
       "      <th>Parch</th>\n",
       "      <th>Fare</th>\n",
       "      <th>Title</th>\n",
       "      <th>family_size</th>\n",
       "    </tr>\n",
       "  </thead>\n",
       "  <tbody>\n",
       "    <tr>\n",
       "      <th>0</th>\n",
       "      <td>3</td>\n",
       "      <td>0</td>\n",
       "      <td>4</td>\n",
       "      <td>0</td>\n",
       "      <td>0</td>\n",
       "      <td>0.0</td>\n",
       "      <td>3</td>\n",
       "      <td>1</td>\n",
       "    </tr>\n",
       "    <tr>\n",
       "      <th>1</th>\n",
       "      <td>3</td>\n",
       "      <td>1</td>\n",
       "      <td>5</td>\n",
       "      <td>1</td>\n",
       "      <td>0</td>\n",
       "      <td>0.0</td>\n",
       "      <td>4</td>\n",
       "      <td>2</td>\n",
       "    </tr>\n",
       "    <tr>\n",
       "      <th>2</th>\n",
       "      <td>2</td>\n",
       "      <td>0</td>\n",
       "      <td>6</td>\n",
       "      <td>0</td>\n",
       "      <td>0</td>\n",
       "      <td>1.0</td>\n",
       "      <td>3</td>\n",
       "      <td>1</td>\n",
       "    </tr>\n",
       "    <tr>\n",
       "      <th>3</th>\n",
       "      <td>3</td>\n",
       "      <td>0</td>\n",
       "      <td>3</td>\n",
       "      <td>0</td>\n",
       "      <td>0</td>\n",
       "      <td>1.0</td>\n",
       "      <td>3</td>\n",
       "      <td>1</td>\n",
       "    </tr>\n",
       "    <tr>\n",
       "      <th>4</th>\n",
       "      <td>3</td>\n",
       "      <td>1</td>\n",
       "      <td>3</td>\n",
       "      <td>1</td>\n",
       "      <td>1</td>\n",
       "      <td>2.0</td>\n",
       "      <td>4</td>\n",
       "      <td>3</td>\n",
       "    </tr>\n",
       "    <tr>\n",
       "      <th>...</th>\n",
       "      <td>...</td>\n",
       "      <td>...</td>\n",
       "      <td>...</td>\n",
       "      <td>...</td>\n",
       "      <td>...</td>\n",
       "      <td>...</td>\n",
       "      <td>...</td>\n",
       "      <td>...</td>\n",
       "    </tr>\n",
       "    <tr>\n",
       "      <th>413</th>\n",
       "      <td>3</td>\n",
       "      <td>0</td>\n",
       "      <td>3</td>\n",
       "      <td>0</td>\n",
       "      <td>0</td>\n",
       "      <td>1.0</td>\n",
       "      <td>3</td>\n",
       "      <td>1</td>\n",
       "    </tr>\n",
       "    <tr>\n",
       "      <th>414</th>\n",
       "      <td>1</td>\n",
       "      <td>1</td>\n",
       "      <td>4</td>\n",
       "      <td>0</td>\n",
       "      <td>0</td>\n",
       "      <td>4.0</td>\n",
       "      <td>0</td>\n",
       "      <td>1</td>\n",
       "    </tr>\n",
       "    <tr>\n",
       "      <th>415</th>\n",
       "      <td>3</td>\n",
       "      <td>0</td>\n",
       "      <td>4</td>\n",
       "      <td>0</td>\n",
       "      <td>0</td>\n",
       "      <td>0.0</td>\n",
       "      <td>3</td>\n",
       "      <td>1</td>\n",
       "    </tr>\n",
       "    <tr>\n",
       "      <th>416</th>\n",
       "      <td>3</td>\n",
       "      <td>0</td>\n",
       "      <td>3</td>\n",
       "      <td>0</td>\n",
       "      <td>0</td>\n",
       "      <td>1.0</td>\n",
       "      <td>3</td>\n",
       "      <td>1</td>\n",
       "    </tr>\n",
       "    <tr>\n",
       "      <th>417</th>\n",
       "      <td>3</td>\n",
       "      <td>0</td>\n",
       "      <td>1</td>\n",
       "      <td>1</td>\n",
       "      <td>1</td>\n",
       "      <td>3.0</td>\n",
       "      <td>1</td>\n",
       "      <td>3</td>\n",
       "    </tr>\n",
       "  </tbody>\n",
       "</table>\n",
       "<p>418 rows × 8 columns</p>\n",
       "</div>"
      ],
      "text/plain": [
       "     Pclass  Sex  Age  SibSp  Parch  Fare  Title  family_size\n",
       "0         3    0    4      0      0   0.0      3            1\n",
       "1         3    1    5      1      0   0.0      4            2\n",
       "2         2    0    6      0      0   1.0      3            1\n",
       "3         3    0    3      0      0   1.0      3            1\n",
       "4         3    1    3      1      1   2.0      4            3\n",
       "..      ...  ...  ...    ...    ...   ...    ...          ...\n",
       "413       3    0    3      0      0   1.0      3            1\n",
       "414       1    1    4      0      0   4.0      0            1\n",
       "415       3    0    4      0      0   0.0      3            1\n",
       "416       3    0    3      0      0   1.0      3            1\n",
       "417       3    0    1      1      1   3.0      1            3\n",
       "\n",
       "[418 rows x 8 columns]"
      ]
     },
     "metadata": {},
     "output_type": "display_data"
    },
    {
     "data": {
      "text/html": [
       "<div>\n",
       "<style scoped>\n",
       "    .dataframe tbody tr th:only-of-type {\n",
       "        vertical-align: middle;\n",
       "    }\n",
       "\n",
       "    .dataframe tbody tr th {\n",
       "        vertical-align: top;\n",
       "    }\n",
       "\n",
       "    .dataframe thead th {\n",
       "        text-align: right;\n",
       "    }\n",
       "</style>\n",
       "<table border=\"1\" class=\"dataframe\">\n",
       "  <thead>\n",
       "    <tr style=\"text-align: right;\">\n",
       "      <th></th>\n",
       "      <th>Pclass</th>\n",
       "      <th>Sex</th>\n",
       "      <th>Age</th>\n",
       "      <th>SibSp</th>\n",
       "      <th>Parch</th>\n",
       "      <th>Fare</th>\n",
       "      <th>Title</th>\n",
       "      <th>family_size</th>\n",
       "    </tr>\n",
       "  </thead>\n",
       "  <tbody>\n",
       "    <tr>\n",
       "      <th>count</th>\n",
       "      <td>418.000000</td>\n",
       "      <td>418.000000</td>\n",
       "      <td>418.000000</td>\n",
       "      <td>418.000000</td>\n",
       "      <td>418.000000</td>\n",
       "      <td>418.000000</td>\n",
       "      <td>418.000000</td>\n",
       "      <td>418.000000</td>\n",
       "    </tr>\n",
       "    <tr>\n",
       "      <th>mean</th>\n",
       "      <td>2.265550</td>\n",
       "      <td>0.363636</td>\n",
       "      <td>3.263158</td>\n",
       "      <td>0.447368</td>\n",
       "      <td>0.392344</td>\n",
       "      <td>1.966507</td>\n",
       "      <td>2.909091</td>\n",
       "      <td>1.839713</td>\n",
       "    </tr>\n",
       "    <tr>\n",
       "      <th>std</th>\n",
       "      <td>0.841838</td>\n",
       "      <td>0.481622</td>\n",
       "      <td>1.180429</td>\n",
       "      <td>0.896760</td>\n",
       "      <td>0.981429</td>\n",
       "      <td>1.475240</td>\n",
       "      <td>0.805475</td>\n",
       "      <td>1.519072</td>\n",
       "    </tr>\n",
       "    <tr>\n",
       "      <th>min</th>\n",
       "      <td>1.000000</td>\n",
       "      <td>0.000000</td>\n",
       "      <td>0.000000</td>\n",
       "      <td>0.000000</td>\n",
       "      <td>0.000000</td>\n",
       "      <td>0.000000</td>\n",
       "      <td>0.000000</td>\n",
       "      <td>1.000000</td>\n",
       "    </tr>\n",
       "    <tr>\n",
       "      <th>25%</th>\n",
       "      <td>1.000000</td>\n",
       "      <td>0.000000</td>\n",
       "      <td>3.000000</td>\n",
       "      <td>0.000000</td>\n",
       "      <td>0.000000</td>\n",
       "      <td>1.000000</td>\n",
       "      <td>3.000000</td>\n",
       "      <td>1.000000</td>\n",
       "    </tr>\n",
       "    <tr>\n",
       "      <th>50%</th>\n",
       "      <td>3.000000</td>\n",
       "      <td>0.000000</td>\n",
       "      <td>3.000000</td>\n",
       "      <td>0.000000</td>\n",
       "      <td>0.000000</td>\n",
       "      <td>2.000000</td>\n",
       "      <td>3.000000</td>\n",
       "      <td>1.000000</td>\n",
       "    </tr>\n",
       "    <tr>\n",
       "      <th>75%</th>\n",
       "      <td>3.000000</td>\n",
       "      <td>1.000000</td>\n",
       "      <td>4.000000</td>\n",
       "      <td>1.000000</td>\n",
       "      <td>0.000000</td>\n",
       "      <td>3.000000</td>\n",
       "      <td>3.000000</td>\n",
       "      <td>2.000000</td>\n",
       "    </tr>\n",
       "    <tr>\n",
       "      <th>max</th>\n",
       "      <td>3.000000</td>\n",
       "      <td>1.000000</td>\n",
       "      <td>6.000000</td>\n",
       "      <td>8.000000</td>\n",
       "      <td>9.000000</td>\n",
       "      <td>4.000000</td>\n",
       "      <td>6.000000</td>\n",
       "      <td>11.000000</td>\n",
       "    </tr>\n",
       "  </tbody>\n",
       "</table>\n",
       "</div>"
      ],
      "text/plain": [
       "           Pclass         Sex         Age       SibSp       Parch        Fare  \\\n",
       "count  418.000000  418.000000  418.000000  418.000000  418.000000  418.000000   \n",
       "mean     2.265550    0.363636    3.263158    0.447368    0.392344    1.966507   \n",
       "std      0.841838    0.481622    1.180429    0.896760    0.981429    1.475240   \n",
       "min      1.000000    0.000000    0.000000    0.000000    0.000000    0.000000   \n",
       "25%      1.000000    0.000000    3.000000    0.000000    0.000000    1.000000   \n",
       "50%      3.000000    0.000000    3.000000    0.000000    0.000000    2.000000   \n",
       "75%      3.000000    1.000000    4.000000    1.000000    0.000000    3.000000   \n",
       "max      3.000000    1.000000    6.000000    8.000000    9.000000    4.000000   \n",
       "\n",
       "            Title  family_size  \n",
       "count  418.000000   418.000000  \n",
       "mean     2.909091     1.839713  \n",
       "std      0.805475     1.519072  \n",
       "min      0.000000     1.000000  \n",
       "25%      3.000000     1.000000  \n",
       "50%      3.000000     1.000000  \n",
       "75%      3.000000     2.000000  \n",
       "max      6.000000    11.000000  "
      ]
     },
     "metadata": {},
     "output_type": "display_data"
    },
    {
     "data": {
      "text/html": [
       "<div>\n",
       "<style scoped>\n",
       "    .dataframe tbody tr th:only-of-type {\n",
       "        vertical-align: middle;\n",
       "    }\n",
       "\n",
       "    .dataframe tbody tr th {\n",
       "        vertical-align: top;\n",
       "    }\n",
       "\n",
       "    .dataframe thead th {\n",
       "        text-align: right;\n",
       "    }\n",
       "</style>\n",
       "<table border=\"1\" class=\"dataframe\">\n",
       "  <thead>\n",
       "    <tr style=\"text-align: right;\">\n",
       "      <th></th>\n",
       "      <th>PassengerId</th>\n",
       "    </tr>\n",
       "  </thead>\n",
       "  <tbody>\n",
       "    <tr>\n",
       "      <th>0</th>\n",
       "      <td>892</td>\n",
       "    </tr>\n",
       "    <tr>\n",
       "      <th>1</th>\n",
       "      <td>893</td>\n",
       "    </tr>\n",
       "    <tr>\n",
       "      <th>2</th>\n",
       "      <td>894</td>\n",
       "    </tr>\n",
       "    <tr>\n",
       "      <th>3</th>\n",
       "      <td>895</td>\n",
       "    </tr>\n",
       "    <tr>\n",
       "      <th>4</th>\n",
       "      <td>896</td>\n",
       "    </tr>\n",
       "    <tr>\n",
       "      <th>...</th>\n",
       "      <td>...</td>\n",
       "    </tr>\n",
       "    <tr>\n",
       "      <th>413</th>\n",
       "      <td>1305</td>\n",
       "    </tr>\n",
       "    <tr>\n",
       "      <th>414</th>\n",
       "      <td>1306</td>\n",
       "    </tr>\n",
       "    <tr>\n",
       "      <th>415</th>\n",
       "      <td>1307</td>\n",
       "    </tr>\n",
       "    <tr>\n",
       "      <th>416</th>\n",
       "      <td>1308</td>\n",
       "    </tr>\n",
       "    <tr>\n",
       "      <th>417</th>\n",
       "      <td>1309</td>\n",
       "    </tr>\n",
       "  </tbody>\n",
       "</table>\n",
       "<p>418 rows × 1 columns</p>\n",
       "</div>"
      ],
      "text/plain": [
       "     PassengerId\n",
       "0            892\n",
       "1            893\n",
       "2            894\n",
       "3            895\n",
       "4            896\n",
       "..           ...\n",
       "413         1305\n",
       "414         1306\n",
       "415         1307\n",
       "416         1308\n",
       "417         1309\n",
       "\n",
       "[418 rows x 1 columns]"
      ]
     },
     "metadata": {},
     "output_type": "display_data"
    }
   ],
   "source": [
    "x_train = df_train.drop([\"PassengerId\", \"Survived\", \"Embarked\"], axis=1)\n",
    "y_train = df_train[\"Survived\"].to_frame()\n",
    "\n",
    "print(\"****************************** TRAIN DATA ***************************\\n\")\n",
    "display(x_train)\n",
    "display(x_train.describe())\n",
    "display(y_train)\n",
    "\n",
    "\n",
    "x_val = df_val.drop([\"PassengerId\", \"Survived\", \"Embarked\"], axis=1)\n",
    "y_val = df_val[\"Survived\"].to_frame()\n",
    "\n",
    "print(\"\\n\\n****************************** VAL DATA ***************************\\n\")\n",
    "display(x_val)\n",
    "display(x_val.describe())\n",
    "display(y_val)\n",
    "\n",
    "\n",
    "x_test = df_test.drop([\"PassengerId\", \"Embarked\"], axis=1)\n",
    "x_passenger_ids = df_test[\"PassengerId\"].to_frame()\n",
    "\n",
    "print(\"\\n\\n****************************** TEST DATA ***************************\\n\")\n",
    "display(x_test)\n",
    "display(x_test.describe())\n",
    "display(x_passenger_ids)\n"
   ]
  },
  {
   "cell_type": "markdown",
   "id": "0b8f6289",
   "metadata": {
    "papermill": {
     "duration": 0.027672,
     "end_time": "2022-09-06T12:01:08.393337",
     "exception": false,
     "start_time": "2022-09-06T12:01:08.365665",
     "status": "completed"
    },
    "tags": []
   },
   "source": [
    "# PCA"
   ]
  },
  {
   "cell_type": "code",
   "execution_count": 36,
   "id": "a5dd787d",
   "metadata": {
    "execution": {
     "iopub.execute_input": "2022-09-06T12:01:08.450921Z",
     "iopub.status.busy": "2022-09-06T12:01:08.450549Z",
     "iopub.status.idle": "2022-09-06T12:01:08.707976Z",
     "shell.execute_reply": "2022-09-06T12:01:08.706484Z"
    },
    "papermill": {
     "duration": 0.289362,
     "end_time": "2022-09-06T12:01:08.710756",
     "exception": false,
     "start_time": "2022-09-06T12:01:08.421394",
     "status": "completed"
    },
    "tags": []
   },
   "outputs": [
    {
     "name": "stdout",
     "output_type": "stream",
     "text": [
      "Explained variance ration: [0.37679786 0.24955896]\n"
     ]
    },
    {
     "data": {
      "image/png": "[encoded data removed]",
      "text/plain": [
       "<Figure size 432x288 with 1 Axes>"
      ]
     },
     "metadata": {
      "needs_background": "light"
     },
     "output_type": "display_data"
    }
   ],
   "source": [
    "pca = PCA(n_components=2)\n",
    "\n",
    "principalComponents = pca.fit_transform(StandardScaler().fit_transform(x_train, y_train))\n",
    "\n",
    "principalDf = pd.DataFrame(data = principalComponents, columns = ['pca1', 'pca2'])\n",
    "\n",
    "finalPrincipalDf = pd.concat([principalDf, y_train[['Survived']]], axis = 1)\n",
    "\n",
    "sns.scatterplot(data=finalPrincipalDf, x=\"pca1\", y=\"pca2\", hue=\"Survived\", palette=\"deep\")\n",
    "print(f\"Explained variance ration: {pca.explained_variance_ratio_}\")"
   ]
  },
  {
   "cell_type": "code",
   "execution_count": 37,
   "id": "01f3a1ad",
   "metadata": {
    "execution": {
     "iopub.execute_input": "2022-09-06T12:01:08.770343Z",
     "iopub.status.busy": "2022-09-06T12:01:08.769973Z",
     "iopub.status.idle": "2022-09-06T12:01:08.782604Z",
     "shell.execute_reply": "2022-09-06T12:01:08.781272Z"
    },
    "papermill": {
     "duration": 0.046271,
     "end_time": "2022-09-06T12:01:08.785395",
     "exception": false,
     "start_time": "2022-09-06T12:01:08.739124",
     "status": "completed"
    },
    "tags": []
   },
   "outputs": [],
   "source": [
    "def grid_search(model, params, x_train, y_train):\n",
    "    kfold = StratifiedKFold(n_splits=5, shuffle=True, random_state=42)\n",
    "\n",
    "    pipeline = Pipeline([\n",
    "        ('scaler', StandardScaler()),\n",
    "        ('model', model)\n",
    "    ])\n",
    "    \n",
    "    cv = GridSearchCV(pipeline, param_grid=params, cv=kfold, scoring=\"accuracy\", n_jobs=-1, verbose=1)\n",
    "    cv.fit(x_train.to_numpy(), y_train.values.ravel())\n",
    "    \n",
    "    model = cv.best_estimator_[1]\n",
    "    score = cv.best_score_\n",
    "    \n",
    "    print(f\"Training: {score:.4f} {model}\")\n",
    "    \n",
    "    return score, model\n",
    "\n",
    "def evaluate(model, x_train, y_train, x_val, y_val):    \n",
    "    scaler = StandardScaler().fit(x_train, y_train)\n",
    "    \n",
    "    x_train = scaler.transform(x_train)\n",
    "    x_val = scaler.transform(x_val)\n",
    "        \n",
    "    model = model.fit(x_train, y_train.values.ravel())\n",
    "    score = model.score(x_val, y_val.values.ravel())\n",
    "    \n",
    "    print(f\"Evaluation: {score:.4f} {model}\")\n",
    "    \n",
    "    return score, model\n",
    "\n",
    "def get_test_predictions(model, x_train, y_train, x_test):    \n",
    "    scaler = StandardScaler().fit(x_train, y_train)\n",
    "    \n",
    "    x_train = scaler.transform(x_train)\n",
    "    x_test = scaler.transform(x_test)\n",
    "    \n",
    "    model = model.fit(x_train, y_train.values.ravel())\n",
    "    \n",
    "    return model.predict(x_test)\n",
    "\n",
    "def confusion_matrix(model, x_train, y_train, x_val, y_val):    \n",
    "    scaler = StandardScaler().fit(x_train, y_train)\n",
    "    \n",
    "    x_train = scaler.transform(x_train)\n",
    "    x_val = scaler.transform(x_val)\n",
    "    \n",
    "    model = model.fit(x_train, y_train.values.ravel())\n",
    "    \n",
    "    ConfusionMatrixDisplay.from_estimator(model, x_val, y_val)"
   ]
  },
  {
   "cell_type": "markdown",
   "id": "f816d5ce",
   "metadata": {
    "papermill": {
     "duration": 0.02925,
     "end_time": "2022-09-06T12:01:08.843577",
     "exception": false,
     "start_time": "2022-09-06T12:01:08.814327",
     "status": "completed"
    },
    "tags": []
   },
   "source": [
    "# Predict"
   ]
  },
  {
   "cell_type": "markdown",
   "id": "2fa365dd",
   "metadata": {
    "papermill": {
     "duration": 0.028635,
     "end_time": "2022-09-06T12:01:08.900618",
     "exception": false,
     "start_time": "2022-09-06T12:01:08.871983",
     "status": "completed"
    },
    "tags": []
   },
   "source": [
    "## Baseline"
   ]
  },
  {
   "cell_type": "code",
   "execution_count": 38,
   "id": "d907dcc7",
   "metadata": {
    "execution": {
     "iopub.execute_input": "2022-09-06T12:01:08.960392Z",
     "iopub.status.busy": "2022-09-06T12:01:08.960064Z",
     "iopub.status.idle": "2022-09-06T12:01:09.770989Z",
     "shell.execute_reply": "2022-09-06T12:01:09.770089Z"
    },
    "papermill": {
     "duration": 0.84272,
     "end_time": "2022-09-06T12:01:09.773152",
     "exception": false,
     "start_time": "2022-09-06T12:01:08.930432",
     "status": "completed"
    },
    "tags": []
   },
   "outputs": [
    {
     "name": "stdout",
     "output_type": "stream",
     "text": [
      "Fitting 5 folds for each of 1 candidates, totalling 5 fits\n",
      "Training: 0.6236 DummyClassifier(random_state=42)\n",
      "Evaluation: 0.5866 DummyClassifier(random_state=42)\n"
     ]
    }
   ],
   "source": [
    "train_score, model = grid_search(DummyClassifier(random_state=42), {}, x_train, y_train)\n",
    "val_score, model = evaluate(model, x_train, y_train, x_val, y_val)"
   ]
  },
  {
   "cell_type": "code",
   "execution_count": 39,
   "id": "b4332627",
   "metadata": {
    "execution": {
     "iopub.execute_input": "2022-09-06T12:01:09.833850Z",
     "iopub.status.busy": "2022-09-06T12:01:09.832699Z",
     "iopub.status.idle": "2022-09-06T12:01:09.837856Z",
     "shell.execute_reply": "2022-09-06T12:01:09.836498Z"
    },
    "papermill": {
     "duration": 0.038038,
     "end_time": "2022-09-06T12:01:09.840457",
     "exception": false,
     "start_time": "2022-09-06T12:01:09.802419",
     "status": "completed"
    },
    "tags": []
   },
   "outputs": [],
   "source": [
    "models = []"
   ]
  },
  {
   "cell_type": "markdown",
   "id": "cb0b9ce1",
   "metadata": {
    "papermill": {
     "duration": 0.028456,
     "end_time": "2022-09-06T12:01:09.897275",
     "exception": false,
     "start_time": "2022-09-06T12:01:09.868819",
     "status": "completed"
    },
    "tags": []
   },
   "source": [
    "## KNN"
   ]
  },
  {
   "cell_type": "code",
   "execution_count": 40,
   "id": "03dd0a24",
   "metadata": {
    "execution": {
     "iopub.execute_input": "2022-09-06T12:01:09.965227Z",
     "iopub.status.busy": "2022-09-06T12:01:09.964814Z",
     "iopub.status.idle": "2022-09-06T12:01:11.803511Z",
     "shell.execute_reply": "2022-09-06T12:01:11.802797Z"
    },
    "papermill": {
     "duration": 1.875261,
     "end_time": "2022-09-06T12:01:11.805456",
     "exception": false,
     "start_time": "2022-09-06T12:01:09.930195",
     "status": "completed"
    },
    "tags": []
   },
   "outputs": [
    {
     "name": "stdout",
     "output_type": "stream",
     "text": [
      "Fitting 5 folds for each of 138 candidates, totalling 690 fits\n",
      "Training: 0.8413 KNeighborsClassifier(n_neighbors=26)\n"
     ]
    }
   ],
   "source": [
    "param_grid = {\n",
    "    'model__n_neighbors': np.arange(1, 70, 1),\n",
    "    'model__weights': [\"uniform\", \"distance\"]\n",
    "}\n",
    "\n",
    "train_score, model = grid_search(KNeighborsClassifier(), param_grid, x_train, y_train)"
   ]
  },
  {
   "cell_type": "code",
   "execution_count": 41,
   "id": "4a951841",
   "metadata": {
    "execution": {
     "iopub.execute_input": "2022-09-06T12:01:11.877660Z",
     "iopub.status.busy": "2022-09-06T12:01:11.877279Z",
     "iopub.status.idle": "2022-09-06T12:01:12.066732Z",
     "shell.execute_reply": "2022-09-06T12:01:12.066002Z"
    },
    "papermill": {
     "duration": 0.234126,
     "end_time": "2022-09-06T12:01:12.068696",
     "exception": false,
     "start_time": "2022-09-06T12:01:11.834570",
     "status": "completed"
    },
    "tags": []
   },
   "outputs": [
    {
     "name": "stdout",
     "output_type": "stream",
     "text": [
      "Evaluation: 0.8156 KNeighborsClassifier(n_neighbors=26)\n"
     ]
    },
    {
     "data": {
      "image/png": "[encoded data removed]",
      "text/plain": [
       "<Figure size 432x288 with 2 Axes>"
      ]
     },
     "metadata": {
      "needs_background": "light"
     },
     "output_type": "display_data"
    }
   ],
   "source": [
    "val_score, model = evaluate(model, x_train, y_train, x_val, y_val)\n",
    "confusion_matrix(model, x_train, y_train, x_val, y_val)"
   ]
  },
  {
   "cell_type": "code",
   "execution_count": 42,
   "id": "4bf0adc1",
   "metadata": {
    "execution": {
     "iopub.execute_input": "2022-09-06T12:01:12.130227Z",
     "iopub.status.busy": "2022-09-06T12:01:12.129480Z",
     "iopub.status.idle": "2022-09-06T12:01:12.133667Z",
     "shell.execute_reply": "2022-09-06T12:01:12.133009Z"
    },
    "papermill": {
     "duration": 0.037432,
     "end_time": "2022-09-06T12:01:12.135908",
     "exception": false,
     "start_time": "2022-09-06T12:01:12.098476",
     "status": "completed"
    },
    "tags": []
   },
   "outputs": [],
   "source": [
    "models.append({\n",
    "    \"type\": \"KNN\",\n",
    "    \"model\": model,\n",
    "    \"val_score\": val_score,\n",
    "    \"train_score\": train_score\n",
    "})"
   ]
  },
  {
   "cell_type": "markdown",
   "id": "91aa2465",
   "metadata": {
    "papermill": {
     "duration": 0.028633,
     "end_time": "2022-09-06T12:01:12.193394",
     "exception": false,
     "start_time": "2022-09-06T12:01:12.164761",
     "status": "completed"
    },
    "tags": []
   },
   "source": [
    "## Random Forest"
   ]
  },
  {
   "cell_type": "code",
   "execution_count": 43,
   "id": "635abab5",
   "metadata": {
    "execution": {
     "iopub.execute_input": "2022-09-06T12:01:12.252334Z",
     "iopub.status.busy": "2022-09-06T12:01:12.251792Z",
     "iopub.status.idle": "2022-09-06T12:01:50.860808Z",
     "shell.execute_reply": "2022-09-06T12:01:50.859882Z"
    },
    "papermill": {
     "duration": 38.668959,
     "end_time": "2022-09-06T12:01:50.890879",
     "exception": false,
     "start_time": "2022-09-06T12:01:12.221920",
     "status": "completed"
    },
    "tags": []
   },
   "outputs": [
    {
     "name": "stdout",
     "output_type": "stream",
     "text": [
      "Fitting 5 folds for each of 448 candidates, totalling 2240 fits\n",
      "Training: 0.8399 RandomForestClassifier(max_depth=4, n_estimators=30, random_state=42)\n"
     ]
    }
   ],
   "source": [
    "param_grid = {\n",
    "    'model__max_depth': np.arange(2, 10, 1),\n",
    "    'model__n_estimators': np.arange(5, 61, 1)\n",
    "}\n",
    "\n",
    "train_score, model = grid_search(RandomForestClassifier(random_state=42), param_grid, x_train, y_train)"
   ]
  },
  {
   "cell_type": "code",
   "execution_count": 44,
   "id": "7cdb3fb3",
   "metadata": {
    "execution": {
     "iopub.execute_input": "2022-09-06T12:01:50.951264Z",
     "iopub.status.busy": "2022-09-06T12:01:50.950860Z",
     "iopub.status.idle": "2022-09-06T12:01:51.213579Z",
     "shell.execute_reply": "2022-09-06T12:01:51.212776Z"
    },
    "papermill": {
     "duration": 0.295892,
     "end_time": "2022-09-06T12:01:51.215577",
     "exception": false,
     "start_time": "2022-09-06T12:01:50.919685",
     "status": "completed"
    },
    "tags": []
   },
   "outputs": [
    {
     "name": "stdout",
     "output_type": "stream",
     "text": [
      "Evaluation: 0.8212 RandomForestClassifier(max_depth=4, n_estimators=30, random_state=42)\n"
     ]
    },
    {
     "data": {
      "image/png": "[encoded data removed]",
      "text/plain": [
       "<Figure size 432x288 with 2 Axes>"
      ]
     },
     "metadata": {
      "needs_background": "light"
     },
     "output_type": "display_data"
    }
   ],
   "source": [
    "val_score, model = evaluate(model, x_train, y_train, x_val, y_val)\n",
    "confusion_matrix(model, x_train, y_train, x_val, y_val)"
   ]
  },
  {
   "cell_type": "code",
   "execution_count": 45,
   "id": "8c31d74b",
   "metadata": {
    "execution": {
     "iopub.execute_input": "2022-09-06T12:01:51.276468Z",
     "iopub.status.busy": "2022-09-06T12:01:51.276118Z",
     "iopub.status.idle": "2022-09-06T12:01:51.280878Z",
     "shell.execute_reply": "2022-09-06T12:01:51.279840Z"
    },
    "papermill": {
     "duration": 0.037881,
     "end_time": "2022-09-06T12:01:51.283167",
     "exception": false,
     "start_time": "2022-09-06T12:01:51.245286",
     "status": "completed"
    },
    "tags": []
   },
   "outputs": [],
   "source": [
    "models.append({\n",
    "    \"type\": \"RandomForest\",\n",
    "    \"model\": model,\n",
    "    \"val_score\": val_score,\n",
    "    \"train_score\": train_score\n",
    "})"
   ]
  },
  {
   "cell_type": "markdown",
   "id": "7876a69f",
   "metadata": {
    "papermill": {
     "duration": 0.029809,
     "end_time": "2022-09-06T12:01:51.342387",
     "exception": false,
     "start_time": "2022-09-06T12:01:51.312578",
     "status": "completed"
    },
    "tags": []
   },
   "source": [
    "## Logistic Regression"
   ]
  },
  {
   "cell_type": "code",
   "execution_count": 46,
   "id": "0ec98a67",
   "metadata": {
    "execution": {
     "iopub.execute_input": "2022-09-06T12:01:51.403497Z",
     "iopub.status.busy": "2022-09-06T12:01:51.403093Z",
     "iopub.status.idle": "2022-09-06T12:01:52.513832Z",
     "shell.execute_reply": "2022-09-06T12:01:52.512781Z"
    },
    "papermill": {
     "duration": 1.144146,
     "end_time": "2022-09-06T12:01:52.516392",
     "exception": false,
     "start_time": "2022-09-06T12:01:51.372246",
     "status": "completed"
    },
    "tags": []
   },
   "outputs": [
    {
     "name": "stdout",
     "output_type": "stream",
     "text": [
      "Fitting 5 folds for each of 99 candidates, totalling 495 fits\n",
      "Training: 0.7935 LogisticRegression(C=0.010000000000000002, random_state=42)\n"
     ]
    }
   ],
   "source": [
    "param_grid = {\n",
    "    'model__C': np.arange(0.001, 0.1, 0.001)\n",
    "}\n",
    "\n",
    "train_score, model = grid_search(LogisticRegression(random_state=42), param_grid, x_train, y_train)"
   ]
  },
  {
   "cell_type": "code",
   "execution_count": 47,
   "id": "32400fda",
   "metadata": {
    "execution": {
     "iopub.execute_input": "2022-09-06T12:01:52.576258Z",
     "iopub.status.busy": "2022-09-06T12:01:52.575888Z",
     "iopub.status.idle": "2022-09-06T12:01:52.758227Z",
     "shell.execute_reply": "2022-09-06T12:01:52.756947Z"
    },
    "papermill": {
     "duration": 0.214805,
     "end_time": "2022-09-06T12:01:52.760538",
     "exception": false,
     "start_time": "2022-09-06T12:01:52.545733",
     "status": "completed"
    },
    "tags": []
   },
   "outputs": [
    {
     "name": "stdout",
     "output_type": "stream",
     "text": [
      "Evaluation: 0.8156 LogisticRegression(C=0.010000000000000002, random_state=42)\n"
     ]
    },
    {
     "data": {
      "image/png": "[encoded data removed]",
      "text/plain": [
       "<Figure size 432x288 with 2 Axes>"
      ]
     },
     "metadata": {
      "needs_background": "light"
     },
     "output_type": "display_data"
    }
   ],
   "source": [
    "val_score, model = evaluate(model, x_train, y_train, x_val, y_val)\n",
    "confusion_matrix(model, x_train, y_train, x_val, y_val)"
   ]
  },
  {
   "cell_type": "code",
   "execution_count": 48,
   "id": "2df2b0a0",
   "metadata": {
    "execution": {
     "iopub.execute_input": "2022-09-06T12:01:52.823593Z",
     "iopub.status.busy": "2022-09-06T12:01:52.823196Z",
     "iopub.status.idle": "2022-09-06T12:01:52.828211Z",
     "shell.execute_reply": "2022-09-06T12:01:52.827107Z"
    },
    "papermill": {
     "duration": 0.039293,
     "end_time": "2022-09-06T12:01:52.830666",
     "exception": false,
     "start_time": "2022-09-06T12:01:52.791373",
     "status": "completed"
    },
    "tags": []
   },
   "outputs": [],
   "source": [
    "models.append({\n",
    "    \"type\": \"LogisticRegression\",\n",
    "    \"model\": model,\n",
    "    \"val_score\": val_score,\n",
    "    \"train_score\": train_score\n",
    "})"
   ]
  },
  {
   "cell_type": "markdown",
   "id": "1d8ced6f",
   "metadata": {
    "papermill": {
     "duration": 0.030083,
     "end_time": "2022-09-06T12:01:52.890850",
     "exception": false,
     "start_time": "2022-09-06T12:01:52.860767",
     "status": "completed"
    },
    "tags": []
   },
   "source": [
    "## GradientBoostingClassifier"
   ]
  },
  {
   "cell_type": "code",
   "execution_count": 49,
   "id": "c8fda605",
   "metadata": {
    "execution": {
     "iopub.execute_input": "2022-09-06T12:01:52.952669Z",
     "iopub.status.busy": "2022-09-06T12:01:52.952310Z",
     "iopub.status.idle": "2022-09-06T12:02:12.136277Z",
     "shell.execute_reply": "2022-09-06T12:02:12.135014Z"
    },
    "papermill": {
     "duration": 19.217905,
     "end_time": "2022-09-06T12:02:12.138963",
     "exception": false,
     "start_time": "2022-09-06T12:01:52.921058",
     "status": "completed"
    },
    "tags": []
   },
   "outputs": [
    {
     "name": "stdout",
     "output_type": "stream",
     "text": [
      "Fitting 5 folds for each of 840 candidates, totalling 4200 fits\n",
      "Training: 0.8385 GradientBoostingClassifier(learning_rate=0.5499999999999999, n_estimators=9,\n",
      "                           random_state=42)\n"
     ]
    }
   ],
   "source": [
    "param_grid = {\n",
    "    'model__learning_rate': np.arange(0.25, 0.9, 0.1),\n",
    "    'model__n_estimators': np.arange(1, 25, 1),\n",
    "    'model__max_depth': np.arange(1, 6, 1)\n",
    "}\n",
    "\n",
    "train_score, model = grid_search(GradientBoostingClassifier(random_state=42), param_grid, x_train, y_train)"
   ]
  },
  {
   "cell_type": "code",
   "execution_count": 50,
   "id": "75aeffce",
   "metadata": {
    "execution": {
     "iopub.execute_input": "2022-09-06T12:02:12.200417Z",
     "iopub.status.busy": "2022-09-06T12:02:12.199793Z",
     "iopub.status.idle": "2022-09-06T12:02:12.392947Z",
     "shell.execute_reply": "2022-09-06T12:02:12.391861Z"
    },
    "papermill": {
     "duration": 0.226463,
     "end_time": "2022-09-06T12:02:12.395330",
     "exception": false,
     "start_time": "2022-09-06T12:02:12.168867",
     "status": "completed"
    },
    "tags": []
   },
   "outputs": [
    {
     "name": "stdout",
     "output_type": "stream",
     "text": [
      "Evaluation: 0.8212 GradientBoostingClassifier(learning_rate=0.5499999999999999, n_estimators=9,\n",
      "                           random_state=42)\n"
     ]
    },
    {
     "data": {
      "image/png": "[encoded data removed]",
      "text/plain": [
       "<Figure size 432x288 with 2 Axes>"
      ]
     },
     "metadata": {
      "needs_background": "light"
     },
     "output_type": "display_data"
    }
   ],
   "source": [
    "val_score, model = evaluate(model, x_train, y_train, x_val, y_val)\n",
    "confusion_matrix(model, x_train, y_train, x_val, y_val)"
   ]
  },
  {
   "cell_type": "code",
   "execution_count": 51,
   "id": "4c91b74f",
   "metadata": {
    "execution": {
     "iopub.execute_input": "2022-09-06T12:02:12.458752Z",
     "iopub.status.busy": "2022-09-06T12:02:12.457618Z",
     "iopub.status.idle": "2022-09-06T12:02:12.462966Z",
     "shell.execute_reply": "2022-09-06T12:02:12.462121Z"
    },
    "papermill": {
     "duration": 0.039695,
     "end_time": "2022-09-06T12:02:12.465371",
     "exception": false,
     "start_time": "2022-09-06T12:02:12.425676",
     "status": "completed"
    },
    "tags": []
   },
   "outputs": [],
   "source": [
    "models.append({\n",
    "    \"type\": \"GradientBoosting\",\n",
    "    \"model\": model,\n",
    "    \"val_score\": val_score,\n",
    "    \"train_score\": train_score\n",
    "})"
   ]
  },
  {
   "cell_type": "markdown",
   "id": "0a3b67f8",
   "metadata": {
    "papermill": {
     "duration": 0.030202,
     "end_time": "2022-09-06T12:02:12.527009",
     "exception": false,
     "start_time": "2022-09-06T12:02:12.496807",
     "status": "completed"
    },
    "tags": []
   },
   "source": [
    "## SVM"
   ]
  },
  {
   "cell_type": "code",
   "execution_count": 52,
   "id": "bd556d8c",
   "metadata": {
    "execution": {
     "iopub.execute_input": "2022-09-06T12:02:12.590228Z",
     "iopub.status.busy": "2022-09-06T12:02:12.589824Z",
     "iopub.status.idle": "2022-09-06T12:02:55.057946Z",
     "shell.execute_reply": "2022-09-06T12:02:55.057024Z"
    },
    "papermill": {
     "duration": 42.530788,
     "end_time": "2022-09-06T12:02:55.088671",
     "exception": false,
     "start_time": "2022-09-06T12:02:12.557883",
     "status": "completed"
    },
    "tags": []
   },
   "outputs": [
    {
     "name": "stdout",
     "output_type": "stream",
     "text": [
      "Fitting 5 folds for each of 1782 candidates, totalling 8910 fits\n",
      "Training: 0.8427 SVC(C=0.46, gamma=0.46, random_state=42)\n"
     ]
    }
   ],
   "source": [
    "param_grid = {\n",
    "    'model__C': np.arange(0.01, 1, 0.01),\n",
    "    'model__gamma':  list(np.arange(0.01, 0.8, 0.05)) + ['scale', 'auto']\n",
    "}\n",
    "\n",
    "train_score, model = grid_search(SVC(random_state=42), param_grid, x_train, y_train)"
   ]
  },
  {
   "cell_type": "code",
   "execution_count": 53,
   "id": "f4076b2a",
   "metadata": {
    "execution": {
     "iopub.execute_input": "2022-09-06T12:02:55.150456Z",
     "iopub.status.busy": "2022-09-06T12:02:55.149828Z",
     "iopub.status.idle": "2022-09-06T12:02:55.347806Z",
     "shell.execute_reply": "2022-09-06T12:02:55.347005Z"
    },
    "papermill": {
     "duration": 0.231581,
     "end_time": "2022-09-06T12:02:55.350090",
     "exception": false,
     "start_time": "2022-09-06T12:02:55.118509",
     "status": "completed"
    },
    "tags": []
   },
   "outputs": [
    {
     "name": "stdout",
     "output_type": "stream",
     "text": [
      "Evaluation: 0.8212 SVC(C=0.46, gamma=0.46, random_state=42)\n"
     ]
    },
    {
     "data": {
      "image/png": "[encoded data removed]",
      "text/plain": [
       "<Figure size 432x288 with 2 Axes>"
      ]
     },
     "metadata": {
      "needs_background": "light"
     },
     "output_type": "display_data"
    }
   ],
   "source": [
    "val_score, model = evaluate(model, x_train, y_train, x_val, y_val)\n",
    "confusion_matrix(model, x_train, y_train, x_val, y_val)"
   ]
  },
  {
   "cell_type": "code",
   "execution_count": 54,
   "id": "464a6c01",
   "metadata": {
    "execution": {
     "iopub.execute_input": "2022-09-06T12:02:55.413067Z",
     "iopub.status.busy": "2022-09-06T12:02:55.412408Z",
     "iopub.status.idle": "2022-09-06T12:02:55.416961Z",
     "shell.execute_reply": "2022-09-06T12:02:55.416189Z"
    },
    "papermill": {
     "duration": 0.037936,
     "end_time": "2022-09-06T12:02:55.418626",
     "exception": false,
     "start_time": "2022-09-06T12:02:55.380690",
     "status": "completed"
    },
    "tags": []
   },
   "outputs": [],
   "source": [
    "models.append({\n",
    "    \"type\": \"SVM\",\n",
    "    \"model\": model,\n",
    "    \"val_score\": val_score,\n",
    "    \"train_score\": train_score\n",
    "})"
   ]
  },
  {
   "cell_type": "markdown",
   "id": "72d35a7b",
   "metadata": {
    "papermill": {
     "duration": 0.029366,
     "end_time": "2022-09-06T12:02:55.477609",
     "exception": false,
     "start_time": "2022-09-06T12:02:55.448243",
     "status": "completed"
    },
    "tags": []
   },
   "source": [
    "## AdaBoost"
   ]
  },
  {
   "cell_type": "code",
   "execution_count": 55,
   "id": "7a831f6d",
   "metadata": {
    "execution": {
     "iopub.execute_input": "2022-09-06T12:02:55.538960Z",
     "iopub.status.busy": "2022-09-06T12:02:55.538257Z",
     "iopub.status.idle": "2022-09-06T12:03:43.642826Z",
     "shell.execute_reply": "2022-09-06T12:03:43.642014Z"
    },
    "papermill": {
     "duration": 48.168236,
     "end_time": "2022-09-06T12:03:43.675446",
     "exception": false,
     "start_time": "2022-09-06T12:02:55.507210",
     "status": "completed"
    },
    "tags": []
   },
   "outputs": [
    {
     "name": "stdout",
     "output_type": "stream",
     "text": [
      "Fitting 5 folds for each of 686 candidates, totalling 3430 fits\n",
      "Training: 0.8371 AdaBoostClassifier(learning_rate=0.36000000000000004, n_estimators=22,\n",
      "                   random_state=42)\n"
     ]
    }
   ],
   "source": [
    "param_grid = {\n",
    "    'model__n_estimators': np.arange(1, 50, 1),\n",
    "    'model__learning_rate': np.arange(0.01, 0.7, 0.05)\n",
    "}\n",
    "\n",
    "train_score, model = grid_search(AdaBoostClassifier(random_state=42), param_grid, x_train, y_train)"
   ]
  },
  {
   "cell_type": "code",
   "execution_count": 56,
   "id": "607ff8c4",
   "metadata": {
    "execution": {
     "iopub.execute_input": "2022-09-06T12:03:43.737833Z",
     "iopub.status.busy": "2022-09-06T12:03:43.737242Z",
     "iopub.status.idle": "2022-09-06T12:03:43.983125Z",
     "shell.execute_reply": "2022-09-06T12:03:43.982000Z"
    },
    "papermill": {
     "duration": 0.279608,
     "end_time": "2022-09-06T12:03:43.985503",
     "exception": false,
     "start_time": "2022-09-06T12:03:43.705895",
     "status": "completed"
    },
    "tags": []
   },
   "outputs": [
    {
     "name": "stdout",
     "output_type": "stream",
     "text": [
      "Evaluation: 0.8212 AdaBoostClassifier(learning_rate=0.36000000000000004, n_estimators=22,\n",
      "                   random_state=42)\n"
     ]
    },
    {
     "data": {
      "image/png": "[encoded data removed]",
      "text/plain": [
       "<Figure size 432x288 with 2 Axes>"
      ]
     },
     "metadata": {
      "needs_background": "light"
     },
     "output_type": "display_data"
    }
   ],
   "source": [
    "val_score, model = evaluate(model, x_train, y_train, x_val, y_val)\n",
    "confusion_matrix(model, x_train, y_train, x_val, y_val)"
   ]
  },
  {
   "cell_type": "code",
   "execution_count": 57,
   "id": "4a44e692",
   "metadata": {
    "execution": {
     "iopub.execute_input": "2022-09-06T12:03:44.053996Z",
     "iopub.status.busy": "2022-09-06T12:03:44.053363Z",
     "iopub.status.idle": "2022-09-06T12:03:44.057878Z",
     "shell.execute_reply": "2022-09-06T12:03:44.057184Z"
    },
    "papermill": {
     "duration": 0.039722,
     "end_time": "2022-09-06T12:03:44.059732",
     "exception": false,
     "start_time": "2022-09-06T12:03:44.020010",
     "status": "completed"
    },
    "tags": []
   },
   "outputs": [],
   "source": [
    "models.append({\n",
    "    \"type\": \"AdaBoost\",\n",
    "    \"model\": model,\n",
    "    \"val_score\": val_score,\n",
    "    \"train_score\": train_score\n",
    "})"
   ]
  },
  {
   "cell_type": "markdown",
   "id": "8e08b7f5",
   "metadata": {
    "papermill": {
     "duration": 0.030986,
     "end_time": "2022-09-06T12:03:44.128918",
     "exception": false,
     "start_time": "2022-09-06T12:03:44.097932",
     "status": "completed"
    },
    "tags": []
   },
   "source": [
    "## Models"
   ]
  },
  {
   "cell_type": "code",
   "execution_count": 58,
   "id": "425ddc8c",
   "metadata": {
    "execution": {
     "iopub.execute_input": "2022-09-06T12:03:44.196656Z",
     "iopub.status.busy": "2022-09-06T12:03:44.195949Z",
     "iopub.status.idle": "2022-09-06T12:03:44.246869Z",
     "shell.execute_reply": "2022-09-06T12:03:44.245943Z"
    },
    "papermill": {
     "duration": 0.088713,
     "end_time": "2022-09-06T12:03:44.249164",
     "exception": false,
     "start_time": "2022-09-06T12:03:44.160451",
     "status": "completed"
    },
    "tags": []
   },
   "outputs": [
    {
     "data": {
      "text/html": [
       "<div>\n",
       "<style scoped>\n",
       "    .dataframe tbody tr th:only-of-type {\n",
       "        vertical-align: middle;\n",
       "    }\n",
       "\n",
       "    .dataframe tbody tr th {\n",
       "        vertical-align: top;\n",
       "    }\n",
       "\n",
       "    .dataframe thead th {\n",
       "        text-align: right;\n",
       "    }\n",
       "</style>\n",
       "<table border=\"1\" class=\"dataframe\">\n",
       "  <thead>\n",
       "    <tr style=\"text-align: right;\">\n",
       "      <th></th>\n",
       "      <th>type</th>\n",
       "      <th>model</th>\n",
       "      <th>val_score</th>\n",
       "      <th>train_score</th>\n",
       "    </tr>\n",
       "  </thead>\n",
       "  <tbody>\n",
       "    <tr>\n",
       "      <th>0</th>\n",
       "      <td>RandomForest</td>\n",
       "      <td>(DecisionTreeClassifier(max_depth=4, max_featu...</td>\n",
       "      <td>0.821229</td>\n",
       "      <td>0.839890</td>\n",
       "    </tr>\n",
       "    <tr>\n",
       "      <th>1</th>\n",
       "      <td>GradientBoosting</td>\n",
       "      <td>([DecisionTreeRegressor(criterion='friedman_ms...</td>\n",
       "      <td>0.821229</td>\n",
       "      <td>0.838491</td>\n",
       "    </tr>\n",
       "    <tr>\n",
       "      <th>2</th>\n",
       "      <td>SVM</td>\n",
       "      <td>SVC(C=0.46, gamma=0.46, random_state=42)</td>\n",
       "      <td>0.821229</td>\n",
       "      <td>0.842677</td>\n",
       "    </tr>\n",
       "    <tr>\n",
       "      <th>3</th>\n",
       "      <td>AdaBoost</td>\n",
       "      <td>(DecisionTreeClassifier(max_depth=1, random_st...</td>\n",
       "      <td>0.821229</td>\n",
       "      <td>0.837063</td>\n",
       "    </tr>\n",
       "    <tr>\n",
       "      <th>4</th>\n",
       "      <td>KNN</td>\n",
       "      <td>KNeighborsClassifier(n_neighbors=26)</td>\n",
       "      <td>0.815642</td>\n",
       "      <td>0.841278</td>\n",
       "    </tr>\n",
       "    <tr>\n",
       "      <th>5</th>\n",
       "      <td>LogisticRegression</td>\n",
       "      <td>LogisticRegression(C=0.010000000000000002, ran...</td>\n",
       "      <td>0.815642</td>\n",
       "      <td>0.793529</td>\n",
       "    </tr>\n",
       "  </tbody>\n",
       "</table>\n",
       "</div>"
      ],
      "text/plain": [
       "                 type                                              model  \\\n",
       "0        RandomForest  (DecisionTreeClassifier(max_depth=4, max_featu...   \n",
       "1    GradientBoosting  ([DecisionTreeRegressor(criterion='friedman_ms...   \n",
       "2                 SVM           SVC(C=0.46, gamma=0.46, random_state=42)   \n",
       "3            AdaBoost  (DecisionTreeClassifier(max_depth=1, random_st...   \n",
       "4                 KNN               KNeighborsClassifier(n_neighbors=26)   \n",
       "5  LogisticRegression  LogisticRegression(C=0.010000000000000002, ran...   \n",
       "\n",
       "   val_score  train_score  \n",
       "0   0.821229     0.839890  \n",
       "1   0.821229     0.838491  \n",
       "2   0.821229     0.842677  \n",
       "3   0.821229     0.837063  \n",
       "4   0.815642     0.841278  \n",
       "5   0.815642     0.793529  "
      ]
     },
     "execution_count": 58,
     "metadata": {},
     "output_type": "execute_result"
    }
   ],
   "source": [
    "models.sort(key=lambda x: x['val_score'], reverse=True)\n",
    "pd.DataFrame(models)"
   ]
  },
  {
   "cell_type": "code",
   "execution_count": 59,
   "id": "5bde70ca",
   "metadata": {
    "execution": {
     "iopub.execute_input": "2022-09-06T12:03:44.317692Z",
     "iopub.status.busy": "2022-09-06T12:03:44.316959Z",
     "iopub.status.idle": "2022-09-06T12:03:44.324560Z",
     "shell.execute_reply": "2022-09-06T12:03:44.323258Z"
    },
    "papermill": {
     "duration": 0.043303,
     "end_time": "2022-09-06T12:03:44.327161",
     "exception": false,
     "start_time": "2022-09-06T12:03:44.283858",
     "status": "completed"
    },
    "tags": []
   },
   "outputs": [
    {
     "name": "stdout",
     "output_type": "stream",
     "text": [
      "['RandomForest']\n",
      "['GradientBoosting']\n",
      "['SVM']\n",
      "['AdaBoost']\n",
      "['KNN']\n",
      "['LogisticRegression']\n",
      "['RandomForest', 'GradientBoosting', 'SVM']\n",
      "['RandomForest', 'GradientBoosting', 'AdaBoost']\n",
      "['RandomForest', 'GradientBoosting', 'KNN']\n",
      "['RandomForest', 'GradientBoosting', 'LogisticRegression']\n",
      "['RandomForest', 'SVM', 'AdaBoost']\n",
      "['RandomForest', 'SVM', 'KNN']\n",
      "['RandomForest', 'SVM', 'LogisticRegression']\n",
      "['RandomForest', 'AdaBoost', 'KNN']\n",
      "['RandomForest', 'AdaBoost', 'LogisticRegression']\n",
      "['RandomForest', 'KNN', 'LogisticRegression']\n",
      "['GradientBoosting', 'SVM', 'AdaBoost']\n",
      "['GradientBoosting', 'SVM', 'KNN']\n",
      "['GradientBoosting', 'SVM', 'LogisticRegression']\n",
      "['GradientBoosting', 'AdaBoost', 'KNN']\n",
      "['GradientBoosting', 'AdaBoost', 'LogisticRegression']\n",
      "['GradientBoosting', 'KNN', 'LogisticRegression']\n",
      "['SVM', 'AdaBoost', 'KNN']\n",
      "['SVM', 'AdaBoost', 'LogisticRegression']\n",
      "['SVM', 'KNN', 'LogisticRegression']\n",
      "['AdaBoost', 'KNN', 'LogisticRegression']\n",
      "['RandomForest', 'GradientBoosting', 'SVM', 'AdaBoost', 'KNN']\n",
      "['RandomForest', 'GradientBoosting', 'SVM', 'AdaBoost', 'LogisticRegression']\n",
      "['RandomForest', 'GradientBoosting', 'SVM', 'KNN', 'LogisticRegression']\n",
      "['RandomForest', 'GradientBoosting', 'AdaBoost', 'KNN', 'LogisticRegression']\n",
      "['RandomForest', 'SVM', 'AdaBoost', 'KNN', 'LogisticRegression']\n",
      "['GradientBoosting', 'SVM', 'AdaBoost', 'KNN', 'LogisticRegression']\n"
     ]
    }
   ],
   "source": [
    "possible_voting_estimators = list(map(lambda x: (x['type'], x['model']), models))\n",
    "possible_voting_estimator_combinations = list(itertools.combinations(possible_voting_estimators, 1)) + \\\n",
    "                                        list(itertools.combinations(possible_voting_estimators, 3)) + \\\n",
    "                                        list(itertools.combinations(possible_voting_estimators, 5))\n",
    "\n",
    "for estimators in possible_voting_estimator_combinations:\n",
    "    print(list(map(lambda x: x[0], estimators)))"
   ]
  },
  {
   "cell_type": "markdown",
   "id": "b99daae1",
   "metadata": {
    "papermill": {
     "duration": 0.030515,
     "end_time": "2022-09-06T12:03:44.396326",
     "exception": false,
     "start_time": "2022-09-06T12:03:44.365811",
     "status": "completed"
    },
    "tags": []
   },
   "source": [
    "# Final Ensemble Classification"
   ]
  },
  {
   "cell_type": "code",
   "execution_count": 60,
   "id": "3ceb7e75",
   "metadata": {
    "execution": {
     "iopub.execute_input": "2022-09-06T12:03:44.460873Z",
     "iopub.status.busy": "2022-09-06T12:03:44.460132Z",
     "iopub.status.idle": "2022-09-06T12:03:48.043857Z",
     "shell.execute_reply": "2022-09-06T12:03:48.041530Z"
    },
    "papermill": {
     "duration": 3.618845,
     "end_time": "2022-09-06T12:03:48.046469",
     "exception": false,
     "start_time": "2022-09-06T12:03:44.427624",
     "status": "completed"
    },
    "tags": []
   },
   "outputs": [
    {
     "name": "stdout",
     "output_type": "stream",
     "text": [
      "Fitting 5 folds for each of 32 candidates, totalling 160 fits\n",
      "Training: 0.8483 VotingClassifier(estimators=(('GradientBoosting',\n",
      "                              GradientBoostingClassifier(learning_rate=0.5499999999999999,\n",
      "                                                         n_estimators=9,\n",
      "                                                         random_state=42)),\n",
      "                             ('KNN', KNeighborsClassifier(n_neighbors=26)),\n",
      "                             ('LogisticRegression',\n",
      "                              LogisticRegression(C=0.010000000000000002,\n",
      "                                                 random_state=42))))\n"
     ]
    }
   ],
   "source": [
    "param_grid = {\n",
    "    'model__estimators': possible_voting_estimator_combinations\n",
    "}\n",
    "\n",
    "train_score, model = grid_search(VotingClassifier(estimators=[]), param_grid, x_train, y_train)"
   ]
  },
  {
   "cell_type": "code",
   "execution_count": 61,
   "id": "b3251b54",
   "metadata": {
    "execution": {
     "iopub.execute_input": "2022-09-06T12:03:48.112299Z",
     "iopub.status.busy": "2022-09-06T12:03:48.111922Z",
     "iopub.status.idle": "2022-09-06T12:03:48.618656Z",
     "shell.execute_reply": "2022-09-06T12:03:48.617486Z"
    },
    "papermill": {
     "duration": 0.542385,
     "end_time": "2022-09-06T12:03:48.620790",
     "exception": false,
     "start_time": "2022-09-06T12:03:48.078405",
     "status": "completed"
    },
    "tags": []
   },
   "outputs": [
    {
     "name": "stdout",
     "output_type": "stream",
     "text": [
      "Evaluation: 0.8268 VotingClassifier(estimators=[('vote1',\n",
      "                              VotingClassifier(estimators=[('RandomForest',\n",
      "                                                            RandomForestClassifier(max_depth=4,\n",
      "                                                                                   n_estimators=43,\n",
      "                                                                                   random_state=42))])),\n",
      "                             ('vote2',\n",
      "                              VotingClassifier(estimators=[('RandomForest',\n",
      "                                                            RandomForestClassifier(max_depth=6,\n",
      "                                                                                   n_estimators=33,\n",
      "                                                                                   random_state=42)),\n",
      "                                                           ('SVM',\n",
      "                                                            SVC(C=0.38,\n",
      "                                                                gamma=0.31000000000000005,\n",
      "                                                                random_state=42)),\n",
      "                                                           ('LogisticRegression',\n",
      "                                                            LogisticRegression(C=0.1,\n",
      "                                                                               random_state=42))])),\n",
      "                             ('vote3',\n",
      "                              VotingClassifier(estimators=[('GradientBoosting',\n",
      "                                                            GradientBoostingClassifier(learning_rate=0.5499999999999999,\n",
      "                                                                                       n_estimators=9,\n",
      "                                                                                       random_state=42)),\n",
      "                                                           ('KNN',\n",
      "                                                            KNeighborsClassifier(n_neighbors=26)),\n",
      "                                                           ('LogisticRegression',\n",
      "                                                            LogisticRegression(C=0.010000000000000002,\n",
      "                                                                               random_state=42))]))])\n"
     ]
    },
    {
     "data": {
      "image/png": "[encoded data removed]",
      "text/plain": [
       "<Figure size 432x288 with 2 Axes>"
      ]
     },
     "metadata": {
      "needs_background": "light"
     },
     "output_type": "display_data"
    }
   ],
   "source": [
    "model = VotingClassifier(estimators=[\n",
    "    (\"vote1\", VotingClassifier(estimators=[\n",
    "                             ('RandomForest', RandomForestClassifier(max_depth=4, n_estimators=43, random_state=42))\n",
    "    ])),\n",
    "    (\"vote2\", VotingClassifier(estimators=[\n",
    "                             ('RandomForest', RandomForestClassifier(max_depth=6, n_estimators=33, random_state=42)),\n",
    "                             ('SVM', SVC(C=0.38, gamma=0.31000000000000005, random_state=42)),\n",
    "                             ('LogisticRegression', LogisticRegression(C=0.1, random_state=42))\n",
    "    ])),\n",
    "    (\"vote3\", VotingClassifier(estimators=[\n",
    "                             ('GradientBoosting', GradientBoostingClassifier(learning_rate=0.5499999999999999, n_estimators=9, random_state=42)),\n",
    "                             ('KNN', KNeighborsClassifier(n_neighbors=26)),\n",
    "                             ('LogisticRegression', LogisticRegression(C=0.010000000000000002, random_state=42))\n",
    "    ]))\n",
    "])\n",
    "\n",
    "val_score, model = evaluate(model, x_train, y_train, x_val, y_val)\n",
    "confusion_matrix(model, x_train, y_train, x_val, y_val)"
   ]
  },
  {
   "cell_type": "markdown",
   "id": "4c02473d",
   "metadata": {
    "papermill": {
     "duration": 0.031486,
     "end_time": "2022-09-06T12:03:48.684517",
     "exception": false,
     "start_time": "2022-09-06T12:03:48.653031",
     "status": "completed"
    },
    "tags": []
   },
   "source": [
    "# Get Testset Predictions"
   ]
  },
  {
   "cell_type": "code",
   "execution_count": 62,
   "id": "bdd4b479",
   "metadata": {
    "execution": {
     "iopub.execute_input": "2022-09-06T12:03:48.748607Z",
     "iopub.status.busy": "2022-09-06T12:03:48.748223Z",
     "iopub.status.idle": "2022-09-06T12:03:48.929064Z",
     "shell.execute_reply": "2022-09-06T12:03:48.928015Z"
    },
    "papermill": {
     "duration": 0.215313,
     "end_time": "2022-09-06T12:03:48.931188",
     "exception": false,
     "start_time": "2022-09-06T12:03:48.715875",
     "status": "completed"
    },
    "tags": []
   },
   "outputs": [
    {
     "data": {
      "text/plain": [
       "0    258\n",
       "1    160\n",
       "Name: Survived, dtype: int64"
      ]
     },
     "execution_count": 62,
     "metadata": {},
     "output_type": "execute_result"
    }
   ],
   "source": [
    "y_test_pred = get_test_predictions(model, x_train, y_train, x_test)\n",
    "\n",
    "x_passenger_ids[\"Survived\"] = y_test_pred\n",
    "x_passenger_ids['Survived'].value_counts()"
   ]
  },
  {
   "cell_type": "code",
   "execution_count": 63,
   "id": "17c28540",
   "metadata": {
    "execution": {
     "iopub.execute_input": "2022-09-06T12:03:48.995976Z",
     "iopub.status.busy": "2022-09-06T12:03:48.995058Z",
     "iopub.status.idle": "2022-09-06T12:03:49.003153Z",
     "shell.execute_reply": "2022-09-06T12:03:49.002382Z"
    },
    "papermill": {
     "duration": 0.042868,
     "end_time": "2022-09-06T12:03:49.005524",
     "exception": false,
     "start_time": "2022-09-06T12:03:48.962656",
     "status": "completed"
    },
    "tags": []
   },
   "outputs": [],
   "source": [
    "x_passenger_ids.to_csv(f\"submission.csv\", index=False)"
   ]
  },
  {
   "cell_type": "code",
   "execution_count": null,
   "id": "675544c2",
   "metadata": {
    "papermill": {
     "duration": 0.030774,
     "end_time": "2022-09-06T12:03:49.068665",
     "exception": false,
     "start_time": "2022-09-06T12:03:49.037891",
     "status": "completed"
    },
    "tags": []
   },
   "outputs": [],
   "source": []
  }
 ],
 "metadata": {
  "kernelspec": {
   "display_name": "Python 3",
   "language": "python",
   "name": "python3"
  },
  "language_info": {
   "codemirror_mode": {
    "name": "ipython",
    "version": 3
   },
   "file_extension": ".py",
   "mimetype": "text/x-python",
   "name": "python",
   "nbconvert_exporter": "python",
   "pygments_lexer": "ipython3",
   "version": "3.7.12"
  },
  "papermill": {
   "default_parameters": {},
   "duration": 179.565653,
   "end_time": "2022-09-06T12:03:51.719386",
   "environment_variables": {},
   "exception": null,
   "input_path": "__notebook__.ipynb",
   "output_path": "__notebook__.ipynb",
   "parameters": {},
   "start_time": "2022-09-06T12:00:52.153733",
   "version": "2.3.4"
  }
 },
 "nbformat": 4,
 "nbformat_minor": 5
}
